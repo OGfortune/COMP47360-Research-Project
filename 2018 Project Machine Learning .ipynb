{
 "cells": [
  {
   "cell_type": "code",
   "execution_count": 1,
   "id": "392eee57",
   "metadata": {},
   "outputs": [],
   "source": [
    "import pandas as pd\n",
    "import numpy as np\n",
    "import matplotlib.pyplot as plt\n",
    "import seaborn as sns\n",
    "\n",
    "import seaborn as sns\n",
    "import matplotlib.pyplot as plt\n",
    "\n",
    "\n",
    "\n",
    "import json\n",
    "import requests\n",
    "import pyspark\n",
    "from pyspark.sql import SparkSession\n",
    "from pyspark.sql.functions import col\n",
    "from pyspark.sql.functions import to_timestamp\n",
    "from pyspark.sql.functions import isnan\n",
    "from pyspark.sql.types import IntegerType\n",
    "from pyspark.sql.types import StringType\n",
    "from pyspark.sql.functions import expr\n",
    "from pyspark.sql.functions import dayofmonth, month, hour, minute, dayofweek\n",
    "from pyspark.sql.functions import isnan, isnull, sum\n",
    "from pyspark.ml.stat import Correlation\n",
    "from pyspark.ml.feature import VectorAssembler\n",
    "from pyspark.sql.functions import countDistinct\n",
    "from pyspark.sql.types import IntegerType, FloatType\n",
    "\n",
    "\n",
    "# ignore warnings\n",
    "import warnings\n",
    "warnings.filterwarnings('ignore')"
   ]
  },
  {
   "cell_type": "code",
   "execution_count": 68,
   "id": "c50b0382",
   "metadata": {},
   "outputs": [],
   "source": [
    "taxi_zones = pd.read_csv(\"taxi_zones.csv\")"
   ]
  },
  {
   "cell_type": "code",
   "execution_count": 69,
   "id": "a7ff48f9",
   "metadata": {},
   "outputs": [
    {
     "data": {
      "text/plain": [
       "(263, 7)"
      ]
     },
     "execution_count": 69,
     "metadata": {},
     "output_type": "execute_result"
    }
   ],
   "source": [
    "taxi_zones.shape"
   ]
  },
  {
   "cell_type": "code",
   "execution_count": 70,
   "id": "0bae7d27",
   "metadata": {},
   "outputs": [
    {
     "data": {
      "text/html": [
       "<div>\n",
       "<style scoped>\n",
       "    .dataframe tbody tr th:only-of-type {\n",
       "        vertical-align: middle;\n",
       "    }\n",
       "\n",
       "    .dataframe tbody tr th {\n",
       "        vertical-align: top;\n",
       "    }\n",
       "\n",
       "    .dataframe thead th {\n",
       "        text-align: right;\n",
       "    }\n",
       "</style>\n",
       "<table border=\"1\" class=\"dataframe\">\n",
       "  <thead>\n",
       "    <tr style=\"text-align: right;\">\n",
       "      <th></th>\n",
       "      <th>OBJECTID</th>\n",
       "      <th>Shape_Leng</th>\n",
       "      <th>the_geom</th>\n",
       "      <th>Shape_Area</th>\n",
       "      <th>zone</th>\n",
       "      <th>LocationID</th>\n",
       "      <th>borough</th>\n",
       "    </tr>\n",
       "  </thead>\n",
       "  <tbody>\n",
       "    <tr>\n",
       "      <th>0</th>\n",
       "      <td>1</td>\n",
       "      <td>0.116357</td>\n",
       "      <td>MULTIPOLYGON (((-74.18445299999996 40.69499599...</td>\n",
       "      <td>0.000782</td>\n",
       "      <td>Newark Airport</td>\n",
       "      <td>1</td>\n",
       "      <td>EWR</td>\n",
       "    </tr>\n",
       "    <tr>\n",
       "      <th>1</th>\n",
       "      <td>2</td>\n",
       "      <td>0.433470</td>\n",
       "      <td>MULTIPOLYGON (((-73.82337597260663 40.63898704...</td>\n",
       "      <td>0.004866</td>\n",
       "      <td>Jamaica Bay</td>\n",
       "      <td>2</td>\n",
       "      <td>Queens</td>\n",
       "    </tr>\n",
       "    <tr>\n",
       "      <th>2</th>\n",
       "      <td>3</td>\n",
       "      <td>0.084341</td>\n",
       "      <td>MULTIPOLYGON (((-73.84792614099985 40.87134223...</td>\n",
       "      <td>0.000314</td>\n",
       "      <td>Allerton/Pelham Gardens</td>\n",
       "      <td>3</td>\n",
       "      <td>Bronx</td>\n",
       "    </tr>\n",
       "    <tr>\n",
       "      <th>3</th>\n",
       "      <td>4</td>\n",
       "      <td>0.043567</td>\n",
       "      <td>MULTIPOLYGON (((-73.97177410965318 40.72582128...</td>\n",
       "      <td>0.000112</td>\n",
       "      <td>Alphabet City</td>\n",
       "      <td>4</td>\n",
       "      <td>Manhattan</td>\n",
       "    </tr>\n",
       "    <tr>\n",
       "      <th>4</th>\n",
       "      <td>5</td>\n",
       "      <td>0.092146</td>\n",
       "      <td>MULTIPOLYGON (((-74.17421738099989 40.56256808...</td>\n",
       "      <td>0.000498</td>\n",
       "      <td>Arden Heights</td>\n",
       "      <td>5</td>\n",
       "      <td>Staten Island</td>\n",
       "    </tr>\n",
       "    <tr>\n",
       "      <th>...</th>\n",
       "      <td>...</td>\n",
       "      <td>...</td>\n",
       "      <td>...</td>\n",
       "      <td>...</td>\n",
       "      <td>...</td>\n",
       "      <td>...</td>\n",
       "      <td>...</td>\n",
       "    </tr>\n",
       "    <tr>\n",
       "      <th>258</th>\n",
       "      <td>256</td>\n",
       "      <td>0.067915</td>\n",
       "      <td>MULTIPOLYGON (((-73.95834207500002 40.71330630...</td>\n",
       "      <td>0.000169</td>\n",
       "      <td>Williamsburg (South Side)</td>\n",
       "      <td>256</td>\n",
       "      <td>Brooklyn</td>\n",
       "    </tr>\n",
       "    <tr>\n",
       "      <th>259</th>\n",
       "      <td>259</td>\n",
       "      <td>0.126750</td>\n",
       "      <td>MULTIPOLYGON (((-73.85107116191898 40.91037152...</td>\n",
       "      <td>0.000395</td>\n",
       "      <td>Woodlawn/Wakefield</td>\n",
       "      <td>259</td>\n",
       "      <td>Bronx</td>\n",
       "    </tr>\n",
       "    <tr>\n",
       "      <th>260</th>\n",
       "      <td>260</td>\n",
       "      <td>0.133514</td>\n",
       "      <td>MULTIPOLYGON (((-73.90175373399988 40.76077547...</td>\n",
       "      <td>0.000422</td>\n",
       "      <td>Woodside</td>\n",
       "      <td>260</td>\n",
       "      <td>Queens</td>\n",
       "    </tr>\n",
       "    <tr>\n",
       "      <th>261</th>\n",
       "      <td>261</td>\n",
       "      <td>0.027120</td>\n",
       "      <td>MULTIPOLYGON (((-74.01332610899988 40.70503078...</td>\n",
       "      <td>0.000034</td>\n",
       "      <td>World Trade Center</td>\n",
       "      <td>261</td>\n",
       "      <td>Manhattan</td>\n",
       "    </tr>\n",
       "    <tr>\n",
       "      <th>262</th>\n",
       "      <td>262</td>\n",
       "      <td>0.049064</td>\n",
       "      <td>MULTIPOLYGON (((-73.94383256699986 40.78285908...</td>\n",
       "      <td>0.000122</td>\n",
       "      <td>Yorkville East</td>\n",
       "      <td>262</td>\n",
       "      <td>Manhattan</td>\n",
       "    </tr>\n",
       "  </tbody>\n",
       "</table>\n",
       "<p>263 rows × 7 columns</p>\n",
       "</div>"
      ],
      "text/plain": [
       "     OBJECTID  Shape_Leng                                           the_geom  \\\n",
       "0           1    0.116357  MULTIPOLYGON (((-74.18445299999996 40.69499599...   \n",
       "1           2    0.433470  MULTIPOLYGON (((-73.82337597260663 40.63898704...   \n",
       "2           3    0.084341  MULTIPOLYGON (((-73.84792614099985 40.87134223...   \n",
       "3           4    0.043567  MULTIPOLYGON (((-73.97177410965318 40.72582128...   \n",
       "4           5    0.092146  MULTIPOLYGON (((-74.17421738099989 40.56256808...   \n",
       "..        ...         ...                                                ...   \n",
       "258       256    0.067915  MULTIPOLYGON (((-73.95834207500002 40.71330630...   \n",
       "259       259    0.126750  MULTIPOLYGON (((-73.85107116191898 40.91037152...   \n",
       "260       260    0.133514  MULTIPOLYGON (((-73.90175373399988 40.76077547...   \n",
       "261       261    0.027120  MULTIPOLYGON (((-74.01332610899988 40.70503078...   \n",
       "262       262    0.049064  MULTIPOLYGON (((-73.94383256699986 40.78285908...   \n",
       "\n",
       "     Shape_Area                       zone  LocationID        borough  \n",
       "0      0.000782             Newark Airport           1            EWR  \n",
       "1      0.004866                Jamaica Bay           2         Queens  \n",
       "2      0.000314    Allerton/Pelham Gardens           3          Bronx  \n",
       "3      0.000112              Alphabet City           4      Manhattan  \n",
       "4      0.000498              Arden Heights           5  Staten Island  \n",
       "..          ...                        ...         ...            ...  \n",
       "258    0.000169  Williamsburg (South Side)         256       Brooklyn  \n",
       "259    0.000395         Woodlawn/Wakefield         259          Bronx  \n",
       "260    0.000422                   Woodside         260         Queens  \n",
       "261    0.000034         World Trade Center         261      Manhattan  \n",
       "262    0.000122             Yorkville East         262      Manhattan  \n",
       "\n",
       "[263 rows x 7 columns]"
      ]
     },
     "execution_count": 70,
     "metadata": {},
     "output_type": "execute_result"
    }
   ],
   "source": [
    "taxi_zones"
   ]
  },
  {
   "cell_type": "code",
   "execution_count": 71,
   "id": "5d61cb76",
   "metadata": {},
   "outputs": [],
   "source": [
    "manhattan = taxi_zones[taxi_zones[\"borough\"] == \"Manhattan\"]"
   ]
  },
  {
   "cell_type": "code",
   "execution_count": 72,
   "id": "8e74ba89",
   "metadata": {},
   "outputs": [
    {
     "data": {
      "text/plain": [
       "(69, 7)"
      ]
     },
     "execution_count": 72,
     "metadata": {},
     "output_type": "execute_result"
    }
   ],
   "source": [
    "manhattan.shape"
   ]
  },
  {
   "cell_type": "code",
   "execution_count": 73,
   "id": "6e5d49c1",
   "metadata": {},
   "outputs": [],
   "source": [
    "location_id = manhattan[\"LocationID\"].tolist()\n",
    "\n",
    "zone = manhattan[\"zone\"].tolist()\n",
    "\n",
    "manhattan_zones = dict(zip(location_id, zone))"
   ]
  },
  {
   "cell_type": "code",
   "execution_count": 74,
   "id": "cd76263f",
   "metadata": {},
   "outputs": [
    {
     "data": {
      "text/plain": [
       "67"
      ]
     },
     "execution_count": 74,
     "metadata": {},
     "output_type": "execute_result"
    }
   ],
   "source": [
    "len(manhattan_zones)"
   ]
  },
  {
   "cell_type": "code",
   "execution_count": 75,
   "id": "46a01d87",
   "metadata": {},
   "outputs": [
    {
     "data": {
      "text/plain": [
       "{4: 'Alphabet City',\n",
       " 24: 'Bloomingdale',\n",
       " 12: 'Battery Park',\n",
       " 13: 'Battery Park City',\n",
       " 41: 'Central Harlem',\n",
       " 45: 'Chinatown',\n",
       " 42: 'Central Harlem North',\n",
       " 43: 'Central Park',\n",
       " 48: 'Clinton East',\n",
       " 50: 'Clinton West',\n",
       " 68: 'East Chelsea',\n",
       " 79: 'East Village',\n",
       " 74: 'East Harlem North',\n",
       " 75: 'East Harlem South',\n",
       " 87: 'Financial District North',\n",
       " 88: 'Financial District South',\n",
       " 90: 'Flatiron',\n",
       " 125: 'Hudson Sq',\n",
       " 100: 'Garment District',\n",
       " 103: \"Governor's Island/Ellis Island/Liberty Island\",\n",
       " 107: 'Gramercy',\n",
       " 113: 'Greenwich Village North',\n",
       " 114: 'Greenwich Village South',\n",
       " 116: 'Hamilton Heights',\n",
       " 120: 'Highbridge Park',\n",
       " 127: 'Inwood',\n",
       " 128: 'Inwood Hill Park',\n",
       " 151: 'Manhattan Valley',\n",
       " 140: 'Lenox Hill East',\n",
       " 137: 'Kips Bay',\n",
       " 141: 'Lenox Hill West',\n",
       " 142: 'Lincoln Square East',\n",
       " 152: 'Manhattanville',\n",
       " 143: 'Lincoln Square West',\n",
       " 144: 'Little Italy/NoLiTa',\n",
       " 148: 'Lower East Side',\n",
       " 153: 'Marble Hill',\n",
       " 158: 'Meatpacking/West Village West',\n",
       " 161: 'Midtown Center',\n",
       " 162: 'Midtown East',\n",
       " 163: 'Midtown North',\n",
       " 164: 'Midtown South',\n",
       " 170: 'Murray Hill',\n",
       " 166: 'Morningside Heights',\n",
       " 186: 'Penn Station/Madison Sq West',\n",
       " 194: 'Randalls Island',\n",
       " 202: 'Roosevelt Island',\n",
       " 209: 'Seaport',\n",
       " 211: 'SoHo',\n",
       " 224: 'Stuy Town/Peter Cooper Village',\n",
       " 229: 'Sutton Place/Turtle Bay North',\n",
       " 230: 'Times Sq/Theatre District',\n",
       " 231: 'TriBeCa/Civic Center',\n",
       " 239: 'Upper West Side South',\n",
       " 232: 'Two Bridges/Seward Park',\n",
       " 233: 'UN/Turtle Bay South',\n",
       " 234: 'Union Sq',\n",
       " 236: 'Upper East Side North',\n",
       " 237: 'Upper East Side South',\n",
       " 238: 'Upper West Side North',\n",
       " 263: 'Yorkville West',\n",
       " 243: 'Washington Heights North',\n",
       " 244: 'Washington Heights South',\n",
       " 246: 'West Chelsea/Hudson Yards',\n",
       " 249: 'West Village',\n",
       " 261: 'World Trade Center',\n",
       " 262: 'Yorkville East'}"
      ]
     },
     "execution_count": 75,
     "metadata": {},
     "output_type": "execute_result"
    }
   ],
   "source": [
    "manhattan_zones"
   ]
  },
  {
   "cell_type": "markdown",
   "id": "6eaa5d5c",
   "metadata": {},
   "source": [
    "### Loading Taxi Data"
   ]
  },
  {
   "cell_type": "code",
   "execution_count": 2,
   "id": "4444055f",
   "metadata": {},
   "outputs": [
    {
     "name": "stderr",
     "output_type": "stream",
     "text": [
      "Setting default log level to \"WARN\".\n",
      "To adjust logging level use sc.setLogLevel(newLevel). For SparkR, use setLogLevel(newLevel).\n",
      "23/07/11 12:27:54 WARN NativeCodeLoader: Unable to load native-hadoop library for your platform... using builtin-java classes where applicable\n",
      "23/07/11 12:27:55 WARN Utils: Service 'SparkUI' could not bind on port 4040. Attempting port 4041.\n",
      "23/07/11 12:27:55 WARN Utils: Service 'SparkUI' could not bind on port 4041. Attempting port 4042.\n"
     ]
    }
   ],
   "source": [
    "spark = SparkSession.builder \\\n",
    "    .appName(\"Project\") \\\n",
    "    .config(\"spark.driver.memory\", \"8g\") \\\n",
    "    .config(\"spark.executor.memory\", \"8g\") \\\n",
    "    .getOrCreate()"
   ]
  },
  {
   "cell_type": "code",
   "execution_count": 3,
   "id": "0044bb9c",
   "metadata": {},
   "outputs": [],
   "source": [
    "taxi18 = spark.read.csv('taxi18_cleaned.csv', header = True)"
   ]
  },
  {
   "cell_type": "code",
   "execution_count": 5,
   "id": "7d20ca43",
   "metadata": {},
   "outputs": [
    {
     "name": "stdout",
     "output_type": "stream",
     "text": [
      "+--------+------------------------+------------------------+---------------+-------------+------------+------------+------------+-----------+----------+------------+-----------+------------+-------------+------------+\n",
      "|VendorID|tpep_pickup_datetime    |tpep_dropoff_datetime   |passenger_count|trip_distance|PULocationID|DOLocationID|payment_type|fare_amount|tip_amount|tolls_amount|dropoff_day|day_of_month|dropoff_month|dropoff_hour|\n",
      "+--------+------------------------+------------------------+---------------+-------------+------------+------------+------------+-----------+----------+------------+-----------+------------+-------------+------------+\n",
      "|2       |2018-01-01T00:01:07.000Z|2018-01-01T00:01:10.000Z|2              |0.06         |264         |113         |1           |15.0       |0.0       |0.0         |2          |1           |1            |0           |\n",
      "|2       |2018-01-01T00:00:40.000Z|2018-01-01T00:01:59.000Z|1              |0.5          |68          |246         |1           |3.5        |0.0       |0.0         |2          |1           |1            |0           |\n",
      "|2       |2018-01-01T00:00:59.000Z|2018-01-01T00:02:28.000Z|1              |0.4          |13          |13          |1           |3.5        |0.96      |0.0         |2          |1           |1            |0           |\n",
      "|2       |2018-01-01T00:01:22.000Z|2018-01-01T00:02:35.000Z|1              |0.47         |74          |75          |2           |3.5        |0.0       |0.0         |2          |1           |1            |0           |\n",
      "|2       |2018-01-01T00:02:31.000Z|2018-01-01T00:02:42.000Z|5              |0.0          |166         |166         |1           |2.5        |13.0      |0.0         |2          |1           |1            |0           |\n",
      "|2       |2018-01-01T00:02:44.000Z|2018-01-01T00:03:04.000Z|1              |0.0          |264         |68          |1           |8.88       |0.0       |0.0         |2          |1           |1            |0           |\n",
      "|2       |2018-01-01T00:02:18.000Z|2018-01-01T00:03:23.000Z|1              |0.19         |43          |163         |2           |3.0        |0.0       |0.0         |2          |1           |1            |0           |\n",
      "|2       |2018-01-01T00:00:36.000Z|2018-01-01T00:03:33.000Z|1              |0.7          |237         |237         |1           |4.5        |0.0       |0.0         |2          |1           |1            |0           |\n",
      "|1       |2018-01-01T00:00:26.000Z|2018-01-01T00:03:34.000Z|1              |0.4          |236         |262         |2           |4.0        |0.0       |0.0         |2          |1           |1            |0           |\n",
      "|2       |2018-01-01T00:03:05.000Z|2018-01-01T00:03:39.000Z|2              |0.03         |148         |148         |2           |2.5        |0.0       |0.0         |2          |1           |1            |0           |\n",
      "|2       |2018-01-01T00:01:14.000Z|2018-01-01T00:03:39.000Z|1              |0.6          |48          |48          |1           |4.0        |1.06      |0.0         |2          |1           |1            |0           |\n",
      "|2       |2018-01-01T00:00:38.000Z|2018-01-01T00:03:41.000Z|1              |0.76         |166         |238         |1           |5.0        |1.26      |0.0         |2          |1           |1            |0           |\n",
      "|1       |2018-01-01T00:02:15.000Z|2018-01-01T00:03:43.000Z|1              |0.1          |244         |244         |2           |3.0        |0.0       |0.0         |2          |1           |1            |0           |\n",
      "|2       |2018-01-01T00:00:03.000Z|2018-01-01T00:03:52.000Z|3              |0.99         |236         |43          |2           |5.5        |0.0       |0.0         |2          |1           |1            |0           |\n",
      "|2       |2018-01-01T00:00:36.000Z|2018-01-01T00:03:53.000Z|1              |0.4          |79          |79          |2           |4.0        |0.0       |0.0         |2          |1           |1            |0           |\n",
      "|1       |2018-01-01T00:00:22.000Z|2018-01-01T00:04:05.000Z|1              |0.7          |162         |137         |2           |5.0        |0.0       |0.0         |2          |1           |1            |0           |\n",
      "|1       |2018-01-01T00:00:27.000Z|2018-01-01T00:04:11.000Z|4              |0.3          |233         |161         |2           |4.5        |0.0       |0.0         |2          |1           |1            |0           |\n",
      "|2       |2018-01-01T00:02:04.000Z|2018-01-01T00:04:17.000Z|1              |0.26         |50          |48          |2           |3.5        |0.0       |0.0         |2          |1           |1            |0           |\n",
      "|1       |2018-01-01T00:01:48.000Z|2018-01-01T00:04:23.000Z|1              |0.3          |170         |164         |1           |4.0        |0.0       |0.0         |2          |1           |1            |0           |\n",
      "|2       |2018-01-01T00:04:21.000Z|2018-01-01T00:04:25.000Z|1              |0.0          |88          |88          |1           |15.0       |0.0       |0.0         |2          |1           |1            |0           |\n",
      "+--------+------------------------+------------------------+---------------+-------------+------------+------------+------------+-----------+----------+------------+-----------+------------+-------------+------------+\n",
      "only showing top 20 rows\n",
      "\n"
     ]
    }
   ],
   "source": [
    "#Displaying taxi dataframe\n",
    "taxi18.show(\n",
    "    truncate =False)"
   ]
  },
  {
   "cell_type": "code",
   "execution_count": 29,
   "id": "1caa33ed",
   "metadata": {},
   "outputs": [
    {
     "name": "stderr",
     "output_type": "stream",
     "text": [
      "                                                                                \r"
     ]
    },
    {
     "data": {
      "text/plain": [
       "112234626"
      ]
     },
     "execution_count": 29,
     "metadata": {},
     "output_type": "execute_result"
    }
   ],
   "source": [
    "taxi18.count()"
   ]
  },
  {
   "cell_type": "code",
   "execution_count": 30,
   "id": "a54e4d6e",
   "metadata": {},
   "outputs": [],
   "source": [
    "manhattan_ids = list(manhattan_zones.keys())"
   ]
  },
  {
   "cell_type": "code",
   "execution_count": 33,
   "id": "bdba760a",
   "metadata": {},
   "outputs": [],
   "source": [
    "#Filtering pickup and dropoff location if either is in manhattan\n",
    "\n",
    "taxi18 = taxi18.filter((col(\"DOLocationID\").isin(manhattan_ids)))"
   ]
  },
  {
   "cell_type": "code",
   "execution_count": 15,
   "id": "cfcdd425",
   "metadata": {},
   "outputs": [
    {
     "name": "stderr",
     "output_type": "stream",
     "text": [
      "[Stage 5:======================================================>  (74 + 4) / 78]\r"
     ]
    },
    {
     "name": "stdout",
     "output_type": "stream",
     "text": [
      "Taxi18:  106495890\n"
     ]
    },
    {
     "name": "stderr",
     "output_type": "stream",
     "text": [
      "\r",
      "                                                                                \r"
     ]
    }
   ],
   "source": [
    "#Length of each dataset after filtration\n",
    "\n",
    "print(\"Taxi18: \", taxi18.count())"
   ]
  },
  {
   "cell_type": "markdown",
   "id": "f7170af1",
   "metadata": {},
   "source": [
    "### Converting Features to Correct Datatype\n",
    "\n",
    "- All features seem to be documented as string. I would be converting all features to the correct datatype\n",
    "\n",
    "- That is strings would remain as strings, ints as ints etc."
   ]
  },
  {
   "cell_type": "code",
   "execution_count": 34,
   "id": "a41341a9",
   "metadata": {},
   "outputs": [
    {
     "name": "stdout",
     "output_type": "stream",
     "text": [
      "[('VendorID', 'string'), ('tpep_pickup_datetime', 'string'), ('tpep_dropoff_datetime', 'string'), ('passenger_count', 'string'), ('trip_distance', 'string'), ('RatecodeID', 'string'), ('store_and_fwd_flag', 'string'), ('PULocationID', 'string'), ('DOLocationID', 'string'), ('payment_type', 'string'), ('fare_amount', 'string'), ('extra', 'string'), ('mta_tax', 'string'), ('tip_amount', 'string'), ('tolls_amount', 'string'), ('improvement_surcharge', 'string'), ('total_amount', 'string')]\n"
     ]
    }
   ],
   "source": [
    "print(taxi18.dtypes)\n"
   ]
  },
  {
   "cell_type": "code",
   "execution_count": 35,
   "id": "26d581b8",
   "metadata": {},
   "outputs": [],
   "source": [
    "float_columns = ['trip_distance', 'fare_amount', 'extra', 'mta_tax', 'tip_amount','tolls_amount', 'improvement_surcharge', 'total_amount']\n",
    "\n",
    "date_columns = ['tpep_pickup_datetime', 'tpep_dropoff_datetime']\n",
    "\n",
    "int_columns = ['passenger_count']\n",
    "\n",
    "category_columns = ['VendorID', 'RatecodeID', 'Store_and_fwd_flag', 'payment_type',  ]"
   ]
  },
  {
   "cell_type": "code",
   "execution_count": 38,
   "id": "665750d5",
   "metadata": {},
   "outputs": [],
   "source": [
    "for column in taxi18.columns:\n",
    "    if column in float_columns: \n",
    "        taxi18 = taxi18.withColumn(column, col(column).cast('float'))\n",
    "    elif column in date_columns:\n",
    "        taxi18= taxi18.withColumn(column, to_timestamp(column, \"MM/dd/yyyy hh:mm:ss a\"))\n",
    "    \n",
    "    elif column in int_columns:\n",
    "        taxi18 = taxi18.withColumn(column, col(column).cast('int'))\n",
    "    \n",
    "    else:\n",
    "        taxi18 = taxi18.withColumn(column, col(column).cast(StringType()))\n",
    "        \n",
    "        \n",
    "    "
   ]
  },
  {
   "cell_type": "code",
   "execution_count": 39,
   "id": "4e78e4c2",
   "metadata": {},
   "outputs": [
    {
     "name": "stdout",
     "output_type": "stream",
     "text": [
      "+--------+--------------------+---------------------+---------------+-------------+----------+------------------+------------+------------+------------+-----------+-----+-------+----------+------------+---------------------+------------+\n",
      "|VendorID|tpep_pickup_datetime|tpep_dropoff_datetime|passenger_count|trip_distance|RatecodeID|store_and_fwd_flag|PULocationID|DOLocationID|payment_type|fare_amount|extra|mta_tax|tip_amount|tolls_amount|improvement_surcharge|total_amount|\n",
      "+--------+--------------------+---------------------+---------------+-------------+----------+------------------+------------+------------+------------+-----------+-----+-------+----------+------------+---------------------+------------+\n",
      "|       1| 2018-03-26 21:43:32|  2018-03-26 22:03:13|              4|          3.6|         1|                 N|         144|          48|           2|       15.0|  0.5|    0.5|       0.0|         0.0|                  0.3|        16.3|\n",
      "|       1| 2018-03-26 21:17:35|  2018-03-26 21:37:39|              1|          4.3|         1|                 N|         144|         142|           2|       16.0|  0.5|    0.5|       0.0|         0.0|                  0.3|        17.3|\n",
      "|       1| 2018-03-26 21:38:32|  2018-03-26 21:46:18|              1|          1.1|         1|                 N|         142|         230|           2|        7.0|  0.5|    0.5|       0.0|         0.0|                  0.3|         8.3|\n",
      "|       1| 2018-03-26 21:50:09|  2018-03-26 21:57:17|              1|          1.1|         1|                 N|         230|         186|           2|        6.5|  0.5|    0.5|       0.0|         0.0|                  0.3|         7.8|\n",
      "|       1| 2018-03-26 21:17:04|  2018-03-26 21:19:25|              1|          0.6|         1|                 N|          90|          68|           2|        4.0|  0.5|    0.5|       0.0|         0.0|                  0.3|         5.3|\n",
      "|       1| 2018-03-26 21:43:08|  2018-03-26 21:45:55|              1|          0.6|         1|                 N|          68|          90|           1|        4.5|  0.5|    0.5|       1.0|         0.0|                  0.3|         6.8|\n",
      "|       1| 2018-03-26 21:53:15|  2018-03-26 22:06:44|              2|          3.1|         1|                 N|          90|          13|           2|       12.5|  0.5|    0.5|       0.0|         0.0|                  0.3|        13.8|\n",
      "|       2| 2018-03-26 20:57:33|  2018-03-26 21:07:12|              4|         1.28|         1|                 N|         142|         161|           2|        7.5|  0.5|    0.5|       0.0|         0.0|                  0.3|         8.8|\n",
      "|       2| 2018-03-26 21:10:02|  2018-03-26 21:19:40|              4|         1.73|         1|                 N|         230|         246|           2|        8.5|  0.5|    0.5|       0.0|         0.0|                  0.3|         9.8|\n",
      "|       2| 2018-03-26 21:21:48|  2018-03-26 21:30:51|              5|          2.5|         1|                 N|         246|         238|           1|       10.5|  0.5|    0.5|      2.95|         0.0|                  0.3|       14.75|\n",
      "|       2| 2018-03-26 21:45:20|  2018-03-26 21:59:05|              4|         3.49|         1|                 N|         142|         166|           1|       13.0|  0.5|    0.5|       1.0|         0.0|                  0.3|        15.3|\n",
      "|       2| 2018-03-26 21:45:31|  2018-03-26 22:31:38|              1|        20.42|         2|                 N|         132|         244|           2|       52.0|  0.0|    0.5|       0.0|        5.76|                  0.3|       58.56|\n",
      "|       2| 2018-03-26 21:30:11|  2018-03-26 21:38:48|              1|         1.45|         1|                 N|         161|         186|           1|        7.5|  0.5|    0.5|      1.76|         0.0|                  0.3|       10.56|\n",
      "|       2| 2018-03-26 21:41:27|  2018-03-26 21:57:32|              1|          2.2|         1|                 N|         186|         237|           1|       12.5|  0.5|    0.5|      3.45|         0.0|                  0.3|       17.25|\n",
      "|       1| 2018-03-26 21:00:23|  2018-03-26 21:05:11|              1|          1.0|         1|                 N|         237|         236|           1|        6.0|  0.5|    0.5|      2.15|         0.0|                  0.3|        9.45|\n",
      "|       1| 2018-03-26 21:15:46|  2018-03-26 21:21:51|              1|          1.2|         1|                 N|         161|         163|           1|        6.5|  0.5|    0.5|       2.3|         0.0|                  0.3|        10.1|\n",
      "|       1| 2018-03-26 21:28:56|  2018-03-26 21:37:53|              1|          1.3|         1|                 N|         161|         170|           1|        7.5|  0.5|    0.5|      1.75|         0.0|                  0.3|       10.55|\n",
      "|       1| 2018-03-26 21:54:57|  2018-03-26 22:03:19|              1|          2.2|         1|                 N|         113|          13|           1|        9.0|  0.5|    0.5|      2.55|         0.0|                  0.3|       12.85|\n",
      "|       2| 2018-03-26 21:03:28|  2018-03-26 21:20:40|              1|         3.23|         1|                 N|         163|         211|           2|       13.5|  0.5|    0.5|       0.0|         0.0|                  0.3|        14.8|\n",
      "|       2| 2018-03-26 21:25:14|  2018-03-26 21:51:57|              1|         5.48|         1|                 N|         144|          75|           1|       21.5|  0.5|    0.5|      4.56|         0.0|                  0.3|       27.36|\n",
      "+--------+--------------------+---------------------+---------------+-------------+----------+------------------+------------+------------+------------+-----------+-----+-------+----------+------------+---------------------+------------+\n",
      "only showing top 20 rows\n",
      "\n"
     ]
    }
   ],
   "source": [
    "taxi18.show()"
   ]
  },
  {
   "cell_type": "code",
   "execution_count": 40,
   "id": "ed88361b",
   "metadata": {},
   "outputs": [
    {
     "name": "stdout",
     "output_type": "stream",
     "text": [
      "[('VendorID', 'string'), ('tpep_pickup_datetime', 'timestamp'), ('tpep_dropoff_datetime', 'timestamp'), ('passenger_count', 'int'), ('trip_distance', 'float'), ('RatecodeID', 'string'), ('store_and_fwd_flag', 'string'), ('PULocationID', 'string'), ('DOLocationID', 'string'), ('payment_type', 'string'), ('fare_amount', 'float'), ('extra', 'float'), ('mta_tax', 'float'), ('tip_amount', 'float'), ('tolls_amount', 'float'), ('improvement_surcharge', 'float'), ('total_amount', 'float')]\n"
     ]
    }
   ],
   "source": [
    "print(taxi18.dtypes)\n"
   ]
  },
  {
   "cell_type": "code",
   "execution_count": 41,
   "id": "1aee50ba",
   "metadata": {},
   "outputs": [],
   "source": [
    "### Drop Duplicates\n",
    "taxi18 = taxi18.dropDuplicates()"
   ]
  },
  {
   "cell_type": "markdown",
   "id": "cf0ad741",
   "metadata": {},
   "source": [
    " "
   ]
  },
  {
   "cell_type": "markdown",
   "id": "3e3cc55e",
   "metadata": {},
   "source": [
    "### Handling Missing Values"
   ]
  },
  {
   "cell_type": "code",
   "execution_count": 21,
   "id": "af6234b1",
   "metadata": {},
   "outputs": [
    {
     "name": "stderr",
     "output_type": "stream",
     "text": [
      "                                                                                \r"
     ]
    },
    {
     "name": "stdout",
     "output_type": "stream",
     "text": [
      "VendorID, number of missing values is 0\n"
     ]
    },
    {
     "name": "stderr",
     "output_type": "stream",
     "text": [
      "                                                                                \r"
     ]
    },
    {
     "name": "stdout",
     "output_type": "stream",
     "text": [
      "tpep_pickup_datetime, number of missing values is 0\n"
     ]
    },
    {
     "name": "stderr",
     "output_type": "stream",
     "text": [
      "                                                                                \r"
     ]
    },
    {
     "name": "stdout",
     "output_type": "stream",
     "text": [
      "tpep_dropoff_datetime, number of missing values is 0\n"
     ]
    },
    {
     "name": "stderr",
     "output_type": "stream",
     "text": [
      "                                                                                \r"
     ]
    },
    {
     "name": "stdout",
     "output_type": "stream",
     "text": [
      "passenger_count, number of missing values is 0\n"
     ]
    },
    {
     "name": "stderr",
     "output_type": "stream",
     "text": [
      "                                                                                \r"
     ]
    },
    {
     "name": "stdout",
     "output_type": "stream",
     "text": [
      "trip_distance, number of missing values is 0\n"
     ]
    },
    {
     "name": "stderr",
     "output_type": "stream",
     "text": [
      "                                                                                \r"
     ]
    },
    {
     "name": "stdout",
     "output_type": "stream",
     "text": [
      "RatecodeID, number of missing values is 0\n"
     ]
    },
    {
     "name": "stderr",
     "output_type": "stream",
     "text": [
      "                                                                                \r"
     ]
    },
    {
     "name": "stdout",
     "output_type": "stream",
     "text": [
      "store_and_fwd_flag, number of missing values is 0\n"
     ]
    },
    {
     "name": "stderr",
     "output_type": "stream",
     "text": [
      "                                                                                \r"
     ]
    },
    {
     "name": "stdout",
     "output_type": "stream",
     "text": [
      "PULocationID, number of missing values is 0\n"
     ]
    },
    {
     "name": "stderr",
     "output_type": "stream",
     "text": [
      "                                                                                \r"
     ]
    },
    {
     "name": "stdout",
     "output_type": "stream",
     "text": [
      "DOLocationID, number of missing values is 0\n"
     ]
    },
    {
     "name": "stderr",
     "output_type": "stream",
     "text": [
      "                                                                                \r"
     ]
    },
    {
     "name": "stdout",
     "output_type": "stream",
     "text": [
      "payment_type, number of missing values is 0\n"
     ]
    },
    {
     "name": "stderr",
     "output_type": "stream",
     "text": [
      "                                                                                \r"
     ]
    },
    {
     "name": "stdout",
     "output_type": "stream",
     "text": [
      "fare_amount, number of missing values is 0\n"
     ]
    },
    {
     "name": "stderr",
     "output_type": "stream",
     "text": [
      "                                                                                \r"
     ]
    },
    {
     "name": "stdout",
     "output_type": "stream",
     "text": [
      "extra, number of missing values is 0\n"
     ]
    },
    {
     "name": "stderr",
     "output_type": "stream",
     "text": [
      "                                                                                \r"
     ]
    },
    {
     "name": "stdout",
     "output_type": "stream",
     "text": [
      "mta_tax, number of missing values is 0\n"
     ]
    },
    {
     "name": "stderr",
     "output_type": "stream",
     "text": [
      "                                                                                \r"
     ]
    },
    {
     "name": "stdout",
     "output_type": "stream",
     "text": [
      "tip_amount, number of missing values is 0\n"
     ]
    },
    {
     "name": "stderr",
     "output_type": "stream",
     "text": [
      "                                                                                \r"
     ]
    },
    {
     "name": "stdout",
     "output_type": "stream",
     "text": [
      "tolls_amount, number of missing values is 0\n"
     ]
    },
    {
     "name": "stderr",
     "output_type": "stream",
     "text": [
      "                                                                                \r"
     ]
    },
    {
     "name": "stdout",
     "output_type": "stream",
     "text": [
      "improvement_surcharge, number of missing values is 0\n"
     ]
    },
    {
     "name": "stderr",
     "output_type": "stream",
     "text": [
      "[Stage 59:=====================================================>  (74 + 4) / 78]\r"
     ]
    },
    {
     "name": "stdout",
     "output_type": "stream",
     "text": [
      "total_amount, number of missing values is 0\n"
     ]
    },
    {
     "name": "stderr",
     "output_type": "stream",
     "text": [
      "\r",
      "                                                                                \r"
     ]
    }
   ],
   "source": [
    "#Searching for missing values across each column\n",
    "for column in taxi18.columns:\n",
    "    missing_count = taxi18.filter(col(column).isNull() | \n",
    "                                  (col(column) == '') | \n",
    "                                  (col(column).contains('Na%')) | (col(column).contains('na%'))).count()\n",
    "    print(f\"{column}, number of missing values is {missing_count}\")\n",
    "    "
   ]
  },
  {
   "cell_type": "markdown",
   "id": "fae55cd7",
   "metadata": {},
   "source": [
    "#### Observations\n",
    "---------------------------------------\n",
    "\n",
    "- As observed above, there seems to be 0 missing values in the dataset. This remains true even after adjusting the code to accomodate empty strings"
   ]
  },
  {
   "cell_type": "markdown",
   "id": "96e64ac0",
   "metadata": {},
   "source": []
  },
  {
   "cell_type": "markdown",
   "id": "12dfaf3d",
   "metadata": {},
   "source": [
    " ### Logical Integrity Test and Handling Violations\n",
    " \n",
    " - 1. Taxis with no passengers\n",
    " \n",
    " - 2. Dropoff time should not be before pickup time\n",
    " \n",
    " - 3. Check if pickup or drop off date is before or after the dataset year (i.e 2017 or 2018)"
   ]
  },
  {
   "cell_type": "markdown",
   "id": "1c8fd268",
   "metadata": {},
   "source": [
    "#### Taxi Trips With no Passengers"
   ]
  },
  {
   "cell_type": "code",
   "execution_count": 22,
   "id": "17accc34",
   "metadata": {},
   "outputs": [
    {
     "name": "stderr",
     "output_type": "stream",
     "text": [
      "[Stage 62:====================================================>   (73 + 5) / 78]\r"
     ]
    },
    {
     "name": "stdout",
     "output_type": "stream",
     "text": [
      "Total rows where taxi had no passengers =  907411\n"
     ]
    },
    {
     "name": "stderr",
     "output_type": "stream",
     "text": [
      "\r",
      "                                                                                \r"
     ]
    }
   ],
   "source": [
    "print(\"Total rows where taxi had no passengers = \", taxi18.filter(col('passenger_count') == 0).count())"
   ]
  },
  {
   "cell_type": "code",
   "execution_count": 42,
   "id": "065be4f7",
   "metadata": {},
   "outputs": [],
   "source": [
    "taxi18 = taxi18.filter(col('passenger_count') > 0)"
   ]
  },
  {
   "cell_type": "code",
   "execution_count": 43,
   "id": "6ae15c9b",
   "metadata": {},
   "outputs": [],
   "source": [
    "taxi18 = taxi18.filter(~(col('passenger_count') > 6))"
   ]
  },
  {
   "cell_type": "code",
   "execution_count": 24,
   "id": "65077845",
   "metadata": {},
   "outputs": [
    {
     "name": "stderr",
     "output_type": "stream",
     "text": [
      "[Stage 65:====================================================>   (73 + 5) / 78]\r"
     ]
    },
    {
     "name": "stdout",
     "output_type": "stream",
     "text": [
      "Total rows where taxi had no passengers =  0\n"
     ]
    },
    {
     "name": "stderr",
     "output_type": "stream",
     "text": [
      "\r",
      "[Stage 65:=====================================================>  (74 + 4) / 78]\r",
      "\r",
      "                                                                                \r"
     ]
    }
   ],
   "source": [
    "print(\"Total rows where taxi had no passengers = \", taxi18.filter(col('passenger_count') == 0).count())"
   ]
  },
  {
   "cell_type": "markdown",
   "id": "d8fddfa3",
   "metadata": {},
   "source": [
    " "
   ]
  },
  {
   "cell_type": "markdown",
   "id": "db7544fc",
   "metadata": {},
   "source": [
    " ####  Dropoff time before pickup time"
   ]
  },
  {
   "cell_type": "code",
   "execution_count": 25,
   "id": "1c0311e3",
   "metadata": {},
   "outputs": [
    {
     "name": "stderr",
     "output_type": "stream",
     "text": [
      "[Stage 68:====================================================>   (73 + 5) / 78]\r"
     ]
    },
    {
     "name": "stdout",
     "output_type": "stream",
     "text": [
      "Number of rows in violation =  5968\n"
     ]
    },
    {
     "name": "stderr",
     "output_type": "stream",
     "text": [
      "\r",
      "[Stage 68:=======================================================>(77 + 1) / 78]\r",
      "\r",
      "                                                                                \r"
     ]
    }
   ],
   "source": [
    "#Count number of rows where dropoff was before pickup\n",
    "\n",
    "print(\"Number of rows in violation = \", \n",
    "      taxi18.filter(col(\"tpep_dropoff_datetime\") < col(\"tpep_pickup_datetime\")).count())\n"
   ]
  },
  {
   "cell_type": "code",
   "execution_count": 26,
   "id": "9dd82b98",
   "metadata": {},
   "outputs": [
    {
     "name": "stderr",
     "output_type": "stream",
     "text": [
      "[Stage 72:==============>                                           (1 + 3) / 4]\r"
     ]
    },
    {
     "name": "stdout",
     "output_type": "stream",
     "text": [
      "+--------+--------------------+---------------------+---------------+-------------+----------+------------------+------------+------------+------------+-----------+-----+-------+----------+------------+---------------------+------------+\n",
      "|VendorID|tpep_pickup_datetime|tpep_dropoff_datetime|passenger_count|trip_distance|RatecodeID|store_and_fwd_flag|PULocationID|DOLocationID|payment_type|fare_amount|extra|mta_tax|tip_amount|tolls_amount|improvement_surcharge|total_amount|\n",
      "+--------+--------------------+---------------------+---------------+-------------+----------+------------------+------------+------------+------------+-----------+-----+-------+----------+------------+---------------------+------------+\n",
      "|1       |2018-03-06 15:15:05 |2018-03-05 16:05:01  |2              |9.9          |1         |N                 |70          |48          |1           |40.5       |0.0  |0.5    |9.4       |5.76        |0.3                  |56.46       |\n",
      "|1       |2018-03-21 08:20:35 |2018-03-21 07:40:23  |1              |1.5          |1         |N                 |239         |230         |1           |8.0        |0.0  |0.5    |1.2       |0.0         |0.3                  |10.0        |\n",
      "|1       |2018-03-24 15:15:17 |2018-03-20 14:03:49  |1              |1.2          |1         |N                 |74          |75          |2           |8.0        |1.0  |0.5    |0.0       |0.0         |0.3                  |9.8         |\n",
      "|1       |2018-03-25 02:58:35 |2018-03-25 02:02:11  |1              |0.6          |1         |N                 |142         |142         |1           |4.5        |0.5  |0.5    |1.15      |0.0         |0.3                  |6.95        |\n",
      "|1       |2018-03-25 02:52:09 |2018-03-25 02:00:07  |1              |1.2          |1         |N                 |144         |107         |1           |7.0        |0.5  |0.5    |1.0       |0.0         |0.3                  |9.3         |\n",
      "|2       |2018-03-25 02:40:28 |2018-03-25 02:19:49  |1              |20.02        |2         |N                 |132         |244         |1           |52.0       |0.0  |0.5    |0.0       |5.76        |0.3                  |58.56       |\n",
      "|1       |2018-03-25 02:52:36 |2018-03-25 02:12:11  |1              |5.2          |1         |N                 |148         |145         |1           |19.5       |0.5  |0.5    |3.0       |0.0         |0.3                  |23.8        |\n",
      "|2       |2018-03-25 02:50:33 |2018-03-25 02:00:43  |2              |1.07         |1         |N                 |79          |170         |2           |7.0        |0.5  |0.5    |0.0       |0.0         |0.3                  |8.3         |\n",
      "|2       |2018-03-25 02:28:13 |2018-03-25 02:03:24  |1              |6.46         |1         |N                 |163         |256         |1           |26.5       |0.5  |0.5    |5.56      |0.0         |0.3                  |33.36       |\n",
      "|1       |2018-03-25 02:56:21 |2018-03-25 02:04:15  |1              |1.2          |1         |N                 |246         |249         |1           |7.0        |0.5  |0.5    |1.5       |0.0         |0.3                  |9.8         |\n",
      "|1       |2018-03-25 02:56:06 |2018-03-25 02:01:30  |1              |1.9          |1         |N                 |141         |145         |2           |7.5        |0.5  |0.5    |0.0       |0.0         |0.3                  |8.8         |\n",
      "|1       |2018-03-25 02:44:22 |2018-03-25 02:03:30  |1              |4.8          |1         |N                 |24          |243         |2           |18.5       |0.5  |0.5    |0.0       |0.0         |0.3                  |19.8        |\n",
      "|1       |2018-03-25 02:27:38 |2018-03-25 02:02:26  |1              |9.4          |1         |N                 |114         |42          |1           |32.5       |0.5  |0.5    |8.45      |0.0         |0.3                  |42.25       |\n",
      "|2       |2018-03-25 02:54:23 |2018-03-25 02:01:41  |1              |1.01         |1         |N                 |79          |234         |2           |6.5        |0.5  |0.5    |0.0       |0.0         |0.3                  |7.8         |\n",
      "|1       |2018-03-25 02:53:10 |2018-03-25 02:10:24  |1              |3.4          |1         |N                 |142         |145         |1           |14.5       |0.5  |0.5    |3.15      |0.0         |0.3                  |18.95       |\n",
      "|1       |2018-03-25 02:47:30 |2018-03-25 02:01:17  |2              |4.2          |1         |N                 |13          |48          |1           |14.5       |0.5  |0.5    |3.15      |0.0         |0.3                  |18.95       |\n",
      "|1       |2018-03-25 02:44:19 |2018-03-25 02:00:10  |1              |2.6          |1         |N                 |148         |164         |1           |12.5       |0.5  |0.5    |2.75      |0.0         |0.3                  |16.55       |\n",
      "|1       |2018-03-25 02:57:20 |2018-03-25 02:24:39  |1              |7.5          |1         |N                 |48          |198         |2           |25.5       |0.5  |0.5    |0.0       |0.0         |0.3                  |26.8        |\n",
      "|2       |2018-03-25 02:54:45 |2018-03-25 02:04:15  |1              |2.56         |1         |N                 |163         |239         |1           |10.5       |0.5  |0.5    |0.0       |0.0         |0.3                  |11.8        |\n",
      "|2       |2018-03-25 02:39:02 |2018-03-25 02:04:42  |1              |5.86         |1         |N                 |249         |112         |2           |21.5       |0.5  |0.5    |0.0       |0.0         |0.3                  |22.8        |\n",
      "+--------+--------------------+---------------------+---------------+-------------+----------+------------------+------------+------------+------------+-----------+-----+-------+----------+------------+---------------------+------------+\n",
      "only showing top 20 rows\n",
      "\n"
     ]
    },
    {
     "name": "stderr",
     "output_type": "stream",
     "text": [
      "\r",
      "                                                                                \r"
     ]
    }
   ],
   "source": [
    "#Trying to see some of the rows violating this to make sure\n",
    "taxi18.filter(col(\"tpep_dropoff_datetime\") < col(\"tpep_pickup_datetime\")).show(truncate = False)"
   ]
  },
  {
   "cell_type": "code",
   "execution_count": 44,
   "id": "029ef1ed",
   "metadata": {},
   "outputs": [],
   "source": [
    "#Filtering out rows where dropoff is after pickup\n",
    "taxi18 = taxi18.filter(col(\"tpep_dropoff_datetime\") > col(\"tpep_pickup_datetime\"))"
   ]
  },
  {
   "cell_type": "code",
   "execution_count": 45,
   "id": "dd6deb7c",
   "metadata": {},
   "outputs": [
    {
     "name": "stderr",
     "output_type": "stream",
     "text": [
      "[Stage 12:====================================================>   (73 + 5) / 78]\r"
     ]
    },
    {
     "name": "stdout",
     "output_type": "stream",
     "text": [
      "Number of rows in violation =  0\n"
     ]
    },
    {
     "name": "stderr",
     "output_type": "stream",
     "text": [
      "\r",
      "                                                                                \r"
     ]
    }
   ],
   "source": [
    "#Count number of rows where dropoff was before pickup\n",
    "\n",
    "print(\"Number of rows in violation = \", \n",
    "      taxi18.filter(col(\"tpep_dropoff_datetime\") < col(\"tpep_pickup_datetime\")).count())\n"
   ]
  },
  {
   "cell_type": "markdown",
   "id": "5513475f",
   "metadata": {},
   "source": [
    " "
   ]
  },
  {
   "cell_type": "markdown",
   "id": "5d300814",
   "metadata": {},
   "source": [
    "#### 2.1. Rows where pickup, dropoff or both are after the dataset year"
   ]
  },
  {
   "cell_type": "code",
   "execution_count": 29,
   "id": "bb8a532d",
   "metadata": {},
   "outputs": [
    {
     "name": "stderr",
     "output_type": "stream",
     "text": [
      "[Stage 76:====================================================>   (73 + 5) / 78]\r"
     ]
    },
    {
     "name": "stdout",
     "output_type": "stream",
     "text": [
      "Total number of pickup dates after 2018=  214\n"
     ]
    },
    {
     "name": "stderr",
     "output_type": "stream",
     "text": [
      "\r",
      "                                                                                \r"
     ]
    }
   ],
   "source": [
    "#Printing total number of pick-up time over 2018 \n",
    "pickup_after_2018 = taxi18.filter(col(\"tpep_pickup_datetime\") > \"2018-12-31 23:59:59\").count()\n",
    "\n",
    "print(\"Total number of pickup dates after 2018= \", pickup_after_2018)"
   ]
  },
  {
   "cell_type": "code",
   "execution_count": 30,
   "id": "580bcae0",
   "metadata": {},
   "outputs": [
    {
     "name": "stderr",
     "output_type": "stream",
     "text": [
      "[Stage 79:=======================================================>(77 + 1) / 78]\r"
     ]
    },
    {
     "name": "stdout",
     "output_type": "stream",
     "text": [
      "Total number of dropoff dates after 2018=  1559\n"
     ]
    },
    {
     "name": "stderr",
     "output_type": "stream",
     "text": [
      "\r",
      "                                                                                \r"
     ]
    }
   ],
   "source": [
    "#Printing total number of dropoff time over 2018\n",
    "dropoff_after_2018 = taxi18.filter(col(\"tpep_dropoff_datetime\") > \"2018-12-31 23:59:59\").count()\n",
    "\n",
    "print(\"Total number of dropoff dates after 2018= \", dropoff_after_2018)"
   ]
  },
  {
   "cell_type": "code",
   "execution_count": 31,
   "id": "d36ccc41",
   "metadata": {},
   "outputs": [
    {
     "name": "stderr",
     "output_type": "stream",
     "text": [
      "[Stage 82:=====================================================>  (75 + 3) / 78]\r"
     ]
    },
    {
     "name": "stdout",
     "output_type": "stream",
     "text": [
      "number of rows where pickup is 2018 and dropoff is after 2019:  1345\n"
     ]
    },
    {
     "name": "stderr",
     "output_type": "stream",
     "text": [
      "\r",
      "[Stage 82:=======================================================>(77 + 1) / 78]\r",
      "\r",
      "                                                                                \r"
     ]
    }
   ],
   "source": [
    "#prints number of rows where pickup is 2018 and dropff is after 2018\n",
    "#Assumption some of the post 2018 dropoff might be \n",
    "print(\"number of rows where pickup is 2018 and dropoff is after 2019: \",\n",
    "      taxi18.filter((col(\"tpep_pickup_datetime\") < \"2018-12-31 23:59:59\") & \n",
    "                    (col(\"tpep_dropoff_datetime\") > \"2018-12-31 23:59:59\")).count())\n",
    "\n"
   ]
  },
  {
   "cell_type": "code",
   "execution_count": 32,
   "id": "477ec984",
   "metadata": {},
   "outputs": [
    {
     "name": "stderr",
     "output_type": "stream",
     "text": [
      "[Stage 88:=====================================================>  (51 + 2) / 53]\r"
     ]
    },
    {
     "name": "stdout",
     "output_type": "stream",
     "text": [
      "+--------+--------------------+---------------------+---------------+-------------+----------+------------------+------------+------------+------------+-----------+-----+-------+----------+------------+---------------------+------------+\n",
      "|VendorID|tpep_pickup_datetime|tpep_dropoff_datetime|passenger_count|trip_distance|RatecodeID|store_and_fwd_flag|PULocationID|DOLocationID|payment_type|fare_amount|extra|mta_tax|tip_amount|tolls_amount|improvement_surcharge|total_amount|\n",
      "+--------+--------------------+---------------------+---------------+-------------+----------+------------------+------------+------------+------------+-----------+-----+-------+----------+------------+---------------------+------------+\n",
      "|2       |2018-12-31 00:21:33 |2019-01-01 00:15:30  |1              |2.5          |1         |N                 |68          |144         |2           |11.0       |0.5  |0.5    |0.0       |0.0         |0.3                  |12.3        |\n",
      "|2       |2018-12-31 00:23:55 |2019-01-01 00:14:50  |2              |6.71         |1         |N                 |249         |24          |1           |21.5       |0.5  |0.5    |0.0       |0.0         |0.3                  |22.8        |\n",
      "|2       |2018-12-31 00:02:27 |2019-01-01 00:00:51  |3              |4.56         |1         |N                 |48          |75          |1           |15.0       |0.5  |0.5    |3.26      |0.0         |0.3                  |19.56       |\n",
      "|2       |2018-12-31 00:55:20 |2019-01-01 00:43:50  |1              |2.7          |1         |N                 |114         |229         |1           |9.5        |0.5  |0.5    |0.0       |0.0         |0.3                  |10.8        |\n",
      "|2       |2018-12-31 00:25:54 |2019-01-01 00:18:44  |1              |4.83         |1         |N                 |186         |74          |1           |15.5       |0.5  |0.5    |2.52      |0.0         |0.3                  |19.32       |\n",
      "|2       |2018-12-31 00:44:58 |2019-01-01 00:13:47  |1              |4.36         |1         |N                 |90          |238         |1           |16.5       |0.5  |0.5    |2.67      |0.0         |0.3                  |20.47       |\n",
      "|2       |2018-12-31 00:56:41 |2019-01-01 00:31:19  |1              |0.96         |1         |N                 |164         |48          |2           |6.0        |0.5  |0.5    |0.0       |0.0         |0.3                  |7.3         |\n",
      "|2       |2018-12-31 00:25:11 |2019-01-01 00:24:33  |1              |3.09         |1         |N                 |186         |148         |2           |13.5       |0.5  |0.5    |0.0       |0.0         |0.3                  |14.8        |\n",
      "|2       |2018-12-31 00:49:26 |2019-01-01 00:40:57  |2              |5.16         |1         |N                 |263         |79          |2           |20.0       |0.5  |0.5    |0.0       |0.0         |0.3                  |21.3        |\n",
      "|2       |2018-12-31 00:53:52 |2019-01-01 00:45:12  |1              |0.6          |1         |N                 |263         |141         |1           |4.0        |0.5  |0.5    |1.06      |0.0         |0.3                  |6.36        |\n",
      "|2       |2018-12-31 00:40:53 |2019-01-01 00:38:26  |1              |11.49        |1         |N                 |40          |152         |2           |35.5       |0.5  |0.5    |0.0       |0.0         |0.3                  |36.8        |\n",
      "|2       |2018-12-31 00:16:34 |2019-01-01 00:08:03  |3              |2.98         |1         |N                 |186         |148         |2           |13.0       |0.5  |0.5    |0.0       |0.0         |0.3                  |14.3        |\n",
      "|2       |2018-12-31 00:43:48 |2019-01-01 00:17:59  |1              |1.45         |1         |N                 |68          |234         |2           |6.5        |0.5  |0.5    |0.0       |0.0         |0.3                  |7.8         |\n",
      "|2       |2018-12-31 00:34:28 |2019-01-01 00:12:48  |6              |7.8          |1         |N                 |233         |69          |2           |24.5       |0.5  |0.5    |0.0       |0.0         |0.3                  |25.8        |\n",
      "|2       |2018-12-31 00:20:47 |2019-01-01 00:17:20  |5              |9.52         |1         |N                 |164         |17          |2           |29.5       |0.5  |0.5    |0.0       |5.76        |0.3                  |36.56       |\n",
      "|2       |2018-12-31 00:58:10 |2019-01-01 00:49:29  |2              |1.78         |1         |N                 |249         |164         |2           |8.0        |0.5  |0.5    |0.0       |0.0         |0.3                  |9.3         |\n",
      "|2       |2018-12-31 01:18:56 |2019-01-01 01:17:29  |6              |2.56         |1         |N                 |249         |186         |1           |11.0       |0.5  |0.5    |2.46      |0.0         |0.3                  |14.76       |\n",
      "|2       |2018-12-31 01:39:43 |2019-01-01 01:14:06  |1              |2.79         |1         |N                 |234         |141         |1           |10.0       |0.5  |0.5    |2.26      |0.0         |0.3                  |13.56       |\n",
      "|2       |2018-12-31 01:04:41 |2019-01-01 00:28:45  |1              |3.1          |1         |N                 |90          |87          |1           |11.5       |0.5  |0.5    |0.0       |0.0         |0.3                  |12.8        |\n",
      "|2       |2018-12-31 01:46:44 |2019-01-01 01:31:52  |6              |2.68         |1         |N                 |48          |237         |1           |10.0       |0.5  |0.5    |1.7       |0.0         |0.3                  |13.0        |\n",
      "+--------+--------------------+---------------------+---------------+-------------+----------+------------------+------------+------------+------------+-----------+-----+-------+----------+------------+---------------------+------------+\n",
      "only showing top 20 rows\n",
      "\n"
     ]
    },
    {
     "name": "stderr",
     "output_type": "stream",
     "text": [
      "\r",
      "                                                                                \r"
     ]
    }
   ],
   "source": [
    "#Displays features where pickup time is in 2018 and dropoff is after\n",
    "taxi18.filter((col(\"tpep_pickup_datetime\") < \"2018-12-31 23:59:59\") & \n",
    "              (col(\"tpep_dropoff_datetime\") > \"2018-12-31 23:59:59\")).show(truncate = False)\n"
   ]
  },
  {
   "cell_type": "code",
   "execution_count": 33,
   "id": "9ae249f1",
   "metadata": {},
   "outputs": [
    {
     "name": "stderr",
     "output_type": "stream",
     "text": [
      "[Stage 89:=====================================================>  (75 + 3) / 78]\r"
     ]
    },
    {
     "name": "stdout",
     "output_type": "stream",
     "text": [
      "Total rows pickup and dropoff after 2018 : 214\n"
     ]
    },
    {
     "name": "stderr",
     "output_type": "stream",
     "text": [
      "\r",
      "[Stage 89:======================================================> (76 + 2) / 78]\r",
      "\r",
      "                                                                                \r"
     ]
    }
   ],
   "source": [
    "#Prints Total number of rows where both pickup and dropoff time is after 2018\n",
    "print(\"Total rows pickup and dropoff after 2018 :\", \n",
    "      taxi18.filter((col(\"tpep_pickup_datetime\") > \"2018-12-31 23:59:59\") \n",
    "                    & (col(\"tpep_dropoff_datetime\") > \"2018-12-31 23:59:59\")).count())\n",
    "\n"
   ]
  },
  {
   "cell_type": "code",
   "execution_count": 46,
   "id": "d17104d2",
   "metadata": {},
   "outputs": [],
   "source": [
    "#filtering out rows where both pick up and dropoff after 2018\n",
    "taxi18 = taxi18.filter(~((col(\"tpep_pickup_datetime\") > \"2018-12-31 23:59:59\") & \n",
    "                         (col(\"tpep_dropoff_datetime\") > \"2018-12-31 23:59:59\")))\n"
   ]
  },
  {
   "cell_type": "code",
   "execution_count": 35,
   "id": "d97fb260",
   "metadata": {},
   "outputs": [
    {
     "name": "stderr",
     "output_type": "stream",
     "text": [
      "[Stage 92:=====================================================>  (74 + 4) / 78]\r"
     ]
    },
    {
     "name": "stdout",
     "output_type": "stream",
     "text": [
      "Total rows pickup and dropoff after 2018 : 0\n"
     ]
    },
    {
     "name": "stderr",
     "output_type": "stream",
     "text": [
      "\r",
      "[Stage 92:=======================================================>(77 + 1) / 78]\r",
      "\r",
      "                                                                                \r"
     ]
    }
   ],
   "source": [
    "#Prints Total number of rows where both pickup and dropoff time is after 2018\n",
    "print(\"Total rows pickup and dropoff after 2018 :\", \n",
    "      taxi18.filter((col(\"tpep_pickup_datetime\") > \"2018-12-31 23:59:59\") \n",
    "                    & (col(\"tpep_dropoff_datetime\") > \"2018-12-31 23:59:59\")).count())\n",
    "\n"
   ]
  },
  {
   "cell_type": "code",
   "execution_count": 47,
   "id": "2066bc0d",
   "metadata": {},
   "outputs": [],
   "source": [
    "taxi18 = taxi18.filter(~(col('tpep_pickup_datetime') > '2018-12-31 23:59:59'))"
   ]
  },
  {
   "cell_type": "markdown",
   "id": "82554d40",
   "metadata": {},
   "source": [
    " "
   ]
  },
  {
   "cell_type": "markdown",
   "id": "2293b636",
   "metadata": {},
   "source": [
    "  "
   ]
  },
  {
   "cell_type": "markdown",
   "id": "edb0e0a0",
   "metadata": {},
   "source": [
    "#### 2.2. Rows where pickup, dropoff or both are before the dataset year"
   ]
  },
  {
   "cell_type": "code",
   "execution_count": 36,
   "id": "e4167340",
   "metadata": {},
   "outputs": [
    {
     "name": "stderr",
     "output_type": "stream",
     "text": [
      "[Stage 95:====================================================>   (73 + 5) / 78]\r"
     ]
    },
    {
     "name": "stdout",
     "output_type": "stream",
     "text": [
      " Total number of rows where dropoff was before 2018:  1066\n"
     ]
    },
    {
     "name": "stderr",
     "output_type": "stream",
     "text": [
      "\r",
      "[Stage 95:======================================================> (76 + 2) / 78]\r",
      "\r",
      "                                                                                \r"
     ]
    }
   ],
   "source": [
    "dropoff_before2018= taxi18.filter(col(\"tpep_dropoff_datetime\") < \"2018-01-01 00:00:00\").count()\n",
    "print(\" Total number of rows where dropoff was before 2018: \", dropoff_before2018)"
   ]
  },
  {
   "cell_type": "code",
   "execution_count": 37,
   "id": "772d1f4d",
   "metadata": {},
   "outputs": [
    {
     "name": "stderr",
     "output_type": "stream",
     "text": [
      "[Stage 98:=====================================================>  (74 + 4) / 78]\r"
     ]
    },
    {
     "name": "stdout",
     "output_type": "stream",
     "text": [
      " Total number of rows where pickup was before 2018:  1147\n"
     ]
    },
    {
     "name": "stderr",
     "output_type": "stream",
     "text": [
      "\r",
      "[Stage 98:=======================================================>(77 + 1) / 78]\r",
      "\r",
      "                                                                                \r"
     ]
    }
   ],
   "source": [
    "pickup_before2018= taxi18.filter(col(\"tpep_pickup_datetime\") < \"2018-01-01 00:00:00\").count()\n",
    "print(\" Total number of rows where pickup was before 2018: \", pickup_before2018)"
   ]
  },
  {
   "cell_type": "code",
   "execution_count": 38,
   "id": "5cbc51e1",
   "metadata": {},
   "outputs": [
    {
     "name": "stderr",
     "output_type": "stream",
     "text": [
      "[Stage 101:====================================================>  (74 + 4) / 78]\r"
     ]
    },
    {
     "name": "stdout",
     "output_type": "stream",
     "text": [
      "Total number of pickup or dropoff dates less 2018=  1147\n"
     ]
    },
    {
     "name": "stderr",
     "output_type": "stream",
     "text": [
      "\r",
      "[Stage 101:====================================================>  (75 + 3) / 78]\r",
      "\r",
      "                                                                                \r"
     ]
    }
   ],
   "source": [
    "print(\"Total number of pickup or dropoff dates less 2018= \", \n",
    "      taxi18.filter((col(\"tpep_pickup_datetime\") < \"2018-01-01 00:00:00\") | \n",
    "                    (col(\"tpep_dropoff_datetime\") < \"2018-01-01 00:00:00\")).count())\n",
    "\n"
   ]
  },
  {
   "cell_type": "code",
   "execution_count": 39,
   "id": "d3e54556",
   "metadata": {},
   "outputs": [
    {
     "name": "stderr",
     "output_type": "stream",
     "text": [
      "[Stage 104:=====================================================> (76 + 2) / 78]\r"
     ]
    },
    {
     "name": "stdout",
     "output_type": "stream",
     "text": [
      "Total number of pickup and dropoff dates less 2018=  0\n"
     ]
    },
    {
     "name": "stderr",
     "output_type": "stream",
     "text": [
      "\r",
      "[Stage 104:======================================================>(77 + 1) / 78]\r",
      "\r",
      "                                                                                \r"
     ]
    }
   ],
   "source": [
    "print(\"Total number of pickup and dropoff dates less 2018= \", \n",
    "      taxi18.filter((col(\"tpep_pickup_datetime\") > \"2018-01-01 00:00:00\") & \n",
    "                    (col(\"tpep_dropoff_datetime\") < \"2018-01-01 00:00:00\")).count())\n",
    "\n"
   ]
  },
  {
   "cell_type": "code",
   "execution_count": 40,
   "id": "10bf2634",
   "metadata": {},
   "outputs": [
    {
     "name": "stderr",
     "output_type": "stream",
     "text": [
      "[Stage 107:====================================================>  (74 + 4) / 78]\r"
     ]
    },
    {
     "name": "stdout",
     "output_type": "stream",
     "text": [
      "Total number of pickup and dropoff dates less 2018=  1066\n"
     ]
    },
    {
     "name": "stderr",
     "output_type": "stream",
     "text": [
      "\r",
      "[Stage 107:======================================================>(77 + 1) / 78]\r",
      "\r",
      "                                                                                \r"
     ]
    }
   ],
   "source": [
    "print(\"Total number of pickup and dropoff dates less 2018= \", \n",
    "      taxi18.filter((col(\"tpep_pickup_datetime\") < \"2018-01-01 00:00:00\") & \n",
    "                    (col(\"tpep_dropoff_datetime\") < \"2018-01-01 00:00:00\")).count())\n",
    "\n"
   ]
  },
  {
   "cell_type": "code",
   "execution_count": 42,
   "id": "d16006a5",
   "metadata": {},
   "outputs": [
    {
     "name": "stderr",
     "output_type": "stream",
     "text": [
      "\r",
      "[Stage 111:>                                                        (0 + 1) / 1]\r"
     ]
    },
    {
     "name": "stdout",
     "output_type": "stream",
     "text": [
      "+--------+--------------------+---------------------+---------------+-------------+----------+------------------+------------+------------+------------+-----------+-----+-------+----------+------------+---------------------+------------+\n",
      "|VendorID|tpep_pickup_datetime|tpep_dropoff_datetime|passenger_count|trip_distance|RatecodeID|store_and_fwd_flag|PULocationID|DOLocationID|payment_type|fare_amount|extra|mta_tax|tip_amount|tolls_amount|improvement_surcharge|total_amount|\n",
      "+--------+--------------------+---------------------+---------------+-------------+----------+------------------+------------+------------+------------+-----------+-----+-------+----------+------------+---------------------+------------+\n",
      "|2       |2002-12-31 23:14:24 |2002-12-31 23:47:35  |2              |4.06         |1         |N                 |261         |48          |2           |22.0       |0.0  |0.5    |0.0       |0.0         |0.3                  |22.8        |\n",
      "|2       |2002-12-31 23:58:47 |2003-01-01 00:09:49  |1              |1.02         |1         |N                 |68          |230         |2           |8.0        |0.5  |0.5    |0.0       |0.0         |0.3                  |9.3         |\n",
      "|2       |2003-01-01 00:20:56 |2003-01-01 01:08:37  |2              |7.28         |1         |N                 |164         |225         |2           |32.0       |0.5  |0.5    |0.0       |0.0         |0.3                  |33.3        |\n",
      "|2       |2002-12-31 21:38:11 |2002-12-31 21:48:36  |3              |1.33         |1         |N                 |114         |231         |2           |7.5        |0.5  |0.5    |0.0       |0.0         |0.3                  |8.8         |\n",
      "|2       |2009-01-01 15:39:44 |2009-01-01 16:16:05  |1              |11.93        |1         |N                 |138         |170         |1           |35.5       |0.0  |0.5    |8.41      |5.76        |0.3                  |50.47       |\n",
      "|2       |2008-12-31 22:58:19 |2008-12-31 23:02:19  |1              |0.71         |1         |N                 |262         |263         |2           |5.0        |0.0  |0.5    |0.0       |0.0         |0.3                  |5.8         |\n",
      "|2       |2008-12-31 23:03:29 |2008-12-31 23:15:19  |3              |1.69         |1         |N                 |143         |230         |2           |8.5        |0.0  |0.5    |0.0       |0.0         |0.3                  |9.3         |\n",
      "|2       |2008-12-31 23:05:51 |2009-01-01 00:00:20  |1              |9.7          |1         |N                 |138         |230         |1           |39.0       |0.0  |0.5    |9.11      |5.76        |0.3                  |54.67       |\n",
      "|2       |2009-01-01 23:51:09 |2009-01-02 00:07:43  |1              |1.36         |1         |N                 |230         |246         |1           |10.5       |0.0  |0.5    |2.26      |0.0         |0.3                  |13.56       |\n",
      "|2       |2009-01-01 23:59:52 |2009-01-02 00:09:55  |6              |1.3          |1         |N                 |236         |161         |2           |8.0        |0.0  |0.5    |0.0       |0.0         |0.3                  |8.8         |\n",
      "|2       |2009-01-01 00:18:42 |2009-01-01 00:36:57  |1              |2.38         |1         |N                 |229         |107         |2           |13.0       |0.0  |0.5    |0.0       |0.0         |0.3                  |13.8        |\n",
      "|2       |2008-12-31 22:38:12 |2008-12-31 23:17:36  |1              |11.73        |1         |N                 |138         |162         |2           |37.5       |0.0  |0.5    |0.0       |5.76        |0.3                  |44.06       |\n",
      "|2       |2001-01-01 00:02:26 |2001-01-01 00:04:49  |1              |0.36         |1         |N                 |48          |48          |2           |3.5        |0.0  |0.5    |0.0       |0.0         |0.3                  |4.3         |\n",
      "|2       |2009-01-01 00:16:09 |2009-01-01 00:22:02  |2              |1.21         |1         |N                 |151         |239         |2           |6.5        |0.0  |0.5    |0.0       |0.0         |0.3                  |7.3         |\n",
      "|2       |2009-01-01 00:50:12 |2009-01-01 00:57:32  |1              |0.68         |1         |N                 |142         |48          |2           |6.5        |0.0  |0.5    |0.0       |0.0         |0.3                  |7.3         |\n",
      "|2       |2009-01-01 01:03:51 |2009-01-01 01:09:02  |1              |0.75         |1         |N                 |163         |48          |2           |5.5        |0.0  |0.5    |0.0       |0.0         |0.3                  |6.3         |\n",
      "|2       |2008-12-31 23:28:13 |2008-12-31 23:31:38  |1              |0.53         |1         |N                 |144         |79          |2           |4.5        |0.0  |0.5    |0.0       |0.0         |0.3                  |5.3         |\n",
      "|2       |2008-12-31 23:32:48 |2008-12-31 23:37:09  |1              |0.61         |1         |N                 |79          |79          |2           |5.0        |0.0  |0.5    |0.0       |0.0         |0.3                  |5.8         |\n",
      "|2       |2009-01-01 00:15:50 |2009-01-01 00:23:32  |1              |0.55         |1         |N                 |170         |162         |1           |6.0        |0.0  |0.5    |1.7       |0.0         |0.3                  |8.5         |\n",
      "|2       |2009-01-01 00:29:53 |2009-01-01 00:38:08  |1              |1.02         |1         |N                 |164         |50          |2           |7.0        |0.0  |0.5    |0.0       |0.0         |0.3                  |7.8         |\n",
      "+--------+--------------------+---------------------+---------------+-------------+----------+------------------+------------+------------+------------+-----------+-----+-------+----------+------------+---------------------+------------+\n",
      "only showing top 20 rows\n",
      "\n"
     ]
    },
    {
     "name": "stderr",
     "output_type": "stream",
     "text": [
      "\r",
      "                                                                                \r"
     ]
    }
   ],
   "source": [
    "taxi18.filter((col(\"tpep_pickup_datetime\") < \"2018-01-01 00:00:00\") & (col(\"tpep_dropoff_datetime\") < \"2018-01-01 00:00:00\")).show(truncate = False)\n",
    "\n"
   ]
  },
  {
   "cell_type": "code",
   "execution_count": 48,
   "id": "163082fb",
   "metadata": {},
   "outputs": [],
   "source": [
    "#filtering out rows where both pick up and dropoff before 2018\n",
    "taxi18 = taxi18.filter(~((col(\"tpep_pickup_datetime\") < \"2018-01-01 00:00:00\") & (col(\"tpep_dropoff_datetime\") < \"2018-01-01 00:00:00\")))\n"
   ]
  },
  {
   "cell_type": "code",
   "execution_count": 49,
   "id": "09b41fdf",
   "metadata": {},
   "outputs": [],
   "source": [
    "taxi18 = taxi18.filter(~(col('tpep_pickup_datetime') < '2018-01-01 00:00:00'))"
   ]
  },
  {
   "cell_type": "code",
   "execution_count": 44,
   "id": "1a2d7ab4",
   "metadata": {},
   "outputs": [
    {
     "name": "stderr",
     "output_type": "stream",
     "text": [
      "[Stage 112:====================================================>  (75 + 3) / 78]\r"
     ]
    },
    {
     "name": "stdout",
     "output_type": "stream",
     "text": [
      "Total number of pickup and dropoff dates less 2018=  0\n"
     ]
    },
    {
     "name": "stderr",
     "output_type": "stream",
     "text": [
      "\r",
      "[Stage 112:======================================================>(77 + 1) / 78]\r",
      "\r",
      "                                                                                \r"
     ]
    }
   ],
   "source": [
    "print(\"Total number of pickup and dropoff dates less 2018= \", \n",
    "      taxi18.filter((col(\"tpep_pickup_datetime\") < \"2018-01-01 00:00:00\") & \n",
    "                    (col(\"tpep_dropoff_datetime\") < \"2018-01-01 00:00:00\")).count())\n",
    "\n"
   ]
  },
  {
   "cell_type": "markdown",
   "id": "14cc4d68",
   "metadata": {},
   "source": [
    "### Excessively high Charges"
   ]
  },
  {
   "cell_type": "code",
   "execution_count": 50,
   "id": "674a1cde",
   "metadata": {},
   "outputs": [
    {
     "name": "stderr",
     "output_type": "stream",
     "text": [
      "[Stage 15:====================================================>   (73 + 5) / 78]\r"
     ]
    },
    {
     "name": "stdout",
     "output_type": "stream",
     "text": [
      "Number of rows where fare is over 190 =  1661\n"
     ]
    },
    {
     "name": "stderr",
     "output_type": "stream",
     "text": [
      "\r",
      "                                                                                \r"
     ]
    }
   ],
   "source": [
    "\n",
    "print(\"Number of rows where fare is over 190 = \", taxi18.filter((col(\"total_amount\") > 190)).count())"
   ]
  },
  {
   "cell_type": "code",
   "execution_count": 51,
   "id": "b4f9942d",
   "metadata": {},
   "outputs": [],
   "source": [
    "taxi18 = taxi18.filter(~(col(\"total_amount\") > 190))"
   ]
  },
  {
   "cell_type": "code",
   "execution_count": 47,
   "id": "380040fb",
   "metadata": {},
   "outputs": [
    {
     "name": "stdout",
     "output_type": "stream",
     "text": [
      "Number of rows where fare is over 190 =  0\n"
     ]
    }
   ],
   "source": [
    "\n",
    "print(\"Number of rows where fare is over 190 = \", taxi18.filter((col(\"total_amount\") > 190)).count())"
   ]
  },
  {
   "cell_type": "markdown",
   "id": "00e34228",
   "metadata": {},
   "source": [
    " "
   ]
  },
  {
   "cell_type": "markdown",
   "id": "8f323cb6",
   "metadata": {},
   "source": [
    "#### Long Trip distances"
   ]
  },
  {
   "cell_type": "code",
   "execution_count": 52,
   "id": "8568e9ac",
   "metadata": {},
   "outputs": [
    {
     "name": "stderr",
     "output_type": "stream",
     "text": [
      "[Stage 21:====================================================>   (73 + 5) / 78]\r"
     ]
    },
    {
     "name": "stdout",
     "output_type": "stream",
     "text": [
      "number of rows over 50 miles =  177\n"
     ]
    },
    {
     "name": "stderr",
     "output_type": "stream",
     "text": [
      "\r",
      "[Stage 21:=====================================================>  (75 + 3) / 78]\r",
      "\r",
      "                                                                                \r"
     ]
    }
   ],
   "source": [
    "print(\"number of rows over 50 miles = \", taxi18.filter(col(\"trip_distance\") > 50).count())"
   ]
  },
  {
   "cell_type": "code",
   "execution_count": 53,
   "id": "ffaf53b5",
   "metadata": {},
   "outputs": [],
   "source": [
    "taxi18 = taxi18.filter(~(col(\"trip_distance\") > 50))"
   ]
  },
  {
   "cell_type": "code",
   "execution_count": 50,
   "id": "cb377ed6",
   "metadata": {},
   "outputs": [
    {
     "name": "stdout",
     "output_type": "stream",
     "text": [
      "number of rows over 50 miles =  0\n"
     ]
    }
   ],
   "source": [
    "print(\"number of rows over 50 miles = \", taxi18.filter(col(\"trip_distance\") > 50).count())"
   ]
  },
  {
   "cell_type": "markdown",
   "id": "e28029aa",
   "metadata": {},
   "source": [
    " "
   ]
  },
  {
   "cell_type": "markdown",
   "id": "6e0fff87",
   "metadata": {},
   "source": [
    "### New Test For features where trip duration is longer than normal"
   ]
  },
  {
   "cell_type": "code",
   "execution_count": 51,
   "id": "4d09758e",
   "metadata": {},
   "outputs": [
    {
     "name": "stderr",
     "output_type": "stream",
     "text": [
      "[Stage 125:===================================================>   (73 + 5) / 78]\r"
     ]
    },
    {
     "name": "stdout",
     "output_type": "stream",
     "text": [
      "Number of rows with pickup to drop-off duration over 2 hours:  253708\n"
     ]
    },
    {
     "name": "stderr",
     "output_type": "stream",
     "text": [
      "\r",
      "[Stage 125:======================================================>(77 + 1) / 78]\r",
      "\r",
      "                                                                                \r"
     ]
    }
   ],
   "source": [
    "\n",
    "print(\"Number of rows with pickup to drop-off duration over 2 hours: \", taxi18.filter(\n",
    "     \n",
    "    (expr(\"(unix_timestamp(tpep_dropoff_datetime) - unix_timestamp(tpep_pickup_datetime)) > (2 * 3600)\"))\n",
    ").count())\n",
    "\n"
   ]
  },
  {
   "cell_type": "code",
   "execution_count": 54,
   "id": "f6556aa0",
   "metadata": {},
   "outputs": [],
   "source": [
    "taxi18 = taxi18.filter(    \n",
    "   ~ (expr(\"(unix_timestamp(tpep_dropoff_datetime) - unix_timestamp(tpep_pickup_datetime)) > (2 * 3600)\"))\n",
    ")\n"
   ]
  },
  {
   "cell_type": "code",
   "execution_count": 53,
   "id": "5b98c2ec",
   "metadata": {},
   "outputs": [
    {
     "name": "stdout",
     "output_type": "stream",
     "text": [
      "Number of rows with pickup to drop-off duration over 2 hours:  0\n"
     ]
    }
   ],
   "source": [
    "\n",
    "print(\"Number of rows with pickup to drop-off duration over 2 hours: \", taxi18.filter(\n",
    "     \n",
    "    (expr(\"(unix_timestamp(tpep_dropoff_datetime) - unix_timestamp(tpep_pickup_datetime)) > (2 * 3600)\"))\n",
    ").count())\n",
    "\n"
   ]
  },
  {
   "cell_type": "markdown",
   "id": "2a881815",
   "metadata": {},
   "source": [
    "#### Checking Features For Correlation"
   ]
  },
  {
   "cell_type": "code",
   "execution_count": 54,
   "id": "17f4d092",
   "metadata": {},
   "outputs": [
    {
     "name": "stdout",
     "output_type": "stream",
     "text": [
      "['passenger_count', 'trip_distance', 'fare_amount', 'extra', 'mta_tax', 'tip_amount', 'tolls_amount', 'improvement_surcharge', 'total_amount']\n"
     ]
    }
   ],
   "source": [
    "from pyspark.sql.types import IntegerType, FloatType\n",
    "\n",
    "# Select the numerical columns for analysis\n",
    "numerical_columns = [column for column in taxi18.columns\n",
    "                     if isinstance(taxi18.schema[column].dataType, IntegerType)\n",
    "                     or isinstance(taxi18.schema[column].dataType, FloatType)]\n",
    "\n",
    "print(numerical_columns)\n"
   ]
  },
  {
   "cell_type": "code",
   "execution_count": 55,
   "id": "6532289a",
   "metadata": {},
   "outputs": [
    {
     "name": "stderr",
     "output_type": "stream",
     "text": [
      "23/06/29 14:06:41 WARN InstanceBuilder: Failed to load implementation from:dev.ludovic.netlib.blas.JNIBLAS\n",
      "23/06/29 14:06:41 WARN InstanceBuilder: Failed to load implementation from:dev.ludovic.netlib.blas.VectorBLAS\n",
      "[Stage 134:===================================================>   (73 + 5) / 78]\r"
     ]
    },
    {
     "name": "stdout",
     "output_type": "stream",
     "text": [
      "Correlation between passenger_count and passenger_count: 1.0\n",
      "Correlation between passenger_count and trip_distance: 0.014811885904395472\n",
      "Correlation between passenger_count and fare_amount: 0.012687418333877765\n",
      "Correlation between passenger_count and extra: 0.0049278121197907435\n",
      "Correlation between passenger_count and mta_tax: -0.0007714045538100719\n",
      "Correlation between passenger_count and tip_amount: -0.003450518824593322\n",
      "Correlation between passenger_count and tolls_amount: 0.009483201815738581\n",
      "Correlation between passenger_count and improvement_surcharge: -0.00391911121525614\n",
      "Correlation between passenger_count and total_amount: 0.010706307951968105\n",
      "Correlation between trip_distance and passenger_count: 0.014811885904395472\n",
      "Correlation between trip_distance and trip_distance: 1.0\n",
      "Correlation between trip_distance and fare_amount: 0.9335681395669534\n",
      "Correlation between trip_distance and extra: 0.10826815613873023\n",
      "Correlation between trip_distance and mta_tax: -0.1003447059370905\n",
      "Correlation between trip_distance and tip_amount: 0.5867685893946695\n",
      "Correlation between trip_distance and tolls_amount: 0.6784640909423467\n",
      "Correlation between trip_distance and improvement_surcharge: 0.015213608778100251\n",
      "Correlation between trip_distance and total_amount: 0.9281247521378008\n",
      "Correlation between fare_amount and passenger_count: 0.012687418333877765\n",
      "Correlation between fare_amount and trip_distance: 0.9335681395669534\n",
      "Correlation between fare_amount and fare_amount: 1.0\n",
      "Correlation between fare_amount and extra: 0.09128003983591616\n",
      "Correlation between fare_amount and mta_tax: -0.14822352817827325\n",
      "Correlation between fare_amount and tip_amount: 0.6111209447461485\n",
      "Correlation between fare_amount and tolls_amount: 0.6644616762108015\n",
      "Correlation between fare_amount and improvement_surcharge: 0.04642028273234464\n",
      "Correlation between fare_amount and total_amount: 0.9828218259576627\n",
      "Correlation between extra and passenger_count: 0.0049278121197907435\n",
      "Correlation between extra and trip_distance: 0.10826815613873023\n",
      "Correlation between extra and fare_amount: 0.09128003983591616\n",
      "Correlation between extra and extra: 1.0\n",
      "Correlation between extra and mta_tax: 0.029435202282138098\n",
      "Correlation between extra and tip_amount: 0.08374511983316453\n",
      "Correlation between extra and tolls_amount: 0.05927519564732235\n",
      "Correlation between extra and improvement_surcharge: 0.03469325639813288\n",
      "Correlation between extra and total_amount: 0.13046509336311748\n",
      "Correlation between mta_tax and passenger_count: -0.0007714045538100719\n",
      "Correlation between mta_tax and trip_distance: -0.1003447059370905\n",
      "Correlation between mta_tax and fare_amount: -0.14822352817827325\n",
      "Correlation between mta_tax and extra: 0.029435202282138098\n",
      "Correlation between mta_tax and mta_tax: 1.0\n",
      "Correlation between mta_tax and tip_amount: -0.10325923483832855\n",
      "Correlation between mta_tax and tolls_amount: -0.24534922960022537\n",
      "Correlation between mta_tax and improvement_surcharge: 0.5989005227709462\n",
      "Correlation between mta_tax and total_amount: -0.1597348921950681\n",
      "Correlation between tip_amount and passenger_count: -0.003450518824593322\n",
      "Correlation between tip_amount and trip_distance: 0.5867685893946695\n",
      "Correlation between tip_amount and fare_amount: 0.6111209447461485\n",
      "Correlation between tip_amount and extra: 0.08374511983316453\n",
      "Correlation between tip_amount and mta_tax: -0.10325923483832855\n",
      "Correlation between tip_amount and tip_amount: 1.0\n",
      "Correlation between tip_amount and tolls_amount: 0.4947081047012342\n",
      "Correlation between tip_amount and improvement_surcharge: 0.017650885989903928\n",
      "Correlation between tip_amount and total_amount: 0.7273684454734647\n",
      "Correlation between tolls_amount and passenger_count: 0.009483201815738581\n",
      "Correlation between tolls_amount and trip_distance: 0.6784640909423467\n",
      "Correlation between tolls_amount and fare_amount: 0.6644616762108015\n",
      "Correlation between tolls_amount and extra: 0.05927519564732235\n",
      "Correlation between tolls_amount and mta_tax: -0.24534922960022537\n",
      "Correlation between tolls_amount and tip_amount: 0.4947081047012342\n",
      "Correlation between tolls_amount and tolls_amount: 1.0\n",
      "Correlation between tolls_amount and improvement_surcharge: 0.006362386965956528\n",
      "Correlation between tolls_amount and total_amount: 0.7331146732350151\n",
      "Correlation between improvement_surcharge and passenger_count: -0.00391911121525614\n",
      "Correlation between improvement_surcharge and trip_distance: 0.015213608778100251\n",
      "Correlation between improvement_surcharge and fare_amount: 0.04642028273234464\n",
      "Correlation between improvement_surcharge and extra: 0.03469325639813288\n",
      "Correlation between improvement_surcharge and mta_tax: 0.5989005227709462\n",
      "Correlation between improvement_surcharge and tip_amount: 0.017650885989903928\n",
      "Correlation between improvement_surcharge and tolls_amount: 0.006362386965956528\n",
      "Correlation between improvement_surcharge and improvement_surcharge: 1.0\n",
      "Correlation between improvement_surcharge and total_amount: 0.044888313509670985\n",
      "Correlation between total_amount and passenger_count: 0.010706307951968105\n",
      "Correlation between total_amount and trip_distance: 0.9281247521378008\n",
      "Correlation between total_amount and fare_amount: 0.9828218259576627\n",
      "Correlation between total_amount and extra: 0.13046509336311748\n",
      "Correlation between total_amount and mta_tax: -0.1597348921950681\n",
      "Correlation between total_amount and tip_amount: 0.7273684454734647\n",
      "Correlation between total_amount and tolls_amount: 0.7331146732350151\n",
      "Correlation between total_amount and improvement_surcharge: 0.044888313509670985\n",
      "Correlation between total_amount and total_amount: 1.0\n"
     ]
    },
    {
     "name": "stderr",
     "output_type": "stream",
     "text": [
      "\r",
      "                                                                                \r"
     ]
    }
   ],
   "source": [
    "\n",
    "# Create a vector assembler to combine the numerical columns into a single feature vector\n",
    "assembler = VectorAssembler(inputCols=numerical_columns, outputCol=\"features\")\n",
    "feature_vector = assembler.transform(taxi18).select(\"features\")\n",
    "\n",
    "# Compute the correlation matrix\n",
    "correlation_matrix = Correlation.corr(feature_vector, \"features\")\n",
    "\n",
    "# Extract the correlation matrix values\n",
    "correlation_values = correlation_matrix.head()[0].toArray()\n",
    "\n",
    "# Display the correlation matrix\n",
    "for i in range(len(numerical_columns)):\n",
    "    for j in range(len(numerical_columns)):\n",
    "        print(f\"Correlation between {numerical_columns[i]} and {numerical_columns[j]}: {correlation_values[i][j]}\")\n"
   ]
  },
  {
   "cell_type": "code",
   "execution_count": 56,
   "id": "5567a93c",
   "metadata": {},
   "outputs": [
    {
     "data": {
      "image/png": "[encoded data removed]",
      "text/plain": [
       "<Figure size 1000x800 with 2 Axes>"
      ]
     },
     "metadata": {},
     "output_type": "display_data"
    }
   ],
   "source": [
    "# Convert correlation values to a Pandas DataFrame\n",
    "correlation_df = pd.DataFrame(correlation_values, columns=numerical_columns, index=numerical_columns)\n",
    "\n",
    "# Create a correlation heatmap using seaborn\n",
    "plt.figure(figsize=(10, 8))\n",
    "sns.heatmap(correlation_df, annot=True, cmap=\"coolwarm\")\n",
    "\n",
    "# Set the plot title and labels\n",
    "plt.title(\"Correlation Matrix\")\n",
    "plt.xlabel(\"Variables\")\n",
    "plt.ylabel(\"Variables\")\n",
    "\n",
    "# Display the plot\n",
    "plt.show()\n"
   ]
  },
  {
   "cell_type": "code",
   "execution_count": 57,
   "id": "5967aaf2",
   "metadata": {},
   "outputs": [
    {
     "data": {
      "text/plain": [
       "'from pyspark.sql.functions import countDistinct\\n\\nfor column in taxi18.columns:\\n    distinct_count = taxi18.agg(countDistinct(column)).collect()[0][0]\\n    print(\"Total distinct values in column\", column, \"are:\", distinct_count)\\n'"
      ]
     },
     "execution_count": 57,
     "metadata": {},
     "output_type": "execute_result"
    }
   ],
   "source": [
    "\"\"\"from pyspark.sql.functions import countDistinct\n",
    "\n",
    "for column in taxi18.columns:\n",
    "    distinct_count = taxi18.agg(countDistinct(column)).collect()[0][0]\n",
    "    print(\"Total distinct values in column\", column, \"are:\", distinct_count)\n",
    "\"\"\""
   ]
  },
  {
   "cell_type": "markdown",
   "id": "56d9be4b",
   "metadata": {},
   "source": [
    "Drop Features"
   ]
  },
  {
   "cell_type": "code",
   "execution_count": 55,
   "id": "03a32ddd",
   "metadata": {},
   "outputs": [
    {
     "data": {
      "text/plain": [
       "['VendorID',\n",
       " 'tpep_pickup_datetime',\n",
       " 'tpep_dropoff_datetime',\n",
       " 'passenger_count',\n",
       " 'trip_distance',\n",
       " 'RatecodeID',\n",
       " 'store_and_fwd_flag',\n",
       " 'PULocationID',\n",
       " 'DOLocationID',\n",
       " 'payment_type',\n",
       " 'fare_amount',\n",
       " 'extra',\n",
       " 'mta_tax',\n",
       " 'tip_amount',\n",
       " 'tolls_amount',\n",
       " 'improvement_surcharge',\n",
       " 'total_amount']"
      ]
     },
     "execution_count": 55,
     "metadata": {},
     "output_type": "execute_result"
    }
   ],
   "source": [
    "taxi18.columns"
   ]
  },
  {
   "cell_type": "code",
   "execution_count": 56,
   "id": "c9db4548",
   "metadata": {},
   "outputs": [],
   "source": [
    "drop_features = ['extra','improvement_surcharge', 'total_amount', 'mta_tax', 'extra', 'store_and_fwd_flag', \n",
    "                'RatecodeID']"
   ]
  },
  {
   "cell_type": "code",
   "execution_count": 58,
   "id": "2498a2f8",
   "metadata": {},
   "outputs": [],
   "source": [
    "taxi18 = taxi18.drop(*drop_features)"
   ]
  },
  {
   "cell_type": "code",
   "execution_count": null,
   "id": "37b27951",
   "metadata": {},
   "outputs": [],
   "source": []
  },
  {
   "cell_type": "markdown",
   "id": "f2ca14e1",
   "metadata": {},
   "source": [
    "### Adding New features"
   ]
  },
  {
   "cell_type": "code",
   "execution_count": 60,
   "id": "348ef833",
   "metadata": {},
   "outputs": [],
   "source": [
    "taxi18= taxi18.orderBy(col('tpep_dropoff_datetime'))"
   ]
  },
  {
   "cell_type": "code",
   "execution_count": 62,
   "id": "6f80e85b",
   "metadata": {},
   "outputs": [],
   "source": [
    "taxi18 = taxi18.withColumn(\"dropoff_day\", dayofweek(col(\"tpep_dropoff_datetime\")))\n",
    "taxi18 = taxi18.withColumn(\"day_of_month\", dayofmonth(col(\"tpep_dropoff_datetime\")))\n",
    "taxi18 = taxi18.withColumn(\"dropoff_month\", month(col(\"tpep_dropoff_datetime\")))\n",
    "taxi18 = taxi18.withColumn(\"dropoff_hour\", hour(col(\"tpep_dropoff_datetime\")))"
   ]
  },
  {
   "cell_type": "code",
   "execution_count": 65,
   "id": "779f55c7",
   "metadata": {},
   "outputs": [
    {
     "name": "stderr",
     "output_type": "stream",
     "text": [
      "                                                                                \r"
     ]
    }
   ],
   "source": [
    "taxi18.coalesce(1).write.mode(\"overwrite\").csv(\"taxi18_cleaned.csv\", header=True)\n"
   ]
  },
  {
   "cell_type": "code",
   "execution_count": 64,
   "id": "67de4b09",
   "metadata": {},
   "outputs": [
    {
     "name": "stderr",
     "output_type": "stream",
     "text": [
      "                                                                                \r"
     ]
    },
    {
     "data": {
      "text/plain": [
       "89836012"
      ]
     },
     "execution_count": 64,
     "metadata": {},
     "output_type": "execute_result"
    }
   ],
   "source": [
    "taxi18.count()"
   ]
  },
  {
   "cell_type": "code",
   "execution_count": 13,
   "id": "20aa0ae5",
   "metadata": {},
   "outputs": [
    {
     "name": "stderr",
     "output_type": "stream",
     "text": [
      "[Stage 6:====================================================>   (97 + 7) / 104]\r"
     ]
    },
    {
     "name": "stdout",
     "output_type": "stream",
     "text": [
      "2017 = 107261387, 2018 = 105251758, total = 212513145\n"
     ]
    },
    {
     "name": "stderr",
     "output_type": "stream",
     "text": [
      "\r",
      "                                                                                \r"
     ]
    }
   ],
   "source": [
    "twenty17 = taxi17.count()\n",
    "\n",
    "twenty18 = taxi18.count()\n",
    "\n",
    "print(f\"2017 = {twenty17}, 2018 = {twenty18}, total = {twenty17 + twenty18}\")"
   ]
  },
  {
   "cell_type": "code",
   "execution_count": 15,
   "id": "c3446764",
   "metadata": {},
   "outputs": [
    {
     "name": "stderr",
     "output_type": "stream",
     "text": [
      "                                                                                \r"
     ]
    },
    {
     "data": {
      "text/plain": [
       "212513145"
      ]
     },
     "execution_count": 15,
     "metadata": {},
     "output_type": "execute_result"
    }
   ],
   "source": [
    "merged_df.count()"
   ]
  },
  {
   "cell_type": "code",
   "execution_count": 14,
   "id": "16b5d995",
   "metadata": {},
   "outputs": [],
   "source": [
    "from pyspark.sql.functions import lit\n",
    "\n",
    "# Add a column to each DataFrame to indicate the source (taxi18 or taxi17)\n",
    "taxi18_with_source = taxi18.withColumn(\"source\", lit(\"taxi18\"))\n",
    "taxi17_with_source = taxi17.withColumn(\"source\", lit(\"taxi17\"))\n",
    "\n",
    "# Union the two DataFrames\n",
    "merged_df = taxi18_with_source.union(taxi17_with_source)\n",
    "\n",
    "# Drop the 'source' column if not needed\n",
    "merged_df = merged_df.drop(\"source\")\n"
   ]
  },
  {
   "cell_type": "code",
   "execution_count": 15,
   "id": "1048cc65",
   "metadata": {},
   "outputs": [
    {
     "name": "stdout",
     "output_type": "stream",
     "text": [
      "+--------+--------------------+---------------------+---------------+-------------+----------+------------------+------------+------------+------------+-----------+-----+-------+----------+------------+---------------------+------------+-------------------------+-----------+------------+-------------+------------+--------------+-----------+-------------+\n",
      "|VendorID|tpep_pickup_datetime|tpep_dropoff_datetime|passenger_count|trip_distance|RatecodeID|store_and_fwd_flag|PULocationID|DOLocationID|payment_type|fare_amount|extra|mta_tax|tip_amount|tolls_amount|improvement_surcharge|total_amount|journey_length_in_minutes|dropoff_day|day_of_month|dropoff_month|dropoff_hour|dropoff_minute|pickup_hour|pickup_minute|\n",
      "+--------+--------------------+---------------------+---------------+-------------+----------+------------------+------------+------------+------------+-----------+-----+-------+----------+------------+---------------------+------------+-------------------------+-----------+------------+-------------+------------+--------------+-----------+-------------+\n",
      "|       2|2018-03-03T19:30:...| 2018-03-03T19:50:...|              1|         2.63|         1|                 N|          68|          79|           1|       13.5|  0.0|    0.5|      2.86|         0.0|                  0.3|       17.16|                    19.32|          7|           3|            3|          19|            50|         19|           30|\n",
      "|       2|2018-03-03T19:04:...| 2018-03-03T19:07:...|              1|         0.69|         1|                 N|          68|          48|           2|        4.5|  0.0|    0.5|       0.0|         0.0|                  0.3|         5.3|                     2.88|          7|           3|            3|          19|             7|         19|            4|\n",
      "|       2|2018-03-03T19:12:...| 2018-03-03T19:19:...|              1|         0.91|         1|                 N|         246|          68|           1|        6.0|  0.0|    0.5|      1.36|         0.0|                  0.3|        8.16|                     6.63|          7|           3|            3|          19|            19|         19|           12|\n",
      "|       2|2018-03-03T19:23:...| 2018-03-03T19:35:...|              2|         0.97|         1|                 N|          90|         107|           1|        9.0|  0.0|    0.5|      1.96|         0.0|                  0.3|       11.76|                     12.3|          7|           3|            3|          19|            35|         19|           23|\n",
      "|       2|2018-03-03T19:53:...| 2018-03-03T20:04:...|              1|         1.68|         1|                 N|         170|          79|           1|        9.0|  0.0|    0.5|       0.0|         0.0|                  0.3|         9.8|                    11.33|          7|           3|            3|          20|             4|         19|           53|\n",
      "|       2|2018-03-03T19:01:...| 2018-03-03T19:11:...|              2|          1.4|         1|                 N|         186|         230|           1|        8.0|  0.0|    0.5|      1.76|         0.0|                  0.3|       10.56|                    10.18|          7|           3|            3|          19|            11|         19|            1|\n",
      "|       2|2018-03-03T19:16:...| 2018-03-03T19:26:...|              2|         1.75|         1|                 N|         163|         239|           1|        8.5|  0.0|    0.5|      1.86|         0.0|                  0.3|       11.16|                    10.18|          7|           3|            3|          19|            26|         19|           16|\n",
      "|       2|2018-03-03T19:37:...| 2018-03-03T19:44:...|              2|         1.01|         1|                 N|         236|         239|           2|        6.5|  0.0|    0.5|       0.0|         0.0|                  0.3|         7.3|                     6.53|          7|           3|            3|          19|            44|         19|           37|\n",
      "|       2|2018-03-03T19:48:...| 2018-03-03T19:53:...|              2|         0.94|         1|                 N|         239|         238|           1|        5.5|  0.0|    0.5|      1.26|         0.0|                  0.3|        7.56|                     5.22|          7|           3|            3|          19|            53|         19|           48|\n",
      "|       2|2018-03-03T19:56:...| 2018-03-03T20:12:...|              2|         3.39|         1|                 N|         238|          42|           2|       13.5|  0.0|    0.5|       0.0|         0.0|                  0.3|        14.3|                    15.77|          7|           3|            3|          20|            12|         19|           56|\n",
      "|       2|2018-03-03T18:54:...| 2018-03-03T19:01:...|              5|         0.94|         1|                 N|         170|         163|           1|        6.5|  0.0|    0.5|      1.46|         0.0|                  0.3|        8.76|                     7.08|          7|           3|            3|          19|             1|         18|           54|\n",
      "|       2|2018-03-03T19:05:...| 2018-03-03T19:35:...|              2|         3.41|         1|                 N|         162|         249|           1|       19.0|  0.0|    0.5|      3.96|         0.0|                  0.3|       23.76|                     30.0|          7|           3|            3|          19|            35|         19|            5|\n",
      "|       2|2018-03-03T19:36:...| 2018-03-03T19:53:...|              2|         1.57|         1|                 N|         249|         107|           1|       11.5|  0.0|    0.5|      1.84|         0.0|                  0.3|       14.14|                    17.18|          7|           3|            3|          19|            53|         19|           36|\n",
      "|       2|2018-03-03T19:24:...| 2018-03-03T19:28:...|              1|         0.78|         1|                 N|         170|         137|           2|        5.0|  0.0|    0.5|       0.0|         0.0|                  0.3|         5.8|                     4.48|          7|           3|            3|          19|            28|         19|           24|\n",
      "|       2|2018-03-03T19:35:...| 2018-03-03T19:37:...|              1|         0.59|         1|                 N|         164|         162|           1|        4.0|  0.0|    0.5|       1.2|         0.0|                  0.3|         6.0|                     2.18|          7|           3|            3|          19|            37|         19|           35|\n",
      "|       2|2018-03-03T19:42:...| 2018-03-03T19:58:...|              1|          1.8|         1|                 N|         170|         114|           1|       11.5|  0.0|    0.5|      2.46|         0.0|                  0.3|       14.76|                     16.4|          7|           3|            3|          19|            58|         19|           42|\n",
      "|       1|2018-03-03T19:05:...| 2018-03-03T19:10:...|              1|          0.6|         1|                 N|         161|         230|           1|        5.0|  0.0|    0.5|       1.7|         0.0|                  0.3|         7.5|                      5.3|          7|           3|            3|          19|            10|         19|            5|\n",
      "|       2|2018-03-03T18:59:...| 2018-03-03T19:18:...|              5|         3.68|         1|                 N|         263|         186|           1|       15.0|  0.0|    0.5|       2.0|         0.0|                  0.3|        17.8|                    18.52|          7|           3|            3|          19|            18|         18|           59|\n",
      "|       2|2018-03-03T19:23:...| 2018-03-03T19:31:...|              3|         0.81|         1|                 N|         234|         107|           2|        6.5|  0.0|    0.5|       0.0|         0.0|                  0.3|         7.3|                     8.18|          7|           3|            3|          19|            31|         19|           23|\n",
      "|       2|2018-03-03T19:36:...| 2018-03-03T19:52:...|              3|         1.23|         1|                 N|         234|         148|           1|       11.0|  0.0|    0.5|      2.95|         0.0|                  0.3|       14.75|                    16.27|          7|           3|            3|          19|            52|         19|           36|\n",
      "+--------+--------------------+---------------------+---------------+-------------+----------+------------------+------------+------------+------------+-----------+-----+-------+----------+------------+---------------------+------------+-------------------------+-----------+------------+-------------+------------+--------------+-----------+-------------+\n",
      "only showing top 20 rows\n",
      "\n"
     ]
    }
   ],
   "source": [
    "merged_df.show()"
   ]
  },
  {
   "cell_type": "code",
   "execution_count": null,
   "id": "3a713561",
   "metadata": {},
   "outputs": [],
   "source": [
    "sorted_df = .sort_values(by='tpep_pickup_datetime')\n"
   ]
  },
  {
   "cell_type": "code",
   "execution_count": 21,
   "id": "61fb2f4a",
   "metadata": {},
   "outputs": [
    {
     "data": {
      "text/plain": [
       "['VendorID',\n",
       " 'tpep_pickup_datetime',\n",
       " 'tpep_dropoff_datetime',\n",
       " 'passenger_count',\n",
       " 'trip_distance',\n",
       " 'RatecodeID',\n",
       " 'store_and_fwd_flag',\n",
       " 'PULocationID',\n",
       " 'DOLocationID',\n",
       " 'payment_type',\n",
       " 'fare_amount',\n",
       " 'mta_tax',\n",
       " 'tip_amount',\n",
       " 'tolls_amount',\n",
       " 'journey_length_in_minutes',\n",
       " 'dropoff_day',\n",
       " 'day_of_month',\n",
       " 'dropoff_month',\n",
       " 'dropoff_hour',\n",
       " 'dropoff_minute',\n",
       " 'pickup_hour',\n",
       " 'pickup_minute']"
      ]
     },
     "execution_count": 21,
     "metadata": {},
     "output_type": "execute_result"
    }
   ],
   "source": [
    "merged_df.columns"
   ]
  },
  {
   "cell_type": "code",
   "execution_count": 20,
   "id": "996c59e7",
   "metadata": {
    "scrolled": true
   },
   "outputs": [],
   "source": [
    "merged_df = merged_df.drop(*drop_features)"
   ]
  },
  {
   "cell_type": "code",
   "execution_count": 81,
   "id": "9bf66b54",
   "metadata": {},
   "outputs": [
    {
     "data": {
      "text/plain": [
       "['VendorID',\n",
       " 'tpep_pickup_datetime',\n",
       " 'tpep_dropoff_datetime',\n",
       " 'passenger_count',\n",
       " 'trip_distance',\n",
       " 'RatecodeID',\n",
       " 'store_and_fwd_flag',\n",
       " 'PULocationID',\n",
       " 'DOLocationID',\n",
       " 'payment_type',\n",
       " 'fare_amount',\n",
       " 'extra',\n",
       " 'mta_tax',\n",
       " 'tip_amount',\n",
       " 'tolls_amount',\n",
       " 'improvement_surcharge',\n",
       " 'total_amount',\n",
       " 'journey_length_in_minutes',\n",
       " 'dropoff_day',\n",
       " 'day_of_month',\n",
       " 'dropoff_month',\n",
       " 'dropoff_hour',\n",
       " 'dropoff_minute',\n",
       " 'pickup_hour',\n",
       " 'pickup_minute']"
      ]
     },
     "execution_count": 81,
     "metadata": {},
     "output_type": "execute_result"
    }
   ],
   "source": [
    "taxi17.columns"
   ]
  },
  {
   "cell_type": "code",
   "execution_count": 80,
   "id": "8232a0a7",
   "metadata": {},
   "outputs": [
    {
     "data": {
      "text/plain": [
       "['VendorID',\n",
       " 'tpep_pickup_datetime',\n",
       " 'tpep_dropoff_datetime',\n",
       " 'passenger_count',\n",
       " 'trip_distance',\n",
       " 'RatecodeID',\n",
       " 'store_and_fwd_flag',\n",
       " 'PULocationID',\n",
       " 'DOLocationID',\n",
       " 'payment_type',\n",
       " 'fare_amount',\n",
       " 'extra',\n",
       " 'mta_tax',\n",
       " 'tip_amount',\n",
       " 'tolls_amount',\n",
       " 'improvement_surcharge',\n",
       " 'total_amount',\n",
       " 'journey_length_in_minutes',\n",
       " 'dropoff_day',\n",
       " 'day_of_month',\n",
       " 'dropoff_month',\n",
       " 'dropoff_hour',\n",
       " 'dropoff_minute',\n",
       " 'pickup_hour',\n",
       " 'pickup_minute']"
      ]
     },
     "execution_count": 80,
     "metadata": {},
     "output_type": "execute_result"
    }
   ],
   "source": [
    "taxi18.columns"
   ]
  },
  {
   "cell_type": "code",
   "execution_count": 23,
   "id": "df4cf2ef",
   "metadata": {},
   "outputs": [
    {
     "data": {
      "text/plain": [
       "['VendorID',\n",
       " 'tpep_pickup_datetime',\n",
       " 'tpep_dropoff_datetime',\n",
       " 'passenger_count',\n",
       " 'trip_distance',\n",
       " 'RatecodeID',\n",
       " 'store_and_fwd_flag',\n",
       " 'PULocationID',\n",
       " 'DOLocationID',\n",
       " 'payment_type',\n",
       " 'fare_amount',\n",
       " 'mta_tax',\n",
       " 'tip_amount',\n",
       " 'tolls_amount',\n",
       " 'journey_length_in_minutes',\n",
       " 'dropoff_day',\n",
       " 'day_of_month',\n",
       " 'dropoff_month',\n",
       " 'dropoff_hour',\n",
       " 'dropoff_minute',\n",
       " 'pickup_hour',\n",
       " 'pickup_minute']"
      ]
     },
     "execution_count": 23,
     "metadata": {},
     "output_type": "execute_result"
    }
   ],
   "source": [
    "merged_df.columns"
   ]
  },
  {
   "cell_type": "code",
   "execution_count": 3,
   "id": "99a83001",
   "metadata": {},
   "outputs": [],
   "source": []
  },
  {
   "cell_type": "code",
   "execution_count": 24,
   "id": "c4824560",
   "metadata": {},
   "outputs": [
    {
     "name": "stderr",
     "output_type": "stream",
     "text": [
      "                                                                                \r"
     ]
    }
   ],
   "source": [
    "merged_df.coalesce(1).write.csv(\"new_mergedtaxi_cleaned.csv\", header=True)\n"
   ]
  },
  {
   "cell_type": "code",
   "execution_count": 7,
   "id": "82e5e097",
   "metadata": {},
   "outputs": [
    {
     "data": {
      "text/plain": [
       "[('VendorID', 'string'),\n",
       " ('tpep_pickup_datetime', 'timestamp'),\n",
       " ('tpep_dropoff_datetime', 'timestamp'),\n",
       " ('passenger_count', 'int'),\n",
       " ('trip_distance', 'float'),\n",
       " ('RatecodeID', 'string'),\n",
       " ('store_and_fwd_flag', 'string'),\n",
       " ('PULocationID', 'string'),\n",
       " ('DOLocationID', 'string'),\n",
       " ('payment_type', 'string'),\n",
       " ('fare_amount', 'float'),\n",
       " ('mta_tax', 'float'),\n",
       " ('tip_amount', 'float'),\n",
       " ('tolls_amount', 'float'),\n",
       " ('journey_length_in_minutes', 'string'),\n",
       " ('dropoff_day', 'string'),\n",
       " ('day_of_month', 'string'),\n",
       " ('dropoff_month', 'string'),\n",
       " ('dropoff_hour', 'string'),\n",
       " ('dropoff_minute', 'string'),\n",
       " ('pickup_hour', 'string'),\n",
       " ('pickup_minute', 'string')]"
      ]
     },
     "execution_count": 7,
     "metadata": {},
     "output_type": "execute_result"
    }
   ],
   "source": [
    "merged.dtypes"
   ]
  },
  {
   "cell_type": "code",
   "execution_count": null,
   "id": "c943551d",
   "metadata": {},
   "outputs": [],
   "source": []
  },
  {
   "cell_type": "code",
   "execution_count": 13,
   "id": "affaac8c",
   "metadata": {
    "scrolled": false
   },
   "outputs": [],
   "source": [
    "merged = merged.filter(~(col(\"passenger_count\")>5))"
   ]
  },
  {
   "cell_type": "code",
   "execution_count": 14,
   "id": "07f2c8c5",
   "metadata": {},
   "outputs": [
    {
     "name": "stderr",
     "output_type": "stream",
     "text": [
      "[Stage 7:======================================================>(185 + 3) / 188]\r"
     ]
    },
    {
     "name": "stdout",
     "output_type": "stream",
     "text": [
      "1.4923111204656765\n"
     ]
    },
    {
     "name": "stderr",
     "output_type": "stream",
     "text": [
      "\r",
      "                                                                                \r"
     ]
    }
   ],
   "source": [
    "from pyspark.sql.functions import col, mean, median\n",
    "\n",
    "mean_passenger_count = merged.select(mean(col('passenger_count'))).first()[0]\n",
    "print(mean_passenger_count)\n"
   ]
  },
  {
   "cell_type": "code",
   "execution_count": 15,
   "id": "9c33237f",
   "metadata": {},
   "outputs": [
    {
     "name": "stderr",
     "output_type": "stream",
     "text": [
      "[Stage 10:=====================================================>(185 + 3) / 188]\r"
     ]
    },
    {
     "name": "stdout",
     "output_type": "stream",
     "text": [
      "1.0\n"
     ]
    },
    {
     "name": "stderr",
     "output_type": "stream",
     "text": [
      "\r",
      "                                                                                \r"
     ]
    }
   ],
   "source": [
    "median_passenger_count = merged.select(median(col('passenger_count'))).first()[0]\n",
    "print(median_passenger_count)"
   ]
  },
  {
   "cell_type": "code",
   "execution_count": 69,
   "id": "bc5cf7e2",
   "metadata": {},
   "outputs": [
    {
     "name": "stderr",
     "output_type": "stream",
     "text": [
      "                                                                                \r"
     ]
    },
    {
     "data": {
      "text/plain": [
       "212513145"
      ]
     },
     "execution_count": 69,
     "metadata": {},
     "output_type": "execute_result"
    }
   ],
   "source": [
    "merged_df.count()"
   ]
  },
  {
   "cell_type": "code",
   "execution_count": 26,
   "id": "2a4e6067",
   "metadata": {},
   "outputs": [
    {
     "name": "stderr",
     "output_type": "stream",
     "text": [
      "                                                                                \r"
     ]
    },
    {
     "data": {
      "text/plain": [
       "212513145"
      ]
     },
     "execution_count": 26,
     "metadata": {},
     "output_type": "execute_result"
    }
   ],
   "source": [
    "merged.count()"
   ]
  },
  {
   "cell_type": "code",
   "execution_count": 27,
   "id": "5891e085",
   "metadata": {},
   "outputs": [
    {
     "data": {
      "text/plain": [
       "['VendorID',\n",
       " 'tpep_pickup_datetime',\n",
       " 'tpep_dropoff_datetime',\n",
       " 'passenger_count',\n",
       " 'trip_distance',\n",
       " 'RatecodeID',\n",
       " 'store_and_fwd_flag',\n",
       " 'PULocationID',\n",
       " 'DOLocationID',\n",
       " 'payment_type',\n",
       " 'fare_amount',\n",
       " 'mta_tax',\n",
       " 'tip_amount',\n",
       " 'tolls_amount',\n",
       " 'journey_length_in_minutes',\n",
       " 'dropoff_day',\n",
       " 'day_of_month',\n",
       " 'dropoff_month',\n",
       " 'dropoff_hour',\n",
       " 'dropoff_minute',\n",
       " 'pickup_hour',\n",
       " 'pickup_minute']"
      ]
     },
     "execution_count": 27,
     "metadata": {},
     "output_type": "execute_result"
    }
   ],
   "source": [
    "merged.columns"
   ]
  },
  {
   "cell_type": "code",
   "execution_count": 9,
   "id": "bff3c366",
   "metadata": {},
   "outputs": [
    {
     "name": "stdout",
     "output_type": "stream",
     "text": [
      "+--------+--------------------+---------------------+---------------+-------------+----------+------------------+------------+------------+------------+-----------+-------+----------+------------+-------------------------+-----------+------------+-------------+------------+--------------+-----------+-------------+\n",
      "|VendorID|tpep_pickup_datetime|tpep_dropoff_datetime|passenger_count|trip_distance|RatecodeID|store_and_fwd_flag|PULocationID|DOLocationID|payment_type|fare_amount|mta_tax|tip_amount|tolls_amount|journey_length_in_minutes|dropoff_day|day_of_month|dropoff_month|dropoff_hour|dropoff_minute|pickup_hour|pickup_minute|\n",
      "+--------+--------------------+---------------------+---------------+-------------+----------+------------------+------------+------------+------------+-----------+-------+----------+------------+-------------------------+-----------+------------+-------------+------------+--------------+-----------+-------------+\n",
      "|       2|                null|                 null|              1|         2.63|         1|                 N|          68|          79|           1|       13.5|    0.5|      2.86|         0.0|                    19.32|          7|           3|            3|          19|            50|         19|           30|\n",
      "|       2|                null|                 null|              1|         0.69|         1|                 N|          68|          48|           2|        4.5|    0.5|       0.0|         0.0|                     2.88|          7|           3|            3|          19|             7|         19|            4|\n",
      "|       2|                null|                 null|              1|         0.91|         1|                 N|         246|          68|           1|        6.0|    0.5|      1.36|         0.0|                     6.63|          7|           3|            3|          19|            19|         19|           12|\n",
      "|       2|                null|                 null|              2|         0.97|         1|                 N|          90|         107|           1|        9.0|    0.5|      1.96|         0.0|                     12.3|          7|           3|            3|          19|            35|         19|           23|\n",
      "|       2|                null|                 null|              1|         1.68|         1|                 N|         170|          79|           1|        9.0|    0.5|       0.0|         0.0|                    11.33|          7|           3|            3|          20|             4|         19|           53|\n",
      "|       2|                null|                 null|              2|          1.4|         1|                 N|         186|         230|           1|        8.0|    0.5|      1.76|         0.0|                    10.18|          7|           3|            3|          19|            11|         19|            1|\n",
      "|       2|                null|                 null|              2|         1.75|         1|                 N|         163|         239|           1|        8.5|    0.5|      1.86|         0.0|                    10.18|          7|           3|            3|          19|            26|         19|           16|\n",
      "|       2|                null|                 null|              2|         1.01|         1|                 N|         236|         239|           2|        6.5|    0.5|       0.0|         0.0|                     6.53|          7|           3|            3|          19|            44|         19|           37|\n",
      "|       2|                null|                 null|              2|         0.94|         1|                 N|         239|         238|           1|        5.5|    0.5|      1.26|         0.0|                     5.22|          7|           3|            3|          19|            53|         19|           48|\n",
      "|       2|                null|                 null|              2|         3.39|         1|                 N|         238|          42|           2|       13.5|    0.5|       0.0|         0.0|                    15.77|          7|           3|            3|          20|            12|         19|           56|\n",
      "|       2|                null|                 null|              5|         0.94|         1|                 N|         170|         163|           1|        6.5|    0.5|      1.46|         0.0|                     7.08|          7|           3|            3|          19|             1|         18|           54|\n",
      "|       2|                null|                 null|              2|         3.41|         1|                 N|         162|         249|           1|       19.0|    0.5|      3.96|         0.0|                     30.0|          7|           3|            3|          19|            35|         19|            5|\n",
      "|       2|                null|                 null|              2|         1.57|         1|                 N|         249|         107|           1|       11.5|    0.5|      1.84|         0.0|                    17.18|          7|           3|            3|          19|            53|         19|           36|\n",
      "|       2|                null|                 null|              1|         0.78|         1|                 N|         170|         137|           2|        5.0|    0.5|       0.0|         0.0|                     4.48|          7|           3|            3|          19|            28|         19|           24|\n",
      "|       2|                null|                 null|              1|         0.59|         1|                 N|         164|         162|           1|        4.0|    0.5|       1.2|         0.0|                     2.18|          7|           3|            3|          19|            37|         19|           35|\n",
      "|       2|                null|                 null|              1|          1.8|         1|                 N|         170|         114|           1|       11.5|    0.5|      2.46|         0.0|                     16.4|          7|           3|            3|          19|            58|         19|           42|\n",
      "|       1|                null|                 null|              1|          0.6|         1|                 N|         161|         230|           1|        5.0|    0.5|       1.7|         0.0|                      5.3|          7|           3|            3|          19|            10|         19|            5|\n",
      "|       2|                null|                 null|              5|         3.68|         1|                 N|         263|         186|           1|       15.0|    0.5|       2.0|         0.0|                    18.52|          7|           3|            3|          19|            18|         18|           59|\n",
      "|       2|                null|                 null|              3|         0.81|         1|                 N|         234|         107|           2|        6.5|    0.5|       0.0|         0.0|                     8.18|          7|           3|            3|          19|            31|         19|           23|\n",
      "|       2|                null|                 null|              3|         1.23|         1|                 N|         234|         148|           1|       11.0|    0.5|      2.95|         0.0|                    16.27|          7|           3|            3|          19|            52|         19|           36|\n",
      "+--------+--------------------+---------------------+---------------+-------------+----------+------------------+------------+------------+------------+-----------+-------+----------+------------+-------------------------+-----------+------------+-------------+------------+--------------+-----------+-------------+\n",
      "only showing top 20 rows\n",
      "\n"
     ]
    }
   ],
   "source": [
    "merged.show()"
   ]
  },
  {
   "cell_type": "code",
   "execution_count": 97,
   "id": "26858cb4",
   "metadata": {},
   "outputs": [],
   "source": [
    "weather = spark.read.csv(\"cleaned_weather\")"
   ]
  },
  {
   "cell_type": "code",
   "execution_count": 98,
   "id": "a221190d",
   "metadata": {},
   "outputs": [
    {
     "name": "stdout",
     "output_type": "stream",
     "text": [
      "+----+-------------------+--------------------+--------+----+----------+---------+----------+--------+--------+--------+--------+----------+--------+----------+------------------+-------------------+--------------------+----------------+-----------------+-----------------+-----------------+------------------+-----------------+-------------------+--------------------+\n",
      "| _c0|                _c1|                 _c2|     _c3| _c4|       _c5|      _c6|       _c7|     _c8|     _c9|    _c10|    _c11|      _c12|    _c13|      _c14|              _c15|               _c16|                _c17|            _c18|             _c19|             _c20|             _c21|              _c22|             _c23|               _c24|                _c25|\n",
      "+----+-------------------+--------------------+--------+----+----------+---------+----------+--------+--------+--------+--------+----------+--------+----------+------------------+-------------------+--------------------+----------------+-----------------+-----------------+-----------------+------------------+-----------------+-------------------+--------------------+\n",
      "|null|                 dt|              dt_iso|timezone|temp|visibility|dew_point|feels_like|temp_min|temp_max|pressure|humidity|wind_speed|wind_deg|clouds_all|weather_main_Clear|weather_main_Clouds|weather_main_Drizzle|weather_main_Fog|weather_main_Haze|weather_main_Mist|weather_main_Rain|weather_main_Smoke|weather_main_Snow|weather_main_Squall|weather_main_Thun...|\n",
      "|9247|2016-01-01 00:00:00|2016-01-01 05:00:...|  -18000|5.68|   10000.0|    -2.78|      2.14|     5.4|     5.9|    1019|      53|       5.1|     320|       100|                 0|                  1|                   0|               0|                0|                0|                0|                 0|                0|                  0|                   0|\n",
      "|9248|2016-01-01 01:00:00|2016-01-01 06:00:...|  -18000|5.68|   10000.0|    -3.01|      1.15|     5.4|     5.9|    1018|      52|       7.7|     300|       100|                 0|                  1|                   0|               0|                0|                0|                0|                 0|                0|                  0|                   0|\n",
      "|9249|2016-01-01 02:00:00|2016-01-01 07:00:...|  -18000|5.12|   10000.0|    -3.24|       0.6|     4.8|     5.9|    1018|      53|       7.2|     320|       100|                 0|                  1|                   0|               0|                0|                0|                0|                 0|                0|                  0|                   0|\n",
      "|9250|2016-01-01 03:00:00|2016-01-01 08:00:...|  -18000|5.08|   10000.0|    -3.06|      1.12|     4.8|     5.4|    1018|      54|       5.7|     340|       100|                 0|                  1|                   0|               0|                0|                0|                0|                 0|                0|                  0|                   0|\n",
      "|9251|2016-01-01 04:00:00|2016-01-01 09:00:...|  -18000|5.08|   10000.0|    -3.06|      1.12|     4.8|     5.4|    1018|      54|       5.7|     300|       100|                 0|                  1|                   0|               0|                0|                0|                0|                 0|                0|                  0|                   0|\n",
      "|9252|2016-01-01 05:00:00|2016-01-01 10:00:...|  -18000|4.48|   10000.0|    -2.91|      0.36|     4.2|     4.8|    1018|      57|       5.7|     270|       100|                 0|                  1|                   0|               0|                0|                0|                0|                 0|                0|                  0|                   0|\n",
      "|9253|2016-01-01 06:00:00|2016-01-01 11:00:...|  -18000|4.48|   10000.0|    -2.91|      0.36|     4.2|     4.8|    1018|      57|       5.7|     260|       100|                 0|                  1|                   0|               0|                0|                0|                0|                 0|                0|                  0|                   0|\n",
      "|9254|2016-01-01 07:00:00|2016-01-01 12:00:...|  -18000|4.02|   10000.0|    -2.89|     -0.22|     3.7|     4.8|    1018|      59|       5.7|     290|       100|                 0|                  1|                   0|               0|                0|                0|                0|                 0|                0|                  0|                   0|\n",
      "|9255|2016-01-01 08:00:00|2016-01-01 13:00:...|  -18000|4.02|   10000.0|     -3.5|      0.32|     3.7|     4.8|    1018|      56|       4.6|     280|       100|                 0|                  1|                   0|               0|                0|                0|                0|                 0|                0|                  0|                   0|\n",
      "|9256|2016-01-01 09:00:00|2016-01-01 14:00:...|  -18000|3.98|   10000.0|    -3.75|      0.27|    3.96|     4.2|    1019|      55|       4.6|     290|        20|                 0|                  1|                   0|               0|                0|                0|                0|                 0|                0|                  0|                   0|\n",
      "|9257|2016-01-01 10:00:00|2016-01-01 15:00:...|  -18000|4.44|   10000.0|    -3.37|      1.11|     4.2|    4.46|    1019|      55|       4.1|     260|       100|                 0|                  1|                   0|               0|                0|                0|                0|                 0|                0|                  0|                   0|\n",
      "|9258|2016-01-01 11:00:00|2016-01-01 16:00:...|  -18000|4.48|   10000.0|     -4.0|      0.64|    4.46|     4.8|    1018|      52|       5.1|     290|       100|                 0|                  1|                   0|               0|                0|                0|                0|                 0|                0|                  0|                   0|\n",
      "|9259|2016-01-01 12:00:00|2016-01-01 17:00:...|  -18000|4.53|   10000.0|    -4.42|      0.22|    4.46|     5.4|    1017|      50|       6.2|     290|       100|                 0|                  1|                   0|               0|                0|                0|                0|                 0|                0|                  0|                   0|\n",
      "|9260|2016-01-01 13:00:00|2016-01-01 18:00:...|  -18000|4.48|   10000.0|    -4.46|     -0.04|    4.46|     4.8|    1016|      50|       6.7|     270|       100|                 0|                  1|                   0|               0|                0|                0|                0|                 0|                0|                  0|                   0|\n",
      "|9261|2016-01-01 14:00:00|2016-01-01 19:00:...|  -18000|4.48|   10000.0|    -4.46|     -0.23|     4.2|     4.8|    1016|      50|       7.2|     290|       100|                 0|                  1|                   0|               0|                0|                0|                0|                 0|                0|                  0|                   0|\n",
      "|9262|2016-01-01 15:00:00|2016-01-01 20:00:...|  -18000|3.98|   10000.0|    -5.11|     -1.22|     3.7|     4.2|    1016|      49|       8.2|     280|       100|                 0|                  1|                   0|               0|                0|                0|                0|                 0|                0|                  0|                   0|\n",
      "|9263|2016-01-01 16:00:00|2016-01-01 21:00:...|  -18000|3.98|   10000.0|    -5.84|     -0.68|     3.7|     4.2|    1016|      46|       6.7|     300|       100|                 0|                  1|                   0|               0|                0|                0|                0|                 0|                0|                  0|                   0|\n",
      "|9264|2016-01-01 17:00:00|2016-01-01 22:00:...|  -18000|3.42|   10000.0|     -6.3|      -1.2|     3.1|     4.2|    1016|      46|       6.2|     260|         0|                 1|                  0|                   0|               0|                0|                0|                0|                 0|                0|                  0|                   0|\n",
      "|9265|2016-01-01 18:00:00|2016-01-01 23:00:...|  -18000|3.38|   10000.0|    -6.08|     -1.03|     3.1|     3.7|    1016|      47|       5.7|     270|         0|                 1|                  0|                   0|               0|                0|                0|                0|                 0|                0|                  0|                   0|\n",
      "+----+-------------------+--------------------+--------+----+----------+---------+----------+--------+--------+--------+--------+----------+--------+----------+------------------+-------------------+--------------------+----------------+-----------------+-----------------+-----------------+------------------+-----------------+-------------------+--------------------+\n",
      "only showing top 20 rows\n",
      "\n"
     ]
    }
   ],
   "source": [
    "weather.show()"
   ]
  },
  {
   "cell_type": "code",
   "execution_count": null,
   "id": "80ef6eee",
   "metadata": {},
   "outputs": [],
   "source": []
  }
 ],
 "metadata": {
  "kernelspec": {
   "display_name": "Python 3 (ipykernel)",
   "language": "python",
   "name": "python3"
  },
  "language_info": {
   "codemirror_mode": {
    "name": "ipython",
    "version": 3
   },
   "file_extension": ".py",
   "mimetype": "text/x-python",
   "name": "python",
   "nbconvert_exporter": "python",
   "pygments_lexer": "ipython3",
   "version": "3.9.13"
  }
 },
 "nbformat": 4,
 "nbformat_minor": 5
}
