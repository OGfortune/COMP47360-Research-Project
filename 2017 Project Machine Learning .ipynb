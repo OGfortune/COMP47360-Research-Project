{
 "cells": [
  {
   "cell_type": "code",
   "execution_count": 1,
   "id": "392eee57",
   "metadata": {},
   "outputs": [],
   "source": [
    "import pandas as pd\n",
    "import numpy as np\n",
    "import matplotlib.pyplot as plt\n",
    "import seaborn as sns\n",
    "\n",
    "import seaborn as sns\n",
    "import matplotlib.pyplot as plt\n",
    "\n",
    "\n",
    "\n",
    "import json\n",
    "import requests\n",
    "import pyspark\n",
    "from pyspark.sql import SparkSession\n",
    "from pyspark.sql.functions import col\n",
    "from pyspark.sql.functions import to_timestamp\n",
    "from pyspark.sql.functions import isnan\n",
    "from pyspark.sql.types import IntegerType\n",
    "from pyspark.sql.types import StringType\n",
    "from pyspark.sql.functions import expr\n",
    "from pyspark.sql.functions import dayofmonth, month, hour, minute, dayofweek\n",
    "from pyspark.sql.functions import isnan, isnull, sum\n",
    "from pyspark.ml.stat import Correlation\n",
    "from pyspark.ml.feature import VectorAssembler\n",
    "from pyspark.sql.functions import countDistinct\n",
    "from pyspark.sql.types import IntegerType, FloatType\n",
    "\n",
    "\n",
    "# ignore warnings\n",
    "import warnings\n",
    "warnings.filterwarnings('ignore')"
   ]
  },
  {
   "cell_type": "code",
   "execution_count": 2,
   "id": "c50b0382",
   "metadata": {},
   "outputs": [],
   "source": [
    "taxi_zones = pd.read_csv(\"taxi_zones.csv\")"
   ]
  },
  {
   "cell_type": "code",
   "execution_count": 3,
   "id": "a7ff48f9",
   "metadata": {},
   "outputs": [
    {
     "data": {
      "text/plain": [
       "(263, 7)"
      ]
     },
     "execution_count": 3,
     "metadata": {},
     "output_type": "execute_result"
    }
   ],
   "source": [
    "taxi_zones.shape"
   ]
  },
  {
   "cell_type": "code",
   "execution_count": 4,
   "id": "0bae7d27",
   "metadata": {},
   "outputs": [
    {
     "data": {
      "text/html": [
       "<div>\n",
       "<style scoped>\n",
       "    .dataframe tbody tr th:only-of-type {\n",
       "        vertical-align: middle;\n",
       "    }\n",
       "\n",
       "    .dataframe tbody tr th {\n",
       "        vertical-align: top;\n",
       "    }\n",
       "\n",
       "    .dataframe thead th {\n",
       "        text-align: right;\n",
       "    }\n",
       "</style>\n",
       "<table border=\"1\" class=\"dataframe\">\n",
       "  <thead>\n",
       "    <tr style=\"text-align: right;\">\n",
       "      <th></th>\n",
       "      <th>OBJECTID</th>\n",
       "      <th>Shape_Leng</th>\n",
       "      <th>the_geom</th>\n",
       "      <th>Shape_Area</th>\n",
       "      <th>zone</th>\n",
       "      <th>LocationID</th>\n",
       "      <th>borough</th>\n",
       "    </tr>\n",
       "  </thead>\n",
       "  <tbody>\n",
       "    <tr>\n",
       "      <th>0</th>\n",
       "      <td>1</td>\n",
       "      <td>0.116357</td>\n",
       "      <td>MULTIPOLYGON (((-74.18445299999996 40.69499599...</td>\n",
       "      <td>0.000782</td>\n",
       "      <td>Newark Airport</td>\n",
       "      <td>1</td>\n",
       "      <td>EWR</td>\n",
       "    </tr>\n",
       "    <tr>\n",
       "      <th>1</th>\n",
       "      <td>2</td>\n",
       "      <td>0.433470</td>\n",
       "      <td>MULTIPOLYGON (((-73.82337597260663 40.63898704...</td>\n",
       "      <td>0.004866</td>\n",
       "      <td>Jamaica Bay</td>\n",
       "      <td>2</td>\n",
       "      <td>Queens</td>\n",
       "    </tr>\n",
       "    <tr>\n",
       "      <th>2</th>\n",
       "      <td>3</td>\n",
       "      <td>0.084341</td>\n",
       "      <td>MULTIPOLYGON (((-73.84792614099985 40.87134223...</td>\n",
       "      <td>0.000314</td>\n",
       "      <td>Allerton/Pelham Gardens</td>\n",
       "      <td>3</td>\n",
       "      <td>Bronx</td>\n",
       "    </tr>\n",
       "    <tr>\n",
       "      <th>3</th>\n",
       "      <td>4</td>\n",
       "      <td>0.043567</td>\n",
       "      <td>MULTIPOLYGON (((-73.97177410965318 40.72582128...</td>\n",
       "      <td>0.000112</td>\n",
       "      <td>Alphabet City</td>\n",
       "      <td>4</td>\n",
       "      <td>Manhattan</td>\n",
       "    </tr>\n",
       "    <tr>\n",
       "      <th>4</th>\n",
       "      <td>5</td>\n",
       "      <td>0.092146</td>\n",
       "      <td>MULTIPOLYGON (((-74.17421738099989 40.56256808...</td>\n",
       "      <td>0.000498</td>\n",
       "      <td>Arden Heights</td>\n",
       "      <td>5</td>\n",
       "      <td>Staten Island</td>\n",
       "    </tr>\n",
       "    <tr>\n",
       "      <th>...</th>\n",
       "      <td>...</td>\n",
       "      <td>...</td>\n",
       "      <td>...</td>\n",
       "      <td>...</td>\n",
       "      <td>...</td>\n",
       "      <td>...</td>\n",
       "      <td>...</td>\n",
       "    </tr>\n",
       "    <tr>\n",
       "      <th>258</th>\n",
       "      <td>256</td>\n",
       "      <td>0.067915</td>\n",
       "      <td>MULTIPOLYGON (((-73.95834207500002 40.71330630...</td>\n",
       "      <td>0.000169</td>\n",
       "      <td>Williamsburg (South Side)</td>\n",
       "      <td>256</td>\n",
       "      <td>Brooklyn</td>\n",
       "    </tr>\n",
       "    <tr>\n",
       "      <th>259</th>\n",
       "      <td>259</td>\n",
       "      <td>0.126750</td>\n",
       "      <td>MULTIPOLYGON (((-73.85107116191898 40.91037152...</td>\n",
       "      <td>0.000395</td>\n",
       "      <td>Woodlawn/Wakefield</td>\n",
       "      <td>259</td>\n",
       "      <td>Bronx</td>\n",
       "    </tr>\n",
       "    <tr>\n",
       "      <th>260</th>\n",
       "      <td>260</td>\n",
       "      <td>0.133514</td>\n",
       "      <td>MULTIPOLYGON (((-73.90175373399988 40.76077547...</td>\n",
       "      <td>0.000422</td>\n",
       "      <td>Woodside</td>\n",
       "      <td>260</td>\n",
       "      <td>Queens</td>\n",
       "    </tr>\n",
       "    <tr>\n",
       "      <th>261</th>\n",
       "      <td>261</td>\n",
       "      <td>0.027120</td>\n",
       "      <td>MULTIPOLYGON (((-74.01332610899988 40.70503078...</td>\n",
       "      <td>0.000034</td>\n",
       "      <td>World Trade Center</td>\n",
       "      <td>261</td>\n",
       "      <td>Manhattan</td>\n",
       "    </tr>\n",
       "    <tr>\n",
       "      <th>262</th>\n",
       "      <td>262</td>\n",
       "      <td>0.049064</td>\n",
       "      <td>MULTIPOLYGON (((-73.94383256699986 40.78285908...</td>\n",
       "      <td>0.000122</td>\n",
       "      <td>Yorkville East</td>\n",
       "      <td>262</td>\n",
       "      <td>Manhattan</td>\n",
       "    </tr>\n",
       "  </tbody>\n",
       "</table>\n",
       "<p>263 rows × 7 columns</p>\n",
       "</div>"
      ],
      "text/plain": [
       "     OBJECTID  Shape_Leng                                           the_geom  \\\n",
       "0           1    0.116357  MULTIPOLYGON (((-74.18445299999996 40.69499599...   \n",
       "1           2    0.433470  MULTIPOLYGON (((-73.82337597260663 40.63898704...   \n",
       "2           3    0.084341  MULTIPOLYGON (((-73.84792614099985 40.87134223...   \n",
       "3           4    0.043567  MULTIPOLYGON (((-73.97177410965318 40.72582128...   \n",
       "4           5    0.092146  MULTIPOLYGON (((-74.17421738099989 40.56256808...   \n",
       "..        ...         ...                                                ...   \n",
       "258       256    0.067915  MULTIPOLYGON (((-73.95834207500002 40.71330630...   \n",
       "259       259    0.126750  MULTIPOLYGON (((-73.85107116191898 40.91037152...   \n",
       "260       260    0.133514  MULTIPOLYGON (((-73.90175373399988 40.76077547...   \n",
       "261       261    0.027120  MULTIPOLYGON (((-74.01332610899988 40.70503078...   \n",
       "262       262    0.049064  MULTIPOLYGON (((-73.94383256699986 40.78285908...   \n",
       "\n",
       "     Shape_Area                       zone  LocationID        borough  \n",
       "0      0.000782             Newark Airport           1            EWR  \n",
       "1      0.004866                Jamaica Bay           2         Queens  \n",
       "2      0.000314    Allerton/Pelham Gardens           3          Bronx  \n",
       "3      0.000112              Alphabet City           4      Manhattan  \n",
       "4      0.000498              Arden Heights           5  Staten Island  \n",
       "..          ...                        ...         ...            ...  \n",
       "258    0.000169  Williamsburg (South Side)         256       Brooklyn  \n",
       "259    0.000395         Woodlawn/Wakefield         259          Bronx  \n",
       "260    0.000422                   Woodside         260         Queens  \n",
       "261    0.000034         World Trade Center         261      Manhattan  \n",
       "262    0.000122             Yorkville East         262      Manhattan  \n",
       "\n",
       "[263 rows x 7 columns]"
      ]
     },
     "execution_count": 4,
     "metadata": {},
     "output_type": "execute_result"
    }
   ],
   "source": [
    "taxi_zones"
   ]
  },
  {
   "cell_type": "code",
   "execution_count": 5,
   "id": "5d61cb76",
   "metadata": {},
   "outputs": [],
   "source": [
    "manhattan = taxi_zones[taxi_zones[\"borough\"] == \"Manhattan\"]"
   ]
  },
  {
   "cell_type": "code",
   "execution_count": 6,
   "id": "8e74ba89",
   "metadata": {},
   "outputs": [
    {
     "data": {
      "text/plain": [
       "(69, 7)"
      ]
     },
     "execution_count": 6,
     "metadata": {},
     "output_type": "execute_result"
    }
   ],
   "source": [
    "manhattan.shape"
   ]
  },
  {
   "cell_type": "code",
   "execution_count": 7,
   "id": "6e5d49c1",
   "metadata": {},
   "outputs": [],
   "source": [
    "location_id = manhattan[\"LocationID\"].tolist()\n",
    "\n",
    "zone = manhattan[\"zone\"].tolist()\n",
    "\n",
    "manhattan_zones = dict(zip(location_id, zone))"
   ]
  },
  {
   "cell_type": "code",
   "execution_count": 8,
   "id": "c3ea18fa",
   "metadata": {},
   "outputs": [
    {
     "data": {
      "text/plain": [
       "67"
      ]
     },
     "execution_count": 8,
     "metadata": {},
     "output_type": "execute_result"
    }
   ],
   "source": [
    "len(manhattan_zones)"
   ]
  },
  {
   "cell_type": "code",
   "execution_count": 9,
   "id": "46a01d87",
   "metadata": {},
   "outputs": [
    {
     "data": {
      "text/plain": [
       "{4: 'Alphabet City',\n",
       " 24: 'Bloomingdale',\n",
       " 12: 'Battery Park',\n",
       " 13: 'Battery Park City',\n",
       " 41: 'Central Harlem',\n",
       " 45: 'Chinatown',\n",
       " 42: 'Central Harlem North',\n",
       " 43: 'Central Park',\n",
       " 48: 'Clinton East',\n",
       " 50: 'Clinton West',\n",
       " 68: 'East Chelsea',\n",
       " 79: 'East Village',\n",
       " 74: 'East Harlem North',\n",
       " 75: 'East Harlem South',\n",
       " 87: 'Financial District North',\n",
       " 88: 'Financial District South',\n",
       " 90: 'Flatiron',\n",
       " 125: 'Hudson Sq',\n",
       " 100: 'Garment District',\n",
       " 103: \"Governor's Island/Ellis Island/Liberty Island\",\n",
       " 107: 'Gramercy',\n",
       " 113: 'Greenwich Village North',\n",
       " 114: 'Greenwich Village South',\n",
       " 116: 'Hamilton Heights',\n",
       " 120: 'Highbridge Park',\n",
       " 127: 'Inwood',\n",
       " 128: 'Inwood Hill Park',\n",
       " 151: 'Manhattan Valley',\n",
       " 140: 'Lenox Hill East',\n",
       " 137: 'Kips Bay',\n",
       " 141: 'Lenox Hill West',\n",
       " 142: 'Lincoln Square East',\n",
       " 152: 'Manhattanville',\n",
       " 143: 'Lincoln Square West',\n",
       " 144: 'Little Italy/NoLiTa',\n",
       " 148: 'Lower East Side',\n",
       " 153: 'Marble Hill',\n",
       " 158: 'Meatpacking/West Village West',\n",
       " 161: 'Midtown Center',\n",
       " 162: 'Midtown East',\n",
       " 163: 'Midtown North',\n",
       " 164: 'Midtown South',\n",
       " 170: 'Murray Hill',\n",
       " 166: 'Morningside Heights',\n",
       " 186: 'Penn Station/Madison Sq West',\n",
       " 194: 'Randalls Island',\n",
       " 202: 'Roosevelt Island',\n",
       " 209: 'Seaport',\n",
       " 211: 'SoHo',\n",
       " 224: 'Stuy Town/Peter Cooper Village',\n",
       " 229: 'Sutton Place/Turtle Bay North',\n",
       " 230: 'Times Sq/Theatre District',\n",
       " 231: 'TriBeCa/Civic Center',\n",
       " 239: 'Upper West Side South',\n",
       " 232: 'Two Bridges/Seward Park',\n",
       " 233: 'UN/Turtle Bay South',\n",
       " 234: 'Union Sq',\n",
       " 236: 'Upper East Side North',\n",
       " 237: 'Upper East Side South',\n",
       " 238: 'Upper West Side North',\n",
       " 263: 'Yorkville West',\n",
       " 243: 'Washington Heights North',\n",
       " 244: 'Washington Heights South',\n",
       " 246: 'West Chelsea/Hudson Yards',\n",
       " 249: 'West Village',\n",
       " 261: 'World Trade Center',\n",
       " 262: 'Yorkville East'}"
      ]
     },
     "execution_count": 9,
     "metadata": {},
     "output_type": "execute_result"
    }
   ],
   "source": [
    "manhattan_zones"
   ]
  },
  {
   "cell_type": "markdown",
   "id": "61a9877d",
   "metadata": {},
   "source": [
    "### Loading Taxi Data"
   ]
  },
  {
   "cell_type": "code",
   "execution_count": 10,
   "id": "4444055f",
   "metadata": {},
   "outputs": [
    {
     "name": "stderr",
     "output_type": "stream",
     "text": [
      "Setting default log level to \"WARN\".\n",
      "To adjust logging level use sc.setLogLevel(newLevel). For SparkR, use setLogLevel(newLevel).\n",
      "23/06/29 14:46:37 WARN NativeCodeLoader: Unable to load native-hadoop library for your platform... using builtin-java classes where applicable\n",
      "23/06/29 14:46:37 WARN Utils: Service 'SparkUI' could not bind on port 4040. Attempting port 4041.\n"
     ]
    }
   ],
   "source": [
    "spark = SparkSession.builder.appName(\"YourAppName\").getOrCreate()\n",
    "spark.conf.set(\"spark.sql.debug.maxToStringFields\", \"10000\")\n",
    "\n",
    "# Reading CSV file into a DataFrame\n",
    "\n",
    "taxi17 = spark.read.csv(\"taxi2017.csv\", header=True)\n",
    "\n",
    "\n"
   ]
  },
  {
   "cell_type": "code",
   "execution_count": 11,
   "id": "62a7b273",
   "metadata": {},
   "outputs": [
    {
     "name": "stdout",
     "output_type": "stream",
     "text": [
      "+--------+--------------------+---------------------+---------------+-------------+----------+------------------+------------+------------+------------+-----------+-----+-------+----------+------------+---------------------+------------+\n",
      "|VendorID|tpep_pickup_datetime|tpep_dropoff_datetime|passenger_count|trip_distance|RatecodeID|store_and_fwd_flag|PULocationID|DOLocationID|payment_type|fare_amount|extra|mta_tax|tip_amount|tolls_amount|improvement_surcharge|total_amount|\n",
      "+--------+--------------------+---------------------+---------------+-------------+----------+------------------+------------+------------+------------+-----------+-----+-------+----------+------------+---------------------+------------+\n",
      "|       2|06/28/2017 07:48:...| 06/28/2017 08:03:...|              1|         2.02|         1|                 N|         249|         224|           1|         11|    1|    0.5|       1.2|           0|                  0.3|          14|\n",
      "|       2|06/28/2017 07:48:...| 06/28/2017 08:01:...|              1|         1.18|         1|                 N|         231|         125|           1|        9.5|    1|    0.5|         1|           0|                  0.3|        12.3|\n",
      "|       2|06/28/2017 07:48:...| 06/28/2017 07:55:...|              1|         0.27|         1|                 N|         142|         238|           1|          6|    1|    0.5|      1.95|           0|                  0.3|        9.75|\n",
      "|       2|06/28/2017 07:48:...| 06/28/2017 07:53:...|              1|         0.61|         1|                 N|         233|         170|           1|          5|    1|    0.5|       0.8|           0|                  0.3|         7.6|\n",
      "|       2|06/28/2017 07:48:...| 06/28/2017 07:57:...|              1|         1.69|         1|                 N|         236|         237|           1|        8.5|  0.5|    0.5|      1.96|           0|                  0.3|       11.76|\n",
      "|       1|06/28/2017 07:48:...| 06/28/2017 07:53:...|              1|          0.9|         1|                 N|         234|         249|           1|        5.5|    1|    0.5|      1.45|           0|                  0.3|        8.75|\n",
      "|       1|06/28/2017 07:48:...| 06/28/2017 08:02:...|              1|          2.3|         1|                 N|         237|         107|           1|         11|    1|    0.5|      2.55|           0|                  0.3|       15.35|\n",
      "|       2|06/28/2017 07:48:...| 06/28/2017 08:13:...|              1|         3.99|         1|                 N|          68|         263|           2|         18|    1|    0.5|         0|           0|                  0.3|        19.8|\n",
      "|       2|06/28/2017 07:48:...| 06/28/2017 08:03:...|              3|         1.13|         1|                 N|         230|         162|           2|         10|    1|    0.5|         0|           0|                  0.3|        11.8|\n",
      "|       2|06/28/2017 07:48:...| 06/28/2017 08:18:...|              1|          3.2|         1|                 N|         163|         249|           1|         19|    1|    0.5|      4.16|           0|                  0.3|       24.96|\n",
      "|       2|06/28/2017 07:48:...| 06/28/2017 08:02:...|              1|         1.51|         1|                 N|          90|          79|           1|         10|    1|    0.5|      1.77|           0|                  0.3|       13.57|\n",
      "|       1|06/28/2017 07:48:...| 06/28/2017 08:06:...|              1|          1.7|         1|                 N|          48|         100|           1|       11.5|  0.5|    0.5|       3.2|           0|                  0.3|          16|\n",
      "|       2|06/28/2017 07:48:...| 06/28/2017 08:02:...|              1|         2.51|         1|                 N|         125|         107|           1|       11.5|    1|    0.5|      2.66|           0|                  0.3|       15.96|\n",
      "|       2|06/28/2017 07:48:...| 06/28/2017 08:11:...|              1|         3.22|         1|                 N|         229|           7|           1|       15.5|    1|    0.5|      3.46|           0|                  0.3|       20.76|\n",
      "|       2|06/28/2017 07:48:...| 06/28/2017 07:54:...|              1|         1.24|         1|                 N|         229|         140|           1|        6.5|    1|    0.5|      1.66|           0|                  0.3|        9.96|\n",
      "|       1|06/28/2017 07:48:...| 06/28/2017 07:51:...|              1|          0.9|         1|                 N|         249|          68|           1|          5|    1|    0.5|       2.2|           0|                  0.3|           9|\n",
      "|       1|06/28/2017 07:48:...| 06/28/2017 08:04:...|              1|          1.6|         1|                 N|         161|         234|           1|       11.5|  0.5|    0.5|       2.2|           0|                  0.3|          15|\n",
      "|       2|06/28/2017 07:48:...| 06/28/2017 07:57:...|              1|         1.62|         1|                 N|         233|         141|           1|          8|    1|    0.5|      2.45|           0|                  0.3|       12.25|\n",
      "|       2|06/28/2017 07:48:...| 06/28/2017 08:08:...|              1|         3.39|         1|                 N|         143|          74|           1|         15|    1|    0.5|         1|           0|                  0.3|        17.8|\n",
      "|       1|06/28/2017 07:48:...| 06/28/2017 08:01:...|              1|          2.2|         1|                 N|         226|          82|           2|       10.5|    1|    0.5|         0|           0|                  0.3|        12.3|\n",
      "+--------+--------------------+---------------------+---------------+-------------+----------+------------------+------------+------------+------------+-----------+-----+-------+----------+------------+---------------------+------------+\n",
      "only showing top 20 rows\n",
      "\n"
     ]
    }
   ],
   "source": [
    "#Displaying taxi dataframe\n",
    "taxi17.show()"
   ]
  },
  {
   "cell_type": "code",
   "execution_count": 12,
   "id": "1caa33ed",
   "metadata": {},
   "outputs": [
    {
     "name": "stderr",
     "output_type": "stream",
     "text": [
      "                                                                                \r"
     ]
    },
    {
     "data": {
      "text/plain": [
       "113496874"
      ]
     },
     "execution_count": 12,
     "metadata": {},
     "output_type": "execute_result"
    }
   ],
   "source": [
    "taxi17.count()"
   ]
  },
  {
   "cell_type": "code",
   "execution_count": 13,
   "id": "a54e4d6e",
   "metadata": {},
   "outputs": [],
   "source": [
    "manhattan_ids = list(manhattan_zones.keys())"
   ]
  },
  {
   "cell_type": "code",
   "execution_count": 14,
   "id": "bdba760a",
   "metadata": {},
   "outputs": [],
   "source": [
    "#Filtering pickup and dropoff location if either is in manhattan\n",
    "\n",
    "taxi17 = taxi17.filter((col(\"PULocationID\").isin(manhattan_ids)) | (col(\"DOLocationID\").isin(manhattan_ids)))"
   ]
  },
  {
   "cell_type": "code",
   "execution_count": 15,
   "id": "cfcdd425",
   "metadata": {},
   "outputs": [
    {
     "name": "stderr",
     "output_type": "stream",
     "text": [
      "[Stage 5:====================================================>    (73 + 6) / 79]\r"
     ]
    },
    {
     "name": "stdout",
     "output_type": "stream",
     "text": [
      "Taxi17:  107689785\n"
     ]
    },
    {
     "name": "stderr",
     "output_type": "stream",
     "text": [
      "\r",
      "                                                                                \r"
     ]
    }
   ],
   "source": [
    "#Length of each dataset after filtration\n",
    "\n",
    "print(\"Taxi17: \", taxi17.count())"
   ]
  },
  {
   "cell_type": "markdown",
   "id": "3d79d112",
   "metadata": {},
   "source": [
    "### Converting Features to Correct Datatype\n",
    "\n",
    "- All features seem to be documented as string. I would be converting all features to the correct datatype\n",
    "\n",
    "- That is strings would remain as strings, ints as ints etc."
   ]
  },
  {
   "cell_type": "code",
   "execution_count": 16,
   "id": "a41341a9",
   "metadata": {},
   "outputs": [
    {
     "name": "stdout",
     "output_type": "stream",
     "text": [
      "[('VendorID', 'string'), ('tpep_pickup_datetime', 'string'), ('tpep_dropoff_datetime', 'string'), ('passenger_count', 'string'), ('trip_distance', 'string'), ('RatecodeID', 'string'), ('store_and_fwd_flag', 'string'), ('PULocationID', 'string'), ('DOLocationID', 'string'), ('payment_type', 'string'), ('fare_amount', 'string'), ('extra', 'string'), ('mta_tax', 'string'), ('tip_amount', 'string'), ('tolls_amount', 'string'), ('improvement_surcharge', 'string'), ('total_amount', 'string')]\n"
     ]
    }
   ],
   "source": [
    "print(taxi17.dtypes)\n"
   ]
  },
  {
   "cell_type": "code",
   "execution_count": 17,
   "id": "b96fc461",
   "metadata": {},
   "outputs": [],
   "source": [
    "float_columns = ['trip_distance', 'fare_amount', 'mta_tax', 'tip_amount','tolls_amount', 'improvement_surcharge', 'total_amount']\n",
    "\n",
    "date_columns = ['tpep_pickup_datetime', 'tpep_dropoff_datetime']\n",
    "\n",
    "int_columns = ['passenger_count']\n",
    "\n",
    "category_columns = ['VendorID', 'RatecodeID', 'Store_and_fwd_flag', 'payment_type',  ]"
   ]
  },
  {
   "cell_type": "code",
   "execution_count": 18,
   "id": "39b01d07",
   "metadata": {},
   "outputs": [],
   "source": [
    "for column in taxi17.columns:\n",
    "    if column in float_columns: \n",
    "        taxi17 = taxi17.withColumn(column, col(column).cast('float'))\n",
    "    elif column in date_columns:\n",
    "        taxi17= taxi17.withColumn(column, to_timestamp(column, \"MM/dd/yyyy hh:mm:ss a\"))\n",
    "    \n",
    "    elif column in int_columns:\n",
    "        taxi17 = taxi17.withColumn(column, col(column).cast('int'))\n",
    "    \n",
    "    else:\n",
    "        taxi17 = taxi17.withColumn(column, col(column).cast(StringType()))\n",
    "        \n",
    "        \n",
    "    "
   ]
  },
  {
   "cell_type": "code",
   "execution_count": 19,
   "id": "f782d617",
   "metadata": {},
   "outputs": [
    {
     "name": "stdout",
     "output_type": "stream",
     "text": [
      "[('VendorID', 'string'), ('tpep_pickup_datetime', 'timestamp'), ('tpep_dropoff_datetime', 'timestamp'), ('passenger_count', 'int'), ('trip_distance', 'float'), ('RatecodeID', 'string'), ('store_and_fwd_flag', 'string'), ('PULocationID', 'string'), ('DOLocationID', 'string'), ('payment_type', 'string'), ('fare_amount', 'float'), ('extra', 'string'), ('mta_tax', 'float'), ('tip_amount', 'float'), ('tolls_amount', 'float'), ('improvement_surcharge', 'float'), ('total_amount', 'float')]\n"
     ]
    }
   ],
   "source": [
    "print(taxi17.dtypes)\n"
   ]
  },
  {
   "cell_type": "markdown",
   "id": "5997ab66",
   "metadata": {},
   "source": [
    " "
   ]
  },
  {
   "cell_type": "markdown",
   "id": "5ec2ee3a",
   "metadata": {},
   "source": [
    "### Handling Missing Values"
   ]
  },
  {
   "cell_type": "code",
   "execution_count": 20,
   "id": "99e94326",
   "metadata": {},
   "outputs": [
    {
     "name": "stderr",
     "output_type": "stream",
     "text": [
      "[Stage 8:======================================================>  (76 + 3) / 79]\r"
     ]
    },
    {
     "name": "stdout",
     "output_type": "stream",
     "text": [
      "+---------------+---------------------------+----------------------------+----------------------+--------------------+-----------------+-------------------------+-------------------+-------------------+-------------------+------------------+------------+--------------+-----------------+-------------------+----------------------------+-------------------+------------------+------------------+------------------+------------------+------------------+------------------+------------------+------------------+------------------+------------------+------------------+------------------+------------------+------------------+------------------+------------------+------------------+\n",
      "|VendorID_isNull|tpep_pickup_datetime_isNull|tpep_dropoff_datetime_isNull|passenger_count_isNull|trip_distance_isNull|RatecodeID_isNull|store_and_fwd_flag_isNull|PULocationID_isNull|DOLocationID_isNull|payment_type_isNull|fare_amount_isNull|extra_isNull|mta_tax_isNull|tip_amount_isNull|tolls_amount_isNull|improvement_surcharge_isNull|total_amount_isNull|total_amount_isNaN|total_amount_isNaN|total_amount_isNaN|total_amount_isNaN|total_amount_isNaN|total_amount_isNaN|total_amount_isNaN|total_amount_isNaN|total_amount_isNaN|total_amount_isNaN|total_amount_isNaN|total_amount_isNaN|total_amount_isNaN|total_amount_isNaN|total_amount_isNaN|total_amount_isNaN|total_amount_isNaN|\n",
      "+---------------+---------------------------+----------------------------+----------------------+--------------------+-----------------+-------------------------+-------------------+-------------------+-------------------+------------------+------------+--------------+-----------------+-------------------+----------------------------+-------------------+------------------+------------------+------------------+------------------+------------------+------------------+------------------+------------------+------------------+------------------+------------------+------------------+------------------+------------------+------------------+------------------+------------------+\n",
      "|              0|                          0|                           0|                     0|                   0|                0|                        0|                  0|                  0|                  0|                 0|           0|             0|                0|                  0|                           0|                  0|                 0|                 0|                 0|                 0|                 0|                 0|                 0|                 0|                 0|                 0|                 0|                 0|                 0|                 0|                 0|                 0|                 0|\n",
      "+---------------+---------------------------+----------------------------+----------------------+--------------------+-----------------+-------------------------+-------------------+-------------------+-------------------+------------------+------------+--------------+-----------------+-------------------+----------------------------+-------------------+------------------+------------------+------------------+------------------+------------------+------------------+------------------+------------------+------------------+------------------+------------------+------------------+------------------+------------------+------------------+------------------+------------------+\n",
      "\n"
     ]
    },
    {
     "name": "stderr",
     "output_type": "stream",
     "text": [
      "\r",
      "                                                                                \r"
     ]
    }
   ],
   "source": [
    "\n",
    "missing_sum = taxi17.select([\n",
    "    sum(isnull(col(column)).cast(\"integer\")).alias(column + \"_isNull\") for column in taxi17.columns\n",
    "] + [\n",
    "    sum(isnan(col(column)).cast(\"integer\")).alias(column + \"_isNaN\") for c in taxi17.columns\n",
    "])\n",
    "\n",
    "missing_sum.show()\n"
   ]
  },
  {
   "cell_type": "code",
   "execution_count": 21,
   "id": "5987a7b9",
   "metadata": {},
   "outputs": [
    {
     "name": "stderr",
     "output_type": "stream",
     "text": [
      "                                                                                \r"
     ]
    },
    {
     "name": "stdout",
     "output_type": "stream",
     "text": [
      "VendorID, number of missing values is 0\n"
     ]
    },
    {
     "name": "stderr",
     "output_type": "stream",
     "text": [
      "                                                                                \r"
     ]
    },
    {
     "name": "stdout",
     "output_type": "stream",
     "text": [
      "tpep_pickup_datetime, number of missing values is 0\n"
     ]
    },
    {
     "name": "stderr",
     "output_type": "stream",
     "text": [
      "                                                                                \r"
     ]
    },
    {
     "name": "stdout",
     "output_type": "stream",
     "text": [
      "tpep_dropoff_datetime, number of missing values is 0\n"
     ]
    },
    {
     "name": "stderr",
     "output_type": "stream",
     "text": [
      "                                                                                \r"
     ]
    },
    {
     "name": "stdout",
     "output_type": "stream",
     "text": [
      "passenger_count, number of missing values is 0\n"
     ]
    },
    {
     "name": "stderr",
     "output_type": "stream",
     "text": [
      "                                                                                \r"
     ]
    },
    {
     "name": "stdout",
     "output_type": "stream",
     "text": [
      "trip_distance, number of missing values is 0\n"
     ]
    },
    {
     "name": "stderr",
     "output_type": "stream",
     "text": [
      "                                                                                \r"
     ]
    },
    {
     "name": "stdout",
     "output_type": "stream",
     "text": [
      "RatecodeID, number of missing values is 0\n"
     ]
    },
    {
     "name": "stderr",
     "output_type": "stream",
     "text": [
      "                                                                                \r"
     ]
    },
    {
     "name": "stdout",
     "output_type": "stream",
     "text": [
      "store_and_fwd_flag, number of missing values is 0\n"
     ]
    },
    {
     "name": "stderr",
     "output_type": "stream",
     "text": [
      "                                                                                \r"
     ]
    },
    {
     "name": "stdout",
     "output_type": "stream",
     "text": [
      "PULocationID, number of missing values is 0\n"
     ]
    },
    {
     "name": "stderr",
     "output_type": "stream",
     "text": [
      "                                                                                \r"
     ]
    },
    {
     "name": "stdout",
     "output_type": "stream",
     "text": [
      "DOLocationID, number of missing values is 0\n"
     ]
    },
    {
     "name": "stderr",
     "output_type": "stream",
     "text": [
      "                                                                                \r"
     ]
    },
    {
     "name": "stdout",
     "output_type": "stream",
     "text": [
      "payment_type, number of missing values is 0\n"
     ]
    },
    {
     "name": "stderr",
     "output_type": "stream",
     "text": [
      "                                                                                \r"
     ]
    },
    {
     "name": "stdout",
     "output_type": "stream",
     "text": [
      "fare_amount, number of missing values is 0\n"
     ]
    },
    {
     "name": "stderr",
     "output_type": "stream",
     "text": [
      "                                                                                \r"
     ]
    },
    {
     "name": "stdout",
     "output_type": "stream",
     "text": [
      "extra, number of missing values is 0\n"
     ]
    },
    {
     "name": "stderr",
     "output_type": "stream",
     "text": [
      "                                                                                \r"
     ]
    },
    {
     "name": "stdout",
     "output_type": "stream",
     "text": [
      "mta_tax, number of missing values is 0\n"
     ]
    },
    {
     "name": "stderr",
     "output_type": "stream",
     "text": [
      "                                                                                \r"
     ]
    },
    {
     "name": "stdout",
     "output_type": "stream",
     "text": [
      "tip_amount, number of missing values is 0\n"
     ]
    },
    {
     "name": "stderr",
     "output_type": "stream",
     "text": [
      "                                                                                \r"
     ]
    },
    {
     "name": "stdout",
     "output_type": "stream",
     "text": [
      "tolls_amount, number of missing values is 0\n"
     ]
    },
    {
     "name": "stderr",
     "output_type": "stream",
     "text": [
      "                                                                                \r"
     ]
    },
    {
     "name": "stdout",
     "output_type": "stream",
     "text": [
      "improvement_surcharge, number of missing values is 0\n"
     ]
    },
    {
     "name": "stderr",
     "output_type": "stream",
     "text": [
      "[Stage 59:===================================================>    (73 + 6) / 79]\r"
     ]
    },
    {
     "name": "stdout",
     "output_type": "stream",
     "text": [
      "total_amount, number of missing values is 0\n"
     ]
    },
    {
     "name": "stderr",
     "output_type": "stream",
     "text": [
      "\r",
      "[Stage 59:=====================================================>  (76 + 3) / 79]\r",
      "\r",
      "                                                                                \r"
     ]
    }
   ],
   "source": [
    "#Searching for missing values across each column\n",
    "for column in taxi17.columns:\n",
    "    missing_count = taxi17.filter(col(column).isNull() | \n",
    "                                  (col(column) == '') | \n",
    "                                  (col(column).contains('Na%')) | (col(column).contains('na%'))).count()\n",
    "    print(f\"{column}, number of missing values is {missing_count}\")\n",
    "    "
   ]
  },
  {
   "cell_type": "markdown",
   "id": "88c45612",
   "metadata": {},
   "source": [
    "#### Observations\n",
    "---------------------------------------\n",
    "\n",
    "- As observed above, there seems to be 0 missing values in the dataset. This remains true even after adjusting the code to accomodate empty strings"
   ]
  },
  {
   "cell_type": "markdown",
   "id": "cbed34e9",
   "metadata": {},
   "source": []
  },
  {
   "cell_type": "markdown",
   "id": "00553a28",
   "metadata": {},
   "source": [
    " ### Logical Integrity Test and Handling Violations\n",
    " \n",
    " - 1. Taxis with no passengers\n",
    " \n",
    " - 2. Dropoff time should not be before pickup time\n",
    " \n",
    " - 3. Check if pickup or drop off date is before or after the dataset year (i.e 2017 or 2018)"
   ]
  },
  {
   "cell_type": "markdown",
   "id": "87269eb9",
   "metadata": {},
   "source": [
    "#### Taxi Trips With no Passengers"
   ]
  },
  {
   "cell_type": "code",
   "execution_count": 22,
   "id": "ba2d4965",
   "metadata": {},
   "outputs": [
    {
     "name": "stderr",
     "output_type": "stream",
     "text": [
      "[Stage 62:===================================================>    (73 + 6) / 79]\r"
     ]
    },
    {
     "name": "stdout",
     "output_type": "stream",
     "text": [
      "Total rows where taxi had no passengers =  146635\n"
     ]
    },
    {
     "name": "stderr",
     "output_type": "stream",
     "text": [
      "\r",
      "[Stage 62:=====================================================>  (75 + 4) / 79]\r",
      "\r",
      "                                                                                \r"
     ]
    }
   ],
   "source": [
    "print(\"Total rows where taxi had no passengers = \", taxi17.filter(col('passenger_count') == 0).count())"
   ]
  },
  {
   "cell_type": "code",
   "execution_count": 23,
   "id": "05d2fca0",
   "metadata": {},
   "outputs": [],
   "source": [
    "taxi17 = taxi17.filter(col('passenger_count') > 0)"
   ]
  },
  {
   "cell_type": "code",
   "execution_count": 24,
   "id": "8876a127",
   "metadata": {},
   "outputs": [
    {
     "name": "stderr",
     "output_type": "stream",
     "text": [
      "[Stage 65:=====================================================>  (76 + 3) / 79]\r"
     ]
    },
    {
     "name": "stdout",
     "output_type": "stream",
     "text": [
      "Total rows where taxi had no passengers =  0\n"
     ]
    },
    {
     "name": "stderr",
     "output_type": "stream",
     "text": [
      "\r",
      "                                                                                \r"
     ]
    }
   ],
   "source": [
    "print(\"Total rows where taxi had no passengers = \", taxi17.filter(col('passenger_count') == 0).count())"
   ]
  },
  {
   "cell_type": "markdown",
   "id": "fb30c5ae",
   "metadata": {},
   "source": [
    " "
   ]
  },
  {
   "cell_type": "markdown",
   "id": "bc3f6aca",
   "metadata": {},
   "source": [
    " ####  Dropoff time before pickup time"
   ]
  },
  {
   "cell_type": "code",
   "execution_count": 25,
   "id": "01f1c914",
   "metadata": {},
   "outputs": [
    {
     "name": "stderr",
     "output_type": "stream",
     "text": [
      "[Stage 68:=====================================================>  (75 + 4) / 79]\r"
     ]
    },
    {
     "name": "stdout",
     "output_type": "stream",
     "text": [
      "Number of rows in violation =  4726\n"
     ]
    },
    {
     "name": "stderr",
     "output_type": "stream",
     "text": [
      "\r",
      "                                                                                \r"
     ]
    }
   ],
   "source": [
    "#Count number of rows where dropoff was before pickup\n",
    "\n",
    "print(\"Number of rows in violation = \", \n",
    "      taxi17.filter(col(\"tpep_dropoff_datetime\") < col(\"tpep_pickup_datetime\")).count())\n"
   ]
  },
  {
   "cell_type": "code",
   "execution_count": 26,
   "id": "2e4b2a1b",
   "metadata": {},
   "outputs": [
    {
     "name": "stderr",
     "output_type": "stream",
     "text": [
      "[Stage 74:========================================================(50 + 0) / 50]\r"
     ]
    },
    {
     "name": "stdout",
     "output_type": "stream",
     "text": [
      "+--------+--------------------+---------------------+---------------+-------------+----------+------------------+------------+------------+------------+-----------+-----+-------+----------+------------+---------------------+------------+\n",
      "|VendorID|tpep_pickup_datetime|tpep_dropoff_datetime|passenger_count|trip_distance|RatecodeID|store_and_fwd_flag|PULocationID|DOLocationID|payment_type|fare_amount|extra|mta_tax|tip_amount|tolls_amount|improvement_surcharge|total_amount|\n",
      "+--------+--------------------+---------------------+---------------+-------------+----------+------------------+------------+------------+------------+-----------+-----+-------+----------+------------+---------------------+------------+\n",
      "|1       |2017-07-19 15:15:01 |2017-07-16 16:00:15  |1              |7.3          |1         |Y                 |163         |138         |2           |26.5       |1    |0.5    |0.0       |0.0         |0.3                  |28.3        |\n",
      "|1       |2017-07-22 15:15:12 |1997-07-22 15:30:46  |1              |4.7          |1         |N                 |263         |107         |2           |15.0       |0.5  |0.5    |0.0       |0.0         |0.3                  |16.3        |\n",
      "|1       |2017-07-23 15:15:11 |2017-07-20 15:49:15  |1              |5.4          |1         |N                 |90          |237         |1           |23.0       |0.5  |0.5    |4.85      |0.0         |0.3                  |29.15       |\n",
      "|1       |2017-07-26 15:15:15 |2017-07-23 15:19:16  |1              |0.9          |1         |N                 |45          |114         |1           |5.5        |1    |0.5    |1.45      |0.0         |0.3                  |8.75        |\n",
      "|1       |2017-08-01 15:15:01 |1997-08-01 16:33:55  |1              |20.7         |2         |N                 |132         |239         |2           |52.0       |0    |0.5    |0.0       |5.76        |0.3                  |58.56       |\n",
      "|1       |2017-08-24 15:15:10 |2017-08-22 15:48:00  |1              |11.1         |1         |N                 |138         |161         |1           |34.0       |1    |0.5    |2.0       |5.76        |0.3                  |43.56       |\n",
      "|1       |2017-08-26 22:43:32 |2017-08-26 22:25:53  |3              |18.7         |2         |N                 |132         |263         |1           |52.0       |0    |0.5    |11.71     |5.76        |0.3                  |70.27       |\n",
      "|1       |2017-09-02 15:15:17 |1997-09-02 16:02:35  |2              |5.2          |1         |N                 |230         |13          |2           |17.5       |0.5  |0.5    |0.0       |0.0         |0.3                  |18.8        |\n",
      "|1       |2017-09-18 15:15:02 |2017-09-09 10:34:23  |1              |21.6         |2         |N                 |132         |41          |2           |52.0       |0    |0.5    |0.0       |5.76        |0.3                  |58.56       |\n",
      "|1       |2017-11-05 01:54:17 |2017-11-05 01:22:16  |1              |5.7          |1         |N                 |79          |61          |1           |22.5       |0.5  |0.5    |4.75      |0.0         |0.3                  |28.55       |\n",
      "|1       |2017-11-05 01:48:35 |2017-11-05 01:02:50  |1              |2.4          |1         |N                 |249         |162         |1           |11.5       |0.5  |0.5    |1.0       |0.0         |0.3                  |13.8        |\n",
      "|1       |2017-11-05 01:59:21 |2017-11-05 01:02:24  |2              |0.3          |1         |N                 |236         |236         |2           |4.0        |0.5  |0.5    |0.0       |0.0         |0.3                  |5.3         |\n",
      "|1       |2017-11-05 01:55:30 |2017-11-05 01:03:32  |1              |1.7          |1         |N                 |24          |116         |1           |8.0        |0.5  |0.5    |1.85      |0.0         |0.3                  |11.15       |\n",
      "|1       |2017-11-05 01:51:17 |2017-11-05 01:02:42  |2              |1.4          |1         |N                 |158         |79          |1           |9.0        |0.5  |0.5    |1.0       |0.0         |0.3                  |11.3        |\n",
      "|1       |2017-11-05 01:37:43 |2017-11-05 01:05:01  |1              |5.2          |1         |N                 |148         |145         |1           |20.5       |0.5  |0.5    |4.35      |0.0         |0.3                  |26.15       |\n",
      "|1       |2017-11-05 01:52:49 |2017-11-05 01:05:34  |1              |3.4          |1         |N                 |234         |143         |1           |12.5       |0.5  |0.5    |2.75      |0.0         |0.3                  |16.55       |\n",
      "|1       |2017-11-05 01:57:20 |2017-11-05 01:30:19  |1              |5.5          |1         |N                 |79          |61          |1           |24.0       |0.5  |0.5    |60.0      |0.0         |0.3                  |85.3        |\n",
      "|1       |2017-11-05 01:58:31 |2017-11-05 01:10:34  |1              |2.1          |1         |N                 |234         |48          |1           |10.0       |0.5  |0.5    |2.0       |0.0         |0.3                  |13.3        |\n",
      "|1       |2017-11-05 01:49:24 |2017-11-05 01:07:16  |1              |3.3          |1         |N                 |144         |68          |2           |14.0       |0.5  |0.5    |0.0       |0.0         |0.3                  |15.3        |\n",
      "|1       |2017-11-05 01:55:12 |2017-11-05 01:02:35  |2              |1.1          |1         |N                 |107         |114         |1           |6.5        |0.5  |0.5    |1.0       |0.0         |0.3                  |8.8         |\n",
      "+--------+--------------------+---------------------+---------------+-------------+----------+------------------+------------+------------+------------+-----------+-----+-------+----------+------------+---------------------+------------+\n",
      "only showing top 20 rows\n",
      "\n"
     ]
    },
    {
     "name": "stderr",
     "output_type": "stream",
     "text": [
      "\r",
      "                                                                                \r"
     ]
    }
   ],
   "source": [
    "#Trying to see some of the rows violating this to make sure\n",
    "taxi17.filter(col(\"tpep_dropoff_datetime\") < col(\"tpep_pickup_datetime\")).show(truncate = False)"
   ]
  },
  {
   "cell_type": "code",
   "execution_count": 27,
   "id": "2d6006d5",
   "metadata": {},
   "outputs": [],
   "source": [
    "#Filtering out rows where dropoff is after pickup\n",
    "taxi17 = taxi17.filter(col(\"tpep_dropoff_datetime\") > col(\"tpep_pickup_datetime\"))"
   ]
  },
  {
   "cell_type": "code",
   "execution_count": 28,
   "id": "71d3688b",
   "metadata": {},
   "outputs": [
    {
     "name": "stderr",
     "output_type": "stream",
     "text": [
      "[Stage 75:=====================================================>  (75 + 4) / 79]\r"
     ]
    },
    {
     "name": "stdout",
     "output_type": "stream",
     "text": [
      "Number of rows in violation =  0\n"
     ]
    },
    {
     "name": "stderr",
     "output_type": "stream",
     "text": [
      "\r",
      "[Stage 75:======================================================> (77 + 2) / 79]\r",
      "\r",
      "                                                                                \r"
     ]
    }
   ],
   "source": [
    "#Count number of rows where dropoff was before pickup\n",
    "\n",
    "print(\"Number of rows in violation = \", \n",
    "      taxi17.filter(col(\"tpep_dropoff_datetime\") < col(\"tpep_pickup_datetime\")).count())\n"
   ]
  },
  {
   "cell_type": "markdown",
   "id": "fe8f68d3",
   "metadata": {},
   "source": [
    " "
   ]
  },
  {
   "cell_type": "markdown",
   "id": "6096e904",
   "metadata": {},
   "source": [
    "#### 2.1. Rows where pickup, dropoff or both are after the dataset year"
   ]
  },
  {
   "cell_type": "code",
   "execution_count": 29,
   "id": "bb8a532d",
   "metadata": {},
   "outputs": [
    {
     "name": "stderr",
     "output_type": "stream",
     "text": [
      "[Stage 78:=====================================================>  (75 + 4) / 79]\r"
     ]
    },
    {
     "name": "stdout",
     "output_type": "stream",
     "text": [
      "Total number of pickup dates after 2017=  49\n"
     ]
    },
    {
     "name": "stderr",
     "output_type": "stream",
     "text": [
      "\r",
      "[Stage 78:=====================================================>  (76 + 3) / 79]\r",
      "\r",
      "                                                                                \r"
     ]
    }
   ],
   "source": [
    "#Printing total number of pick-up time over 2018 \n",
    "pickup_after_2017 = taxi17.filter(col(\"tpep_pickup_datetime\") > \"2017-12-31 23:59:59\").count()\n",
    "\n",
    "print(\"Total number of pickup dates after 2017= \", pickup_after_2017)"
   ]
  },
  {
   "cell_type": "code",
   "execution_count": 30,
   "id": "580bcae0",
   "metadata": {},
   "outputs": [
    {
     "name": "stderr",
     "output_type": "stream",
     "text": [
      "[Stage 81:=====================================================>  (75 + 4) / 79]\r"
     ]
    },
    {
     "name": "stdout",
     "output_type": "stream",
     "text": [
      "Total number of dropoff dates after 2017=  1549\n"
     ]
    },
    {
     "name": "stderr",
     "output_type": "stream",
     "text": [
      "\r",
      "                                                                                \r"
     ]
    }
   ],
   "source": [
    "#Printing total number of dropoff time over 2018\n",
    "dropoff_after_2017 = taxi17.filter(col(\"tpep_dropoff_datetime\") > \"2017-12-31 23:59:59\").count()\n",
    "\n",
    "print(\"Total number of dropoff dates after 2017= \", dropoff_after_2017)"
   ]
  },
  {
   "cell_type": "code",
   "execution_count": 31,
   "id": "d36ccc41",
   "metadata": {},
   "outputs": [
    {
     "name": "stderr",
     "output_type": "stream",
     "text": [
      "[Stage 84:=====================================================>  (75 + 4) / 79]\r"
     ]
    },
    {
     "name": "stdout",
     "output_type": "stream",
     "text": [
      "number of rows where pickup is 2017 and dropoff is after 2018:  1500\n"
     ]
    },
    {
     "name": "stderr",
     "output_type": "stream",
     "text": [
      "\r",
      "                                                                                \r"
     ]
    }
   ],
   "source": [
    "#prints number of rows where pickup is 2018 and dropff is after 2018\n",
    "#Assumption some of the post 2018 dropoff might be \n",
    "print(\"number of rows where pickup is 2017 and dropoff is after 2018: \",\n",
    "      taxi17.filter((col(\"tpep_pickup_datetime\") < \"2017-12-31 23:59:59\") & \n",
    "                    (col(\"tpep_dropoff_datetime\") > \"2017-12-31 23:59:59\")).count())\n",
    "\n"
   ]
  },
  {
   "cell_type": "code",
   "execution_count": 32,
   "id": "4b4d75a4",
   "metadata": {},
   "outputs": [
    {
     "name": "stderr",
     "output_type": "stream",
     "text": [
      "[Stage 87:====================================================>   (74 + 5) / 79]\r"
     ]
    },
    {
     "name": "stdout",
     "output_type": "stream",
     "text": [
      "Total rows pickup and dropoff after 2017 : 49\n"
     ]
    },
    {
     "name": "stderr",
     "output_type": "stream",
     "text": [
      "\r",
      "                                                                                \r"
     ]
    }
   ],
   "source": [
    "#Prints Total number of rows where both pickup and dropoff time is after 2017\n",
    "print(\"Total rows pickup and dropoff after 2017 :\", \n",
    "      taxi17.filter((col(\"tpep_pickup_datetime\") > \"2017-12-31 23:59:59\") \n",
    "                    & (col(\"tpep_dropoff_datetime\") > \"2017-12-31 23:59:59\")).count())\n",
    "\n"
   ]
  },
  {
   "cell_type": "code",
   "execution_count": 33,
   "id": "f8be1860",
   "metadata": {},
   "outputs": [],
   "source": [
    "#filtering out rows where both pick up and dropoff after 2018\n",
    "taxi17 = taxi17.filter(~((col(\"tpep_pickup_datetime\") > \"2017-12-31 23:59:59\") & \n",
    "                         (col(\"tpep_dropoff_datetime\") > \"2017-12-31 23:59:59\")))\n"
   ]
  },
  {
   "cell_type": "code",
   "execution_count": 34,
   "id": "9335a791",
   "metadata": {},
   "outputs": [
    {
     "name": "stderr",
     "output_type": "stream",
     "text": [
      "[Stage 90:=====================================================>  (76 + 3) / 79]\r"
     ]
    },
    {
     "name": "stdout",
     "output_type": "stream",
     "text": [
      "Total rows pickup and dropoff after 2017 : 0\n"
     ]
    },
    {
     "name": "stderr",
     "output_type": "stream",
     "text": [
      "\r",
      "[Stage 90:=======================================================>(78 + 1) / 79]\r",
      "\r",
      "                                                                                \r"
     ]
    }
   ],
   "source": [
    "#Prints Total number of rows where both pickup and dropoff time is after 2018\n",
    "print(\"Total rows pickup and dropoff after 2017 :\", \n",
    "      taxi17.filter((col(\"tpep_pickup_datetime\") > \"2017-12-31 23:59:59\") \n",
    "                    & (col(\"tpep_dropoff_datetime\") > \"2017-12-31 23:59:59\")).count())\n",
    "\n"
   ]
  },
  {
   "cell_type": "markdown",
   "id": "db98cf79",
   "metadata": {},
   "source": [
    " "
   ]
  },
  {
   "cell_type": "markdown",
   "id": "015d2b11",
   "metadata": {},
   "source": [
    "  "
   ]
  },
  {
   "cell_type": "markdown",
   "id": "4dc38c7e",
   "metadata": {},
   "source": [
    "#### 2.2. Rows where pickup, dropoff or both are before the dataset year"
   ]
  },
  {
   "cell_type": "code",
   "execution_count": 35,
   "id": "e4167340",
   "metadata": {},
   "outputs": [
    {
     "name": "stderr",
     "output_type": "stream",
     "text": [
      "[Stage 93:======================================================> (77 + 2) / 79]\r"
     ]
    },
    {
     "name": "stdout",
     "output_type": "stream",
     "text": [
      " Total number of rows where dropoff was before 2017:  101\n"
     ]
    },
    {
     "name": "stderr",
     "output_type": "stream",
     "text": [
      "\r",
      "                                                                                \r"
     ]
    }
   ],
   "source": [
    "dropoff_before2017= taxi17.filter(col(\"tpep_dropoff_datetime\") < \"2017-01-01 00:00:00\").count()\n",
    "print(\" Total number of rows where dropoff was before 2017: \", dropoff_before2017)"
   ]
  },
  {
   "cell_type": "code",
   "execution_count": 36,
   "id": "31feb0d6",
   "metadata": {},
   "outputs": [
    {
     "name": "stderr",
     "output_type": "stream",
     "text": [
      "[Stage 96:=====================================================>  (76 + 3) / 79]\r"
     ]
    },
    {
     "name": "stdout",
     "output_type": "stream",
     "text": [
      " Total number of rows where pickup was before 2017:  101\n"
     ]
    },
    {
     "name": "stderr",
     "output_type": "stream",
     "text": [
      "\r",
      "                                                                                \r"
     ]
    }
   ],
   "source": [
    "pickup_before2017= taxi17.filter(col(\"tpep_pickup_datetime\") < \"2017-01-01 00:00:00\").count()\n",
    "print(\" Total number of rows where pickup was before 2017: \", pickup_before2017)"
   ]
  },
  {
   "cell_type": "code",
   "execution_count": 37,
   "id": "5cbc51e1",
   "metadata": {},
   "outputs": [
    {
     "name": "stderr",
     "output_type": "stream",
     "text": [
      "[Stage 99:=====================================================>  (75 + 4) / 79]\r"
     ]
    },
    {
     "name": "stdout",
     "output_type": "stream",
     "text": [
      "Total number of pickup or dropoff dates less 2017=  101\n"
     ]
    },
    {
     "name": "stderr",
     "output_type": "stream",
     "text": [
      "\r",
      "[Stage 99:=====================================================>  (76 + 3) / 79]\r",
      "\r",
      "                                                                                \r"
     ]
    }
   ],
   "source": [
    "print(\"Total number of pickup or dropoff dates less 2017= \", \n",
    "      taxi17.filter((col(\"tpep_pickup_datetime\") < \"2017-01-01 00:00:00\") | \n",
    "                    (col(\"tpep_dropoff_datetime\") < \"2017-01-01 00:00:00\")).count())\n",
    "\n"
   ]
  },
  {
   "cell_type": "code",
   "execution_count": 38,
   "id": "d3e54556",
   "metadata": {},
   "outputs": [
    {
     "name": "stderr",
     "output_type": "stream",
     "text": [
      "[Stage 102:====================================================>  (76 + 3) / 79]\r"
     ]
    },
    {
     "name": "stdout",
     "output_type": "stream",
     "text": [
      "Total number of pickup and dropoff dates less 2017=  0\n"
     ]
    },
    {
     "name": "stderr",
     "output_type": "stream",
     "text": [
      "\r",
      "[Stage 102:======================================================>(78 + 1) / 79]\r",
      "\r",
      "                                                                                \r"
     ]
    }
   ],
   "source": [
    "print(\"Total number of pickup and dropoff dates less 2017= \", \n",
    "      taxi17.filter((col(\"tpep_pickup_datetime\") > \"2017-01-01 00:00:00\") & \n",
    "                    (col(\"tpep_dropoff_datetime\") < \"2017-01-01 00:00:00\")).count())\n",
    "\n"
   ]
  },
  {
   "cell_type": "code",
   "execution_count": 39,
   "id": "c301472b",
   "metadata": {},
   "outputs": [
    {
     "name": "stderr",
     "output_type": "stream",
     "text": [
      "[Stage 105:====================================================>  (75 + 4) / 79]\r"
     ]
    },
    {
     "name": "stdout",
     "output_type": "stream",
     "text": [
      "Total number of pickup and dropoff dates less 2017=  101\n"
     ]
    },
    {
     "name": "stderr",
     "output_type": "stream",
     "text": [
      "\r",
      "[Stage 105:=====================================================> (77 + 2) / 79]\r",
      "\r",
      "                                                                                \r"
     ]
    }
   ],
   "source": [
    "print(\"Total number of pickup and dropoff dates less 2017= \", \n",
    "      taxi17.filter((col(\"tpep_pickup_datetime\") < \"2017-01-01 00:00:00\") & \n",
    "                    (col(\"tpep_dropoff_datetime\") < \"2017-01-01 00:00:00\")).count())\n",
    "\n"
   ]
  },
  {
   "cell_type": "code",
   "execution_count": 40,
   "id": "ccf8da3e",
   "metadata": {},
   "outputs": [
    {
     "name": "stderr",
     "output_type": "stream",
     "text": [
      "[Stage 108:====================================================>  (75 + 4) / 79]\r"
     ]
    },
    {
     "name": "stdout",
     "output_type": "stream",
     "text": [
      "+--------+--------------------+---------------------+---------------+-------------+----------+------------------+------------+------------+------------+-----------+-----+-------+----------+------------+---------------------+------------+\n",
      "|VendorID|tpep_pickup_datetime|tpep_dropoff_datetime|passenger_count|trip_distance|RatecodeID|store_and_fwd_flag|PULocationID|DOLocationID|payment_type|fare_amount|extra|mta_tax|tip_amount|tolls_amount|improvement_surcharge|total_amount|\n",
      "+--------+--------------------+---------------------+---------------+-------------+----------+------------------+------------+------------+------------+-----------+-----+-------+----------+------------+---------------------+------------+\n",
      "|2       |2009-01-01 23:48:55 |2009-01-02 00:06:08  |1              |1.97         |1         |N                 |50          |246         |2           |10.0       |0    |0.5    |0.0       |0.0         |0.3                  |10.8        |\n",
      "|2       |2009-01-01 21:22:35 |2009-01-01 21:58:35  |1              |9.65         |1         |N                 |138         |100         |1           |33.5       |0.5  |0.5    |12.17     |5.76        |0.3                  |52.73       |\n",
      "|2       |2009-01-01 20:16:47 |2009-01-01 20:23:47  |4              |1.09         |1         |N                 |239         |151         |2           |7.0        |0.5  |0.5    |0.0       |0.0         |0.3                  |8.3         |\n",
      "|2       |2009-01-01 19:49:30 |2009-01-01 20:20:30  |6              |11.12        |1         |N                 |138         |243         |1           |34.0       |1    |0.5    |8.31      |5.76        |0.3                  |49.87       |\n",
      "|2       |2009-01-01 19:40:31 |2009-01-01 20:01:31  |4              |6.95         |1         |N                 |161         |13          |2           |23.0       |1    |0.5    |0.0       |0.0         |0.3                  |24.8        |\n",
      "|2       |2009-01-01 19:13:00 |2009-01-01 19:25:00  |1              |2.15         |1         |N                 |141         |239         |1           |10.5       |1    |0.5    |1.84      |0.0         |0.3                  |14.14       |\n",
      "|2       |2009-01-01 18:24:10 |2009-01-01 18:52:56  |4              |0.87         |1         |N                 |142         |230         |2           |16.0       |1    |0.5    |0.0       |0.0         |0.3                  |17.8        |\n",
      "|2       |2009-01-01 16:22:22 |2009-01-01 16:37:22  |1              |2.21         |1         |N                 |143         |236         |1           |11.0       |1    |0.5    |2.56      |0.0         |0.3                  |15.36       |\n",
      "|2       |2009-01-01 15:44:36 |2009-01-01 16:17:36  |1              |18.1         |2         |N                 |132         |79          |1           |52.0       |0    |0.5    |11.71     |5.76        |0.3                  |70.27       |\n",
      "|2       |2009-01-01 15:41:46 |2009-01-01 16:26:36  |1              |10.91        |1         |N                 |230         |138         |1           |40.0       |0    |0.5    |9.31      |5.76        |0.3                  |55.87       |\n",
      "|2       |2009-01-01 14:59:35 |2009-01-01 15:32:35  |1              |9.35         |1         |N                 |138         |170         |1           |30.0       |0    |0.5    |10.97     |5.76        |0.3                  |47.53       |\n",
      "|2       |2009-01-01 14:04:06 |2009-01-01 14:20:06  |4              |2.3          |1         |N                 |162         |68          |1           |12.0       |0    |0.5    |1.8       |0.0         |0.3                  |14.6        |\n",
      "|2       |2009-01-01 13:19:15 |2009-01-01 13:30:15  |1              |1.91         |1         |N                 |238         |41          |2           |9.0        |0    |0.5    |0.0       |0.0         |0.3                  |9.8         |\n",
      "|2       |2009-01-01 13:04:37 |2009-01-01 13:21:37  |1              |1.8          |1         |N                 |234         |164         |2           |12.0       |0    |0.5    |0.0       |0.0         |0.3                  |12.8        |\n",
      "|2       |2009-01-01 12:58:44 |2009-01-01 13:48:42  |1              |20.53        |2         |N                 |132         |140         |1           |52.0       |0    |0.5    |11.71     |5.76        |0.3                  |70.27       |\n",
      "|2       |2009-01-01 12:55:50 |2009-01-01 13:06:50  |1              |1.07         |1         |N                 |137         |170         |2           |8.0        |0    |0.5    |0.0       |0.0         |0.3                  |8.8         |\n",
      "|2       |2009-01-01 11:33:59 |2009-01-01 11:43:17  |1              |0.76         |1         |N                 |229         |162         |1           |7.5        |0    |0.5    |2.08      |0.0         |0.3                  |10.38       |\n",
      "|2       |2009-01-01 11:31:41 |2009-01-01 11:58:41  |1              |1.37         |1         |N                 |107         |233         |1           |16.5       |0    |0.5    |3.46      |0.0         |0.3                  |20.76       |\n",
      "|2       |2009-01-01 10:05:44 |2009-01-01 10:10:54  |1              |0.66         |1         |N                 |249         |113         |1           |5.5        |0    |0.5    |1.0       |0.0         |0.3                  |7.3         |\n",
      "|2       |2009-01-01 09:39:09 |2009-01-01 10:05:09  |1              |8.94         |1         |N                 |230         |244         |1           |30.0       |0    |0.5    |2.0       |0.0         |0.3                  |32.8        |\n",
      "+--------+--------------------+---------------------+---------------+-------------+----------+------------------+------------+------------+------------+-----------+-----+-------+----------+------------+---------------------+------------+\n",
      "only showing top 20 rows\n",
      "\n"
     ]
    },
    {
     "name": "stderr",
     "output_type": "stream",
     "text": [
      "\r",
      "[Stage 108:======================================================>(78 + 1) / 79]\r",
      "\r",
      "                                                                                \r"
     ]
    }
   ],
   "source": [
    "filtered_df = taxi17.filter(\n",
    "    (col(\"tpep_pickup_datetime\") < \"2017-01-01 00:00:00\") &\n",
    "    (col(\"tpep_dropoff_datetime\") < \"2017-01-01 00:00:00\")\n",
    ")\n",
    "\n",
    "# Display the filtered DataFrame in descending order\n",
    "filtered_df.orderBy(col(\"tpep_pickup_datetime\").desc(), col(\"tpep_dropoff_datetime\").desc()).show(truncate=False)"
   ]
  },
  {
   "cell_type": "code",
   "execution_count": 41,
   "id": "d16006a5",
   "metadata": {},
   "outputs": [
    {
     "name": "stderr",
     "output_type": "stream",
     "text": [
      "[Stage 111:============================================>          (16 + 4) / 20]\r"
     ]
    },
    {
     "name": "stdout",
     "output_type": "stream",
     "text": [
      "+--------+--------------------+---------------------+---------------+-------------+----------+------------------+------------+------------+------------+-----------+-----+-------+----------+------------+---------------------+------------+\n",
      "|VendorID|tpep_pickup_datetime|tpep_dropoff_datetime|passenger_count|trip_distance|RatecodeID|store_and_fwd_flag|PULocationID|DOLocationID|payment_type|fare_amount|extra|mta_tax|tip_amount|tolls_amount|improvement_surcharge|total_amount|\n",
      "+--------+--------------------+---------------------+---------------+-------------+----------+------------------+------------+------------+------------+-----------+-----+-------+----------+------------+---------------------+------------+\n",
      "|2       |2008-12-31 23:34:04 |2008-12-31 23:39:41  |1              |0.93         |1         |N                 |237         |140         |2           |5.5        |0    |0.5    |0.0       |0.0         |0.3                  |6.3         |\n",
      "|2       |2009-01-01 00:22:33 |2009-01-01 00:43:50  |1              |6.91         |1         |N                 |41          |138         |1           |23.5       |0    |0.5    |6.01      |5.76        |0.3                  |36.07       |\n",
      "|2       |2009-01-01 02:04:37 |2009-01-01 02:38:12  |1              |10.69        |1         |N                 |138         |230         |2           |34.5       |0    |0.5    |0.0       |5.76        |0.3                  |41.06       |\n",
      "|2       |2009-01-01 02:46:05 |2009-01-01 02:57:58  |1              |1.65         |1         |N                 |230         |246         |2           |9.5        |0    |0.5    |0.0       |0.0         |0.3                  |10.3        |\n",
      "|2       |2009-01-01 03:33:03 |2009-01-01 04:01:46  |1              |7.67         |1         |N                 |158         |181         |1           |26.5       |0    |0.5    |1.0       |0.0         |0.3                  |28.3        |\n",
      "|2       |2009-01-01 19:13:00 |2009-01-01 19:25:00  |1              |2.15         |1         |N                 |141         |239         |1           |10.5       |1    |0.5    |1.84      |0.0         |0.3                  |14.14       |\n",
      "|2       |2009-01-01 00:14:50 |2009-01-01 00:40:44  |1              |5.29         |1         |N                 |74          |233         |2           |19.5       |0    |0.5    |0.0       |0.0         |0.3                  |20.3        |\n",
      "|2       |2009-01-01 00:51:01 |2009-01-01 01:10:32  |1              |2.93         |1         |N                 |233         |43          |1           |14.5       |0    |0.5    |3.82      |0.0         |0.3                  |19.12       |\n",
      "|2       |2009-01-01 01:14:33 |2009-01-01 01:44:08  |1              |8.33         |1         |N                 |142         |66          |2           |30.0       |0    |0.5    |0.0       |0.0         |0.3                  |30.8        |\n",
      "|2       |2009-01-01 02:13:17 |2009-01-01 02:27:04  |1              |4.35         |1         |N                 |13          |232         |2           |16.0       |0    |0.5    |0.0       |0.0         |0.3                  |16.8        |\n",
      "|2       |2009-01-01 04:03:42 |2009-01-01 04:10:12  |1              |0.8          |1         |N                 |74          |74          |2           |5.5        |0    |0.5    |0.0       |0.0         |0.3                  |6.3         |\n",
      "|2       |2001-01-01 23:39:13 |2001-01-02 00:01:22  |1              |0.56         |1         |N                 |230         |163         |2           |11.0       |0    |0.5    |0.0       |0.0         |0.3                  |11.8        |\n",
      "|2       |2009-01-01 11:31:41 |2009-01-01 11:58:41  |1              |1.37         |1         |N                 |107         |233         |1           |16.5       |0    |0.5    |3.46      |0.0         |0.3                  |20.76       |\n",
      "|2       |2009-01-01 19:49:30 |2009-01-01 20:20:30  |6              |11.12        |1         |N                 |138         |243         |1           |34.0       |1    |0.5    |8.31      |5.76        |0.3                  |49.87       |\n",
      "|2       |2008-12-31 23:03:32 |2008-12-31 23:11:37  |1              |1.04         |1         |N                 |164         |107         |2           |6.5        |0    |0.5    |0.0       |0.0         |0.3                  |7.3         |\n",
      "|2       |2002-12-31 23:35:19 |2003-01-01 18:36:27  |1              |3.15         |1         |N                 |230         |211         |2           |15.5       |1    |0.5    |0.0       |0.0         |0.3                  |17.3        |\n",
      "|2       |2008-12-31 23:27:51 |2008-12-31 23:47:44  |1              |2.94         |1         |N                 |79          |68          |1           |14.5       |0.5  |0.5    |4.74      |0.0         |0.3                  |20.54       |\n",
      "|2       |2008-12-31 23:14:34 |2008-12-31 23:22:56  |1              |1.88         |1         |N                 |186         |142         |1           |8.5        |0.5  |0.5    |1.96      |0.0         |0.3                  |11.76       |\n",
      "|2       |2008-12-31 23:48:49 |2008-12-31 23:51:22  |1              |0.45         |1         |N                 |113         |79          |2           |4.0        |0.5  |0.5    |0.0       |0.0         |0.3                  |5.3         |\n",
      "|2       |2008-12-31 23:34:39 |2008-12-31 23:55:09  |1              |11.38        |1         |N                 |164         |138         |1           |32.0       |0.5  |0.5    |9.76      |5.76        |0.3                  |48.82       |\n",
      "+--------+--------------------+---------------------+---------------+-------------+----------+------------------+------------+------------+------------+-----------+-----+-------+----------+------------+---------------------+------------+\n",
      "only showing top 20 rows\n",
      "\n"
     ]
    },
    {
     "name": "stderr",
     "output_type": "stream",
     "text": [
      "\r",
      "                                                                                \r"
     ]
    }
   ],
   "source": [
    "taxi17.filter((col(\"tpep_pickup_datetime\") < \"2017-01-01 00:00:00\") & \n",
    "              (col(\"tpep_dropoff_datetime\") < \"2017-01-01 00:00:00\")).show(truncate = False)\n",
    "\n"
   ]
  },
  {
   "cell_type": "code",
   "execution_count": 42,
   "id": "f2e7bde5",
   "metadata": {},
   "outputs": [],
   "source": [
    "#filtering out rows where both pick up and dropoff before 2017\n",
    "taxi17 = taxi17.filter(~((col(\"tpep_pickup_datetime\") < \"2017-01-01 00:00:00\") \n",
    "                         & (col(\"tpep_dropoff_datetime\") < \"2017-01-01 00:00:00\")))\n"
   ]
  },
  {
   "cell_type": "code",
   "execution_count": 43,
   "id": "81b3f14c",
   "metadata": {},
   "outputs": [
    {
     "name": "stderr",
     "output_type": "stream",
     "text": [
      "[Stage 112:====================================================>  (75 + 4) / 79]\r"
     ]
    },
    {
     "name": "stdout",
     "output_type": "stream",
     "text": [
      "Total number of pickup and dropoff dates less 2017=  0\n"
     ]
    },
    {
     "name": "stderr",
     "output_type": "stream",
     "text": [
      "\r",
      "[Stage 112:=====================================================> (77 + 2) / 79]\r",
      "\r",
      "                                                                                \r"
     ]
    }
   ],
   "source": [
    "print(\"Total number of pickup and dropoff dates less 2017= \", \n",
    "      taxi17.filter((col(\"tpep_pickup_datetime\") < \"2017-01-01 00:00:00\") & \n",
    "                    (col(\"tpep_dropoff_datetime\") < \"2017-01-01 00:00:00\")).count())\n",
    "\n"
   ]
  },
  {
   "cell_type": "markdown",
   "id": "da83d7d5",
   "metadata": {},
   "source": [
    "### Excessively high Charges"
   ]
  },
  {
   "cell_type": "code",
   "execution_count": 44,
   "id": "92c815f3",
   "metadata": {},
   "outputs": [
    {
     "name": "stderr",
     "output_type": "stream",
     "text": [
      "[Stage 115:====================================================>  (75 + 4) / 79]\r"
     ]
    },
    {
     "name": "stdout",
     "output_type": "stream",
     "text": [
      "Number of rows where fare is over 190 =  4801\n"
     ]
    },
    {
     "name": "stderr",
     "output_type": "stream",
     "text": [
      "\r",
      "[Stage 115:====================================================>  (76 + 3) / 79]\r",
      "\r",
      "                                                                                \r"
     ]
    }
   ],
   "source": [
    "\n",
    "print(\"Number of rows where fare is over 190 = \", taxi17.filter((col(\"total_amount\") > 190)).count())"
   ]
  },
  {
   "cell_type": "code",
   "execution_count": 45,
   "id": "2a9998b5",
   "metadata": {},
   "outputs": [],
   "source": [
    "taxi17 = taxi17.filter(~(col(\"total_amount\") > 190))"
   ]
  },
  {
   "cell_type": "code",
   "execution_count": 46,
   "id": "65828beb",
   "metadata": {},
   "outputs": [
    {
     "name": "stdout",
     "output_type": "stream",
     "text": [
      "Number of rows where fare is over 190 =  0\n"
     ]
    }
   ],
   "source": [
    "\n",
    "print(\"Number of rows where fare is over 190 = \", taxi17.filter((col(\"total_amount\") > 190)).count())"
   ]
  },
  {
   "cell_type": "markdown",
   "id": "1f4b280b",
   "metadata": {},
   "source": [
    " "
   ]
  },
  {
   "cell_type": "markdown",
   "id": "c1dfe321",
   "metadata": {},
   "source": [
    "#### Long Trip distances"
   ]
  },
  {
   "cell_type": "code",
   "execution_count": 47,
   "id": "913e007a",
   "metadata": {},
   "outputs": [
    {
     "name": "stderr",
     "output_type": "stream",
     "text": [
      "[Stage 120:====================================================>  (76 + 3) / 79]\r"
     ]
    },
    {
     "name": "stdout",
     "output_type": "stream",
     "text": [
      "number of rows over 50 miles =  694\n"
     ]
    },
    {
     "name": "stderr",
     "output_type": "stream",
     "text": [
      "\r",
      "[Stage 120:======================================================>(78 + 1) / 79]\r",
      "\r",
      "                                                                                \r"
     ]
    }
   ],
   "source": [
    "print(\"number of rows over 50 miles = \", taxi17.filter(col(\"trip_distance\") > 50).count())"
   ]
  },
  {
   "cell_type": "code",
   "execution_count": 48,
   "id": "887bbc35",
   "metadata": {},
   "outputs": [],
   "source": [
    "taxi17 = taxi17.filter(~(col(\"trip_distance\") > 50))"
   ]
  },
  {
   "cell_type": "code",
   "execution_count": 49,
   "id": "ea7bf123",
   "metadata": {},
   "outputs": [
    {
     "name": "stdout",
     "output_type": "stream",
     "text": [
      "number of rows over 50 miles =  0\n"
     ]
    }
   ],
   "source": [
    "print(\"number of rows over 50 miles = \", taxi17.filter(col(\"trip_distance\") > 50).count())"
   ]
  },
  {
   "cell_type": "markdown",
   "id": "02145181",
   "metadata": {},
   "source": [
    " "
   ]
  },
  {
   "cell_type": "markdown",
   "id": "7227aac0",
   "metadata": {},
   "source": [
    "### New Test For features where trip duration is longer than normal"
   ]
  },
  {
   "cell_type": "code",
   "execution_count": 50,
   "id": "e6b8b1bc",
   "metadata": {},
   "outputs": [
    {
     "name": "stderr",
     "output_type": "stream",
     "text": [
      "[Stage 125:======================================================>(78 + 1) / 79]\r"
     ]
    },
    {
     "name": "stdout",
     "output_type": "stream",
     "text": [
      "Number of rows with pickup to drop-off duration over 2 hours:  190173\n"
     ]
    },
    {
     "name": "stderr",
     "output_type": "stream",
     "text": [
      "\r",
      "                                                                                \r"
     ]
    }
   ],
   "source": [
    "\n",
    "print(\"Number of rows with pickup to drop-off duration over 2 hours: \", taxi17.filter(\n",
    "     \n",
    "    (expr(\"(unix_timestamp(tpep_dropoff_datetime) - unix_timestamp(tpep_pickup_datetime)) > (2 * 3600)\"))\n",
    ").count())\n",
    "\n"
   ]
  },
  {
   "cell_type": "code",
   "execution_count": 51,
   "id": "ab62cefe",
   "metadata": {},
   "outputs": [],
   "source": [
    "taxi17 = taxi17.filter(    \n",
    "   ~ (expr(\"(unix_timestamp(tpep_dropoff_datetime) - unix_timestamp(tpep_pickup_datetime)) > (2 * 3600)\"))\n",
    ")\n"
   ]
  },
  {
   "cell_type": "code",
   "execution_count": 52,
   "id": "2a70a673",
   "metadata": {},
   "outputs": [
    {
     "name": "stdout",
     "output_type": "stream",
     "text": [
      "Number of rows with pickup to drop-off duration over 2 hours:  0\n"
     ]
    }
   ],
   "source": [
    "\n",
    "print(\"Number of rows with pickup to drop-off duration over 2 hours: \", taxi17.filter(\n",
    "     \n",
    "    (expr(\"(unix_timestamp(tpep_dropoff_datetime) - unix_timestamp(tpep_pickup_datetime)) > (2 * 3600)\"))\n",
    ").count())\n",
    "\n"
   ]
  },
  {
   "cell_type": "markdown",
   "id": "84034cf0",
   "metadata": {},
   "source": [
    "#### Checking Features For Correlation"
   ]
  },
  {
   "cell_type": "code",
   "execution_count": 53,
   "id": "3b8579aa",
   "metadata": {},
   "outputs": [
    {
     "name": "stdout",
     "output_type": "stream",
     "text": [
      "['passenger_count', 'trip_distance', 'fare_amount', 'mta_tax', 'tip_amount', 'tolls_amount', 'improvement_surcharge', 'total_amount']\n"
     ]
    }
   ],
   "source": [
    "from pyspark.sql.types import IntegerType, FloatType\n",
    "\n",
    "# Select the numerical columns for analysis\n",
    "numerical_columns = [column for column in taxi17.columns\n",
    "                     if isinstance(taxi17.schema[column].dataType, IntegerType)\n",
    "                     or isinstance(taxi17.schema[column].dataType, FloatType)]\n",
    "\n",
    "print(numerical_columns)\n"
   ]
  },
  {
   "cell_type": "code",
   "execution_count": 54,
   "id": "5e352c7a",
   "metadata": {},
   "outputs": [
    {
     "name": "stderr",
     "output_type": "stream",
     "text": [
      "23/06/29 15:45:44 WARN InstanceBuilder: Failed to load implementation from:dev.ludovic.netlib.blas.JNIBLAS\n",
      "23/06/29 15:45:44 WARN InstanceBuilder: Failed to load implementation from:dev.ludovic.netlib.blas.VectorBLAS\n",
      "[Stage 134:====================================================>  (76 + 3) / 79]\r"
     ]
    },
    {
     "name": "stdout",
     "output_type": "stream",
     "text": [
      "Correlation between passenger_count and passenger_count: 1.0\n",
      "Correlation between passenger_count and trip_distance: 0.016128080298881003\n",
      "Correlation between passenger_count and fare_amount: 0.014171184247359817\n",
      "Correlation between passenger_count and mta_tax: -0.0007079986195190871\n",
      "Correlation between passenger_count and tip_amount: -0.0034291741053905102\n",
      "Correlation between passenger_count and tolls_amount: 0.010847964480668566\n",
      "Correlation between passenger_count and improvement_surcharge: -0.004517174583476371\n",
      "Correlation between passenger_count and total_amount: 0.012020485479017054\n",
      "Correlation between trip_distance and passenger_count: 0.016128080298881003\n",
      "Correlation between trip_distance and trip_distance: 1.0\n",
      "Correlation between trip_distance and fare_amount: 0.9369277869171271\n",
      "Correlation between trip_distance and mta_tax: -0.11472079822629337\n",
      "Correlation between trip_distance and tip_amount: 0.5868241207479075\n",
      "Correlation between trip_distance and tolls_amount: 0.6596735614460042\n",
      "Correlation between trip_distance and improvement_surcharge: 0.01454616265584567\n",
      "Correlation between trip_distance and total_amount: 0.9301048738773121\n",
      "Correlation between fare_amount and passenger_count: 0.014171184247359817\n",
      "Correlation between fare_amount and trip_distance: 0.9369277869171271\n",
      "Correlation between fare_amount and fare_amount: 1.0\n",
      "Correlation between fare_amount and mta_tax: -0.17210306615348947\n",
      "Correlation between fare_amount and tip_amount: 0.6106869909396037\n",
      "Correlation between fare_amount and tolls_amount: 0.6499934237541823\n",
      "Correlation between fare_amount and improvement_surcharge: 0.039330305316252444\n",
      "Correlation between fare_amount and total_amount: 0.9826909505347945\n",
      "Correlation between mta_tax and passenger_count: -0.0007079986195190871\n",
      "Correlation between mta_tax and trip_distance: -0.11472079822629337\n",
      "Correlation between mta_tax and fare_amount: -0.17210306615348947\n",
      "Correlation between mta_tax and mta_tax: 1.0\n",
      "Correlation between mta_tax and tip_amount: -0.11674703706739323\n",
      "Correlation between mta_tax and tolls_amount: -0.28142073451420024\n",
      "Correlation between mta_tax and improvement_surcharge: 0.5551766206947052\n",
      "Correlation between mta_tax and total_amount: -0.18543021540734264\n",
      "Correlation between tip_amount and passenger_count: -0.0034291741053905102\n",
      "Correlation between tip_amount and trip_distance: 0.5868241207479075\n",
      "Correlation between tip_amount and fare_amount: 0.6106869909396037\n",
      "Correlation between tip_amount and mta_tax: -0.11674703706739323\n",
      "Correlation between tip_amount and tip_amount: 1.0\n",
      "Correlation between tip_amount and tolls_amount: 0.48148173733615984\n",
      "Correlation between tip_amount and improvement_surcharge: 0.01519131862636047\n",
      "Correlation between tip_amount and total_amount: 0.7273819617578204\n",
      "Correlation between tolls_amount and passenger_count: 0.010847964480668566\n",
      "Correlation between tolls_amount and trip_distance: 0.6596735614460042\n",
      "Correlation between tolls_amount and fare_amount: 0.6499934237541823\n",
      "Correlation between tolls_amount and mta_tax: -0.28142073451420024\n",
      "Correlation between tolls_amount and tip_amount: 0.48148173733615984\n",
      "Correlation between tolls_amount and tolls_amount: 1.0\n",
      "Correlation between tolls_amount and improvement_surcharge: 0.004650181477341692\n",
      "Correlation between tolls_amount and total_amount: 0.7195427227353699\n",
      "Correlation between improvement_surcharge and passenger_count: -0.004517174583476371\n",
      "Correlation between improvement_surcharge and trip_distance: 0.01454616265584567\n",
      "Correlation between improvement_surcharge and fare_amount: 0.039330305316252444\n",
      "Correlation between improvement_surcharge and mta_tax: 0.5551766206947052\n",
      "Correlation between improvement_surcharge and tip_amount: 0.01519131862636047\n",
      "Correlation between improvement_surcharge and tolls_amount: 0.004650181477341692\n",
      "Correlation between improvement_surcharge and improvement_surcharge: 1.0\n",
      "Correlation between improvement_surcharge and total_amount: 0.03818887504309208\n",
      "Correlation between total_amount and passenger_count: 0.012020485479017054\n",
      "Correlation between total_amount and trip_distance: 0.9301048738773121\n",
      "Correlation between total_amount and fare_amount: 0.9826909505347945\n",
      "Correlation between total_amount and mta_tax: -0.18543021540734264\n",
      "Correlation between total_amount and tip_amount: 0.7273819617578204\n",
      "Correlation between total_amount and tolls_amount: 0.7195427227353699\n",
      "Correlation between total_amount and improvement_surcharge: 0.03818887504309208\n",
      "Correlation between total_amount and total_amount: 1.0\n"
     ]
    },
    {
     "name": "stderr",
     "output_type": "stream",
     "text": [
      "\r",
      "                                                                                \r"
     ]
    }
   ],
   "source": [
    "\n",
    "# Create a vector assembler to combine the numerical columns into a single feature vector\n",
    "assembler = VectorAssembler(inputCols=numerical_columns, outputCol=\"features\")\n",
    "feature_vector = assembler.transform(taxi17).select(\"features\")\n",
    "\n",
    "# Compute the correlation matrix\n",
    "correlation_matrix = Correlation.corr(feature_vector, \"features\")\n",
    "\n",
    "# Extract the correlation matrix values\n",
    "correlation_values = correlation_matrix.head()[0].toArray()\n",
    "\n",
    "# Display the correlation matrix\n",
    "for i in range(len(numerical_columns)):\n",
    "    for j in range(len(numerical_columns)):\n",
    "        print(f\"Correlation between {numerical_columns[i]} and {numerical_columns[j]}: {correlation_values[i][j]}\")\n"
   ]
  },
  {
   "cell_type": "code",
   "execution_count": 61,
   "id": "996575eb",
   "metadata": {},
   "outputs": [
    {
     "data": {
      "image/png": "[encoded data removed]",
      "text/plain": [
       "<Figure size 1000x800 with 2 Axes>"
      ]
     },
     "metadata": {},
     "output_type": "display_data"
    }
   ],
   "source": [
    "# Convert correlation values to a Pandas DataFrame\n",
    "correlation_df = pd.DataFrame(correlation_values, columns=numerical_columns, index=numerical_columns)\n",
    "\n",
    "# Create a correlation heatmap using seaborn\n",
    "plt.figure(figsize=(10, 8))\n",
    "sns.heatmap(correlation_df, annot=True, cmap=\"coolwarm\")\n",
    "\n",
    "# Set the plot title and labels\n",
    "plt.title(\"Correlation Matrix\")\n",
    "plt.xlabel(\"Variables\")\n",
    "plt.ylabel(\"Variables\")\n",
    "\n",
    "# Display the plot\n",
    "plt.show()\n"
   ]
  },
  {
   "cell_type": "code",
   "execution_count": 56,
   "id": "5967aaf2",
   "metadata": {},
   "outputs": [
    {
     "data": {
      "text/plain": [
       "'from pyspark.sql.functions import countDistinct\\n\\nfor column in taxi18.columns:\\n    distinct_count = taxi18.agg(countDistinct(column)).collect()[0][0]\\n    print(\"Total distinct values in column\", column, \"are:\", distinct_count)\\n'"
      ]
     },
     "execution_count": 56,
     "metadata": {},
     "output_type": "execute_result"
    }
   ],
   "source": [
    "\"\"\"from pyspark.sql.functions import countDistinct\n",
    "\n",
    "for column in taxi18.columns:\n",
    "    distinct_count = taxi18.agg(countDistinct(column)).collect()[0][0]\n",
    "    print(\"Total distinct values in column\", column, \"are:\", distinct_count)\n",
    "\"\"\""
   ]
  },
  {
   "cell_type": "markdown",
   "id": "512abb4f",
   "metadata": {},
   "source": [
    "### Adding New features"
   ]
  },
  {
   "cell_type": "code",
   "execution_count": 57,
   "id": "486a46fa",
   "metadata": {},
   "outputs": [],
   "source": [
    "from pyspark.sql.functions import expr, round\n",
    "\n",
    "taxi17 = taxi17.withColumn(\n",
    "    'journey_length_in_minutes',\n",
    "    round((expr(\"unix_timestamp(tpep_dropoff_datetime)\") - expr(\"unix_timestamp(tpep_pickup_datetime)\")) / 60, 2)\n",
    ")"
   ]
  },
  {
   "cell_type": "code",
   "execution_count": 58,
   "id": "9c34a14c",
   "metadata": {},
   "outputs": [
    {
     "name": "stderr",
     "output_type": "stream",
     "text": [
      "[Stage 138:>                                                        (0 + 8) / 9]\r"
     ]
    },
    {
     "name": "stdout",
     "output_type": "stream",
     "text": [
      "+--------------------+\n",
      "|tpep_pickup_datetime|\n",
      "+--------------------+\n",
      "| 2017-12-31 23:59:56|\n",
      "| 2017-12-31 23:59:50|\n",
      "| 2017-12-31 23:59:49|\n",
      "| 2017-12-31 23:59:47|\n",
      "| 2017-12-31 23:59:46|\n",
      "| 2017-12-31 23:59:44|\n",
      "| 2017-12-31 23:59:43|\n",
      "| 2017-12-31 23:59:42|\n",
      "| 2017-12-31 23:59:40|\n",
      "| 2017-12-31 23:59:37|\n",
      "| 2017-12-31 23:59:36|\n",
      "| 2017-12-31 23:59:35|\n",
      "| 2017-12-31 23:59:32|\n",
      "| 2017-12-31 23:59:30|\n",
      "| 2017-12-31 23:59:29|\n",
      "| 2017-12-31 23:59:23|\n",
      "| 2017-12-31 23:59:22|\n",
      "| 2017-12-31 23:59:19|\n",
      "| 2017-12-31 23:59:17|\n",
      "| 2017-12-31 23:59:16|\n",
      "+--------------------+\n",
      "only showing top 20 rows\n",
      "\n"
     ]
    },
    {
     "name": "stderr",
     "output_type": "stream",
     "text": [
      "\r",
      "[Stage 138:============================================>            (7 + 2) / 9]\r",
      "\r",
      "                                                                                \r"
     ]
    }
   ],
   "source": [
    "taxi17.select(\"tpep_pickup_datetime\").distinct().orderBy(col(\"tpep_pickup_datetime\").desc()).limit(100).show()"
   ]
  },
  {
   "cell_type": "code",
   "execution_count": 59,
   "id": "1e783682",
   "metadata": {},
   "outputs": [],
   "source": [
    "\"\"\"taxi17 = taxi17.withColumn(\"pickup_day\", dayofweek(col(\"tpep_pickup_datetime\")))\n",
    "taxi17 = taxi17.withColumn(\"pickup_month\", month(col(\"tpep_pickup_datetime\")))\n",
    "taxi17 = taxi17.withColumn(\"pickup_hour\", hour(col(\"tpep_pickup_datetime\")))\n",
    "taxi17 = taxi17.withColumn(\"pickup_minute\", minute(col(\"tpep_pickup_datetime\")))\"\"\"\n",
    "\n",
    "taxi17 = taxi17.withColumn(\"dropoff_day\", dayofweek(col(\"tpep_dropoff_datetime\")))\n",
    "taxi17 = taxi17.withColumn(\"day_of_month\", dayofmonth(col(\"tpep_dropoff_datetime\")))\n",
    "taxi17 = taxi17.withColumn(\"dropoff_month\", month(col(\"tpep_dropoff_datetime\")))\n",
    "taxi17 = taxi17.withColumn(\"dropoff_hour\", hour(col(\"tpep_dropoff_datetime\")))\n",
    "taxi17 = taxi17.withColumn(\"dropoff_minute\", minute(col(\"tpep_dropoff_datetime\")))\n",
    "taxi17 = taxi17.withColumn(\"pickup_hour\", hour(col(\"tpep_pickup_datetime\")))\n",
    "taxi17 = taxi17.withColumn(\"pickup_minute\", minute(col(\"tpep_pickup_datetime\")))"
   ]
  },
  {
   "cell_type": "code",
   "execution_count": 60,
   "id": "5ef62238",
   "metadata": {},
   "outputs": [
    {
     "name": "stderr",
     "output_type": "stream",
     "text": [
      "                                                                                \r"
     ]
    },
    {
     "name": "stdout",
     "output_type": "stream",
     "text": [
      "+------------+\n",
      "|day_of_month|\n",
      "+------------+\n",
      "|          28|\n",
      "|          26|\n",
      "|          27|\n",
      "|           1|\n",
      "|           6|\n",
      "|           5|\n",
      "|           4|\n",
      "|           8|\n",
      "|           7|\n",
      "|          29|\n",
      "|          30|\n",
      "|          12|\n",
      "|          13|\n",
      "|           3|\n",
      "|           9|\n",
      "|          10|\n",
      "|          11|\n",
      "|           2|\n",
      "|          15|\n",
      "|          14|\n",
      "|          16|\n",
      "|          20|\n",
      "|          19|\n",
      "|          17|\n",
      "|          18|\n",
      "|          22|\n",
      "|          23|\n",
      "|          25|\n",
      "|          24|\n",
      "|          21|\n",
      "|          31|\n",
      "+------------+\n",
      "\n"
     ]
    },
    {
     "ename": "AttributeError",
     "evalue": "'NoneType' object has no attribute 'sort'",
     "output_type": "error",
     "traceback": [
      "\u001b[0;31m---------------------------------------------------------------------------\u001b[0m",
      "\u001b[0;31mAttributeError\u001b[0m                            Traceback (most recent call last)",
      "\u001b[0;32m/var/folders/fn/l9wg2z0s1_1050p97phv554r0000gn/T/ipykernel_95552/1419933262.py\u001b[0m in \u001b[0;36m<module>\u001b[0;34m\u001b[0m\n\u001b[1;32m      1\u001b[0m \u001b[0mdistinct_days\u001b[0m \u001b[0;34m=\u001b[0m \u001b[0mtaxi17\u001b[0m\u001b[0;34m.\u001b[0m\u001b[0mselect\u001b[0m\u001b[0;34m(\u001b[0m\u001b[0;34m\"day_of_month\"\u001b[0m\u001b[0;34m)\u001b[0m\u001b[0;34m.\u001b[0m\u001b[0mdistinct\u001b[0m\u001b[0;34m(\u001b[0m\u001b[0;34m)\u001b[0m\u001b[0;34m\u001b[0m\u001b[0;34m\u001b[0m\u001b[0m\n\u001b[0;32m----> 2\u001b[0;31m \u001b[0mdistinct_days\u001b[0m\u001b[0;34m.\u001b[0m\u001b[0mshow\u001b[0m\u001b[0;34m(\u001b[0m\u001b[0;36m31\u001b[0m\u001b[0;34m)\u001b[0m\u001b[0;34m.\u001b[0m\u001b[0msort\u001b[0m\u001b[0;34m(\u001b[0m\u001b[0;34m)\u001b[0m\u001b[0;34m\u001b[0m\u001b[0;34m\u001b[0m\u001b[0m\n\u001b[0m",
      "\u001b[0;31mAttributeError\u001b[0m: 'NoneType' object has no attribute 'sort'"
     ]
    }
   ],
   "source": [
    "distinct_days = taxi17.select(\"day_of_month\").distinct()\n",
    "distinct_days.show(31).sort()"
   ]
  },
  {
   "cell_type": "code",
   "execution_count": 63,
   "id": "766a4f63",
   "metadata": {},
   "outputs": [
    {
     "data": {
      "text/plain": [
       "DataFrame[VendorID: string, tpep_pickup_datetime: timestamp, tpep_dropoff_datetime: timestamp, passenger_count: int, trip_distance: float, RatecodeID: string, store_and_fwd_flag: string, PULocationID: string, DOLocationID: string, payment_type: string, fare_amount: float, mta_tax: float, tip_amount: float, tolls_amount: float, journey_length_in_minutes: double, dropoff_day: int, day_of_month: int, dropoff_month: int, dropoff_hour: int, dropoff_minute: int, pickup_hour: int, pickup_minute: int]"
      ]
     },
     "execution_count": 63,
     "metadata": {},
     "output_type": "execute_result"
    }
   ],
   "source": [
    "drop_features = ['extra','improvement_surcharge', 'total_amount']\n",
    "taxi17.drop(*drop_features, inplace =)\n",
    "\n"
   ]
  },
  {
   "cell_type": "code",
   "execution_count": 64,
   "id": "9705f91f",
   "metadata": {},
   "outputs": [
    {
     "data": {
      "text/plain": [
       "['VendorID',\n",
       " 'tpep_pickup_datetime',\n",
       " 'tpep_dropoff_datetime',\n",
       " 'passenger_count',\n",
       " 'trip_distance',\n",
       " 'RatecodeID',\n",
       " 'store_and_fwd_flag',\n",
       " 'PULocationID',\n",
       " 'DOLocationID',\n",
       " 'payment_type',\n",
       " 'fare_amount',\n",
       " 'extra',\n",
       " 'mta_tax',\n",
       " 'tip_amount',\n",
       " 'tolls_amount',\n",
       " 'improvement_surcharge',\n",
       " 'total_amount',\n",
       " 'journey_length_in_minutes',\n",
       " 'dropoff_day',\n",
       " 'day_of_month',\n",
       " 'dropoff_month',\n",
       " 'dropoff_hour',\n",
       " 'dropoff_minute',\n",
       " 'pickup_hour',\n",
       " 'pickup_minute']"
      ]
     },
     "execution_count": 64,
     "metadata": {},
     "output_type": "execute_result"
    }
   ],
   "source": [
    "taxi17.columns"
   ]
  },
  {
   "cell_type": "code",
   "execution_count": null,
   "id": "687f8575",
   "metadata": {},
   "outputs": [],
   "source": [
    "taxi17.coalesce(1).write.mode(\"overwrite\").csv(\"taxi17_cleaned.csv\", header=True)\n",
    "\n"
   ]
  },
  {
   "cell_type": "code",
   "execution_count": null,
   "id": "74b54f1c",
   "metadata": {},
   "outputs": [],
   "source": []
  }
 ],
 "metadata": {
  "kernelspec": {
   "display_name": "Python 3 (ipykernel)",
   "language": "python",
   "name": "python3"
  },
  "language_info": {
   "codemirror_mode": {
    "name": "ipython",
    "version": 3
   },
   "file_extension": ".py",
   "mimetype": "text/x-python",
   "name": "python",
   "nbconvert_exporter": "python",
   "pygments_lexer": "ipython3",
   "version": "3.9.13"
  }
 },
 "nbformat": 4,
 "nbformat_minor": 5
}
